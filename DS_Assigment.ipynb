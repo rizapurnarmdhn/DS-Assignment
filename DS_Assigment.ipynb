{
  "nbformat": 4,
  "nbformat_minor": 0,
  "metadata": {
    "colab": {
      "name": "DS Assigment.ipynb",
      "provenance": [],
      "collapsed_sections": []
    },
    "kernelspec": {
      "name": "python3",
      "display_name": "Python 3"
    },
    "language_info": {
      "name": "python"
    }
  },
  "cells": [
    {
      "cell_type": "code",
      "metadata": {
        "id": "PALBwYJ5uF2y"
      },
      "source": [
        "import pandas as pd\n",
        "import numpy as np"
      ],
      "execution_count": 1,
      "outputs": []
    },
    {
      "cell_type": "code",
      "metadata": {
        "colab": {
          "resources": {
            "http://localhost:8080/nbextensions/google.colab/files.js": {
              "data": "Ly8gQ29weXJpZ2h0IDIwMTcgR29vZ2xlIExMQwovLwovLyBMaWNlbnNlZCB1bmRlciB0aGUgQXBhY2hlIExpY2Vuc2UsIFZlcnNpb24gMi4wICh0aGUgIkxpY2Vuc2UiKTsKLy8geW91IG1heSBub3QgdXNlIHRoaXMgZmlsZSBleGNlcHQgaW4gY29tcGxpYW5jZSB3aXRoIHRoZSBMaWNlbnNlLgovLyBZb3UgbWF5IG9idGFpbiBhIGNvcHkgb2YgdGhlIExpY2Vuc2UgYXQKLy8KLy8gICAgICBodHRwOi8vd3d3LmFwYWNoZS5vcmcvbGljZW5zZXMvTElDRU5TRS0yLjAKLy8KLy8gVW5sZXNzIHJlcXVpcmVkIGJ5IGFwcGxpY2FibGUgbGF3IG9yIGFncmVlZCB0byBpbiB3cml0aW5nLCBzb2Z0d2FyZQovLyBkaXN0cmlidXRlZCB1bmRlciB0aGUgTGljZW5zZSBpcyBkaXN0cmlidXRlZCBvbiBhbiAiQVMgSVMiIEJBU0lTLAovLyBXSVRIT1VUIFdBUlJBTlRJRVMgT1IgQ09ORElUSU9OUyBPRiBBTlkgS0lORCwgZWl0aGVyIGV4cHJlc3Mgb3IgaW1wbGllZC4KLy8gU2VlIHRoZSBMaWNlbnNlIGZvciB0aGUgc3BlY2lmaWMgbGFuZ3VhZ2UgZ292ZXJuaW5nIHBlcm1pc3Npb25zIGFuZAovLyBsaW1pdGF0aW9ucyB1bmRlciB0aGUgTGljZW5zZS4KCi8qKgogKiBAZmlsZW92ZXJ2aWV3IEhlbHBlcnMgZm9yIGdvb2dsZS5jb2xhYiBQeXRob24gbW9kdWxlLgogKi8KKGZ1bmN0aW9uKHNjb3BlKSB7CmZ1bmN0aW9uIHNwYW4odGV4dCwgc3R5bGVBdHRyaWJ1dGVzID0ge30pIHsKICBjb25zdCBlbGVtZW50ID0gZG9jdW1lbnQuY3JlYXRlRWxlbWVudCgnc3BhbicpOwogIGVsZW1lbnQudGV4dENvbnRlbnQgPSB0ZXh0OwogIGZvciAoY29uc3Qga2V5IG9mIE9iamVjdC5rZXlzKHN0eWxlQXR0cmlidXRlcykpIHsKICAgIGVsZW1lbnQuc3R5bGVba2V5XSA9IHN0eWxlQXR0cmlidXRlc1trZXldOwogIH0KICByZXR1cm4gZWxlbWVudDsKfQoKLy8gTWF4IG51bWJlciBvZiBieXRlcyB3aGljaCB3aWxsIGJlIHVwbG9hZGVkIGF0IGEgdGltZS4KY29uc3QgTUFYX1BBWUxPQURfU0laRSA9IDEwMCAqIDEwMjQ7CgpmdW5jdGlvbiBfdXBsb2FkRmlsZXMoaW5wdXRJZCwgb3V0cHV0SWQpIHsKICBjb25zdCBzdGVwcyA9IHVwbG9hZEZpbGVzU3RlcChpbnB1dElkLCBvdXRwdXRJZCk7CiAgY29uc3Qgb3V0cHV0RWxlbWVudCA9IGRvY3VtZW50LmdldEVsZW1lbnRCeUlkKG91dHB1dElkKTsKICAvLyBDYWNoZSBzdGVwcyBvbiB0aGUgb3V0cHV0RWxlbWVudCB0byBtYWtlIGl0IGF2YWlsYWJsZSBmb3IgdGhlIG5leHQgY2FsbAogIC8vIHRvIHVwbG9hZEZpbGVzQ29udGludWUgZnJvbSBQeXRob24uCiAgb3V0cHV0RWxlbWVudC5zdGVwcyA9IHN0ZXBzOwoKICByZXR1cm4gX3VwbG9hZEZpbGVzQ29udGludWUob3V0cHV0SWQpOwp9CgovLyBUaGlzIGlzIHJvdWdobHkgYW4gYXN5bmMgZ2VuZXJhdG9yIChub3Qgc3VwcG9ydGVkIGluIHRoZSBicm93c2VyIHlldCksCi8vIHdoZXJlIHRoZXJlIGFyZSBtdWx0aXBsZSBhc3luY2hyb25vdXMgc3RlcHMgYW5kIHRoZSBQeXRob24gc2lkZSBpcyBnb2luZwovLyB0byBwb2xsIGZvciBjb21wbGV0aW9uIG9mIGVhY2ggc3RlcC4KLy8gVGhpcyB1c2VzIGEgUHJvbWlzZSB0byBibG9jayB0aGUgcHl0aG9uIHNpZGUgb24gY29tcGxldGlvbiBvZiBlYWNoIHN0ZXAsCi8vIHRoZW4gcGFzc2VzIHRoZSByZXN1bHQgb2YgdGhlIHByZXZpb3VzIHN0ZXAgYXMgdGhlIGlucHV0IHRvIHRoZSBuZXh0IHN0ZXAuCmZ1bmN0aW9uIF91cGxvYWRGaWxlc0NvbnRpbnVlKG91dHB1dElkKSB7CiAgY29uc3Qgb3V0cHV0RWxlbWVudCA9IGRvY3VtZW50LmdldEVsZW1lbnRCeUlkKG91dHB1dElkKTsKICBjb25zdCBzdGVwcyA9IG91dHB1dEVsZW1lbnQuc3RlcHM7CgogIGNvbnN0IG5leHQgPSBzdGVwcy5uZXh0KG91dHB1dEVsZW1lbnQubGFzdFByb21pc2VWYWx1ZSk7CiAgcmV0dXJuIFByb21pc2UucmVzb2x2ZShuZXh0LnZhbHVlLnByb21pc2UpLnRoZW4oKHZhbHVlKSA9PiB7CiAgICAvLyBDYWNoZSB0aGUgbGFzdCBwcm9taXNlIHZhbHVlIHRvIG1ha2UgaXQgYXZhaWxhYmxlIHRvIHRoZSBuZXh0CiAgICAvLyBzdGVwIG9mIHRoZSBnZW5lcmF0b3IuCiAgICBvdXRwdXRFbGVtZW50Lmxhc3RQcm9taXNlVmFsdWUgPSB2YWx1ZTsKICAgIHJldHVybiBuZXh0LnZhbHVlLnJlc3BvbnNlOwogIH0pOwp9CgovKioKICogR2VuZXJhdG9yIGZ1bmN0aW9uIHdoaWNoIGlzIGNhbGxlZCBiZXR3ZWVuIGVhY2ggYXN5bmMgc3RlcCBvZiB0aGUgdXBsb2FkCiAqIHByb2Nlc3MuCiAqIEBwYXJhbSB7c3RyaW5nfSBpbnB1dElkIEVsZW1lbnQgSUQgb2YgdGhlIGlucHV0IGZpbGUgcGlja2VyIGVsZW1lbnQuCiAqIEBwYXJhbSB7c3RyaW5nfSBvdXRwdXRJZCBFbGVtZW50IElEIG9mIHRoZSBvdXRwdXQgZGlzcGxheS4KICogQHJldHVybiB7IUl0ZXJhYmxlPCFPYmplY3Q+fSBJdGVyYWJsZSBvZiBuZXh0IHN0ZXBzLgogKi8KZnVuY3Rpb24qIHVwbG9hZEZpbGVzU3RlcChpbnB1dElkLCBvdXRwdXRJZCkgewogIGNvbnN0IGlucHV0RWxlbWVudCA9IGRvY3VtZW50LmdldEVsZW1lbnRCeUlkKGlucHV0SWQpOwogIGlucHV0RWxlbWVudC5kaXNhYmxlZCA9IGZhbHNlOwoKICBjb25zdCBvdXRwdXRFbGVtZW50ID0gZG9jdW1lbnQuZ2V0RWxlbWVudEJ5SWQob3V0cHV0SWQpOwogIG91dHB1dEVsZW1lbnQuaW5uZXJIVE1MID0gJyc7CgogIGNvbnN0IHBpY2tlZFByb21pc2UgPSBuZXcgUHJvbWlzZSgocmVzb2x2ZSkgPT4gewogICAgaW5wdXRFbGVtZW50LmFkZEV2ZW50TGlzdGVuZXIoJ2NoYW5nZScsIChlKSA9PiB7CiAgICAgIHJlc29sdmUoZS50YXJnZXQuZmlsZXMpOwogICAgfSk7CiAgfSk7CgogIGNvbnN0IGNhbmNlbCA9IGRvY3VtZW50LmNyZWF0ZUVsZW1lbnQoJ2J1dHRvbicpOwogIGlucHV0RWxlbWVudC5wYXJlbnRFbGVtZW50LmFwcGVuZENoaWxkKGNhbmNlbCk7CiAgY2FuY2VsLnRleHRDb250ZW50ID0gJ0NhbmNlbCB1cGxvYWQnOwogIGNvbnN0IGNhbmNlbFByb21pc2UgPSBuZXcgUHJvbWlzZSgocmVzb2x2ZSkgPT4gewogICAgY2FuY2VsLm9uY2xpY2sgPSAoKSA9PiB7CiAgICAgIHJlc29sdmUobnVsbCk7CiAgICB9OwogIH0pOwoKICAvLyBXYWl0IGZvciB0aGUgdXNlciB0byBwaWNrIHRoZSBmaWxlcy4KICBjb25zdCBmaWxlcyA9IHlpZWxkIHsKICAgIHByb21pc2U6IFByb21pc2UucmFjZShbcGlja2VkUHJvbWlzZSwgY2FuY2VsUHJvbWlzZV0pLAogICAgcmVzcG9uc2U6IHsKICAgICAgYWN0aW9uOiAnc3RhcnRpbmcnLAogICAgfQogIH07CgogIGNhbmNlbC5yZW1vdmUoKTsKCiAgLy8gRGlzYWJsZSB0aGUgaW5wdXQgZWxlbWVudCBzaW5jZSBmdXJ0aGVyIHBpY2tzIGFyZSBub3QgYWxsb3dlZC4KICBpbnB1dEVsZW1lbnQuZGlzYWJsZWQgPSB0cnVlOwoKICBpZiAoIWZpbGVzKSB7CiAgICByZXR1cm4gewogICAgICByZXNwb25zZTogewogICAgICAgIGFjdGlvbjogJ2NvbXBsZXRlJywKICAgICAgfQogICAgfTsKICB9CgogIGZvciAoY29uc3QgZmlsZSBvZiBmaWxlcykgewogICAgY29uc3QgbGkgPSBkb2N1bWVudC5jcmVhdGVFbGVtZW50KCdsaScpOwogICAgbGkuYXBwZW5kKHNwYW4oZmlsZS5uYW1lLCB7Zm9udFdlaWdodDogJ2JvbGQnfSkpOwogICAgbGkuYXBwZW5kKHNwYW4oCiAgICAgICAgYCgke2ZpbGUudHlwZSB8fCAnbi9hJ30pIC0gJHtmaWxlLnNpemV9IGJ5dGVzLCBgICsKICAgICAgICBgbGFzdCBtb2RpZmllZDogJHsKICAgICAgICAgICAgZmlsZS5sYXN0TW9kaWZpZWREYXRlID8gZmlsZS5sYXN0TW9kaWZpZWREYXRlLnRvTG9jYWxlRGF0ZVN0cmluZygpIDoKICAgICAgICAgICAgICAgICAgICAgICAgICAgICAgICAgICAgJ24vYSd9IC0gYCkpOwogICAgY29uc3QgcGVyY2VudCA9IHNwYW4oJzAlIGRvbmUnKTsKICAgIGxpLmFwcGVuZENoaWxkKHBlcmNlbnQpOwoKICAgIG91dHB1dEVsZW1lbnQuYXBwZW5kQ2hpbGQobGkpOwoKICAgIGNvbnN0IGZpbGVEYXRhUHJvbWlzZSA9IG5ldyBQcm9taXNlKChyZXNvbHZlKSA9PiB7CiAgICAgIGNvbnN0IHJlYWRlciA9IG5ldyBGaWxlUmVhZGVyKCk7CiAgICAgIHJlYWRlci5vbmxvYWQgPSAoZSkgPT4gewogICAgICAgIHJlc29sdmUoZS50YXJnZXQucmVzdWx0KTsKICAgICAgfTsKICAgICAgcmVhZGVyLnJlYWRBc0FycmF5QnVmZmVyKGZpbGUpOwogICAgfSk7CiAgICAvLyBXYWl0IGZvciB0aGUgZGF0YSB0byBiZSByZWFkeS4KICAgIGxldCBmaWxlRGF0YSA9IHlpZWxkIHsKICAgICAgcHJvbWlzZTogZmlsZURhdGFQcm9taXNlLAogICAgICByZXNwb25zZTogewogICAgICAgIGFjdGlvbjogJ2NvbnRpbnVlJywKICAgICAgfQogICAgfTsKCiAgICAvLyBVc2UgYSBjaHVua2VkIHNlbmRpbmcgdG8gYXZvaWQgbWVzc2FnZSBzaXplIGxpbWl0cy4gU2VlIGIvNjIxMTU2NjAuCiAgICBsZXQgcG9zaXRpb24gPSAwOwogICAgZG8gewogICAgICBjb25zdCBsZW5ndGggPSBNYXRoLm1pbihmaWxlRGF0YS5ieXRlTGVuZ3RoIC0gcG9zaXRpb24sIE1BWF9QQVlMT0FEX1NJWkUpOwogICAgICBjb25zdCBjaHVuayA9IG5ldyBVaW50OEFycmF5KGZpbGVEYXRhLCBwb3NpdGlvbiwgbGVuZ3RoKTsKICAgICAgcG9zaXRpb24gKz0gbGVuZ3RoOwoKICAgICAgY29uc3QgYmFzZTY0ID0gYnRvYShTdHJpbmcuZnJvbUNoYXJDb2RlLmFwcGx5KG51bGwsIGNodW5rKSk7CiAgICAgIHlpZWxkIHsKICAgICAgICByZXNwb25zZTogewogICAgICAgICAgYWN0aW9uOiAnYXBwZW5kJywKICAgICAgICAgIGZpbGU6IGZpbGUubmFtZSwKICAgICAgICAgIGRhdGE6IGJhc2U2NCwKICAgICAgICB9LAogICAgICB9OwoKICAgICAgbGV0IHBlcmNlbnREb25lID0gZmlsZURhdGEuYnl0ZUxlbmd0aCA9PT0gMCA/CiAgICAgICAgICAxMDAgOgogICAgICAgICAgTWF0aC5yb3VuZCgocG9zaXRpb24gLyBmaWxlRGF0YS5ieXRlTGVuZ3RoKSAqIDEwMCk7CiAgICAgIHBlcmNlbnQudGV4dENvbnRlbnQgPSBgJHtwZXJjZW50RG9uZX0lIGRvbmVgOwoKICAgIH0gd2hpbGUgKHBvc2l0aW9uIDwgZmlsZURhdGEuYnl0ZUxlbmd0aCk7CiAgfQoKICAvLyBBbGwgZG9uZS4KICB5aWVsZCB7CiAgICByZXNwb25zZTogewogICAgICBhY3Rpb246ICdjb21wbGV0ZScsCiAgICB9CiAgfTsKfQoKc2NvcGUuZ29vZ2xlID0gc2NvcGUuZ29vZ2xlIHx8IHt9OwpzY29wZS5nb29nbGUuY29sYWIgPSBzY29wZS5nb29nbGUuY29sYWIgfHwge307CnNjb3BlLmdvb2dsZS5jb2xhYi5fZmlsZXMgPSB7CiAgX3VwbG9hZEZpbGVzLAogIF91cGxvYWRGaWxlc0NvbnRpbnVlLAp9Owp9KShzZWxmKTsK",
              "ok": true,
              "headers": [
                [
                  "content-type",
                  "application/javascript"
                ]
              ],
              "status": 200,
              "status_text": ""
            }
          },
          "base_uri": "https://localhost:8080/",
          "height": 73
        },
        "id": "u5GRE-7JmVku",
        "outputId": "51574808-79a6-4473-b963-9b3d9a362efb"
      },
      "source": [
        "from google.colab import files\n",
        "uploaded = files.upload()"
      ],
      "execution_count": 4,
      "outputs": [
        {
          "output_type": "display_data",
          "data": {
            "text/html": [
              "\n",
              "     <input type=\"file\" id=\"files-95973cb5-487e-452a-838f-52f060485caf\" name=\"files[]\" multiple disabled\n",
              "        style=\"border:none\" />\n",
              "     <output id=\"result-95973cb5-487e-452a-838f-52f060485caf\">\n",
              "      Upload widget is only available when the cell has been executed in the\n",
              "      current browser session. Please rerun this cell to enable.\n",
              "      </output>\n",
              "      <script src=\"/nbextensions/google.colab/files.js\"></script> "
            ],
            "text/plain": [
              "<IPython.core.display.HTML object>"
            ]
          },
          "metadata": {}
        },
        {
          "output_type": "stream",
          "text": [
            "Saving daftar_siklus.csv to daftar_siklus.csv\n"
          ],
          "name": "stdout"
        }
      ]
    },
    {
      "cell_type": "code",
      "metadata": {
        "colab": {
          "base_uri": "https://localhost:8080/",
          "height": 240
        },
        "id": "zdwskr_XuLLT",
        "outputId": "918eb46a-935d-4ab4-dcac-0236eab726c5"
      },
      "source": [
        "budidaya = pd.read_csv(\"Budidaya.csv\", header=0)\n",
        "budidaya.head(5)"
      ],
      "execution_count": 2,
      "outputs": [
        {
          "output_type": "execute_result",
          "data": {
            "text/html": [
              "<div>\n",
              "<style scoped>\n",
              "    .dataframe tbody tr th:only-of-type {\n",
              "        vertical-align: middle;\n",
              "    }\n",
              "\n",
              "    .dataframe tbody tr th {\n",
              "        vertical-align: top;\n",
              "    }\n",
              "\n",
              "    .dataframe thead th {\n",
              "        text-align: right;\n",
              "    }\n",
              "</style>\n",
              "<table border=\"1\" class=\"dataframe\">\n",
              "  <thead>\n",
              "    <tr style=\"text-align: right;\">\n",
              "      <th></th>\n",
              "      <th>Kode Siklus</th>\n",
              "      <th>Age</th>\n",
              "      <th>Date</th>\n",
              "      <th>ABW</th>\n",
              "      <th>Size</th>\n",
              "      <th>Total Weight</th>\n",
              "      <th>Feed</th>\n",
              "      <th>Feed Accumulation</th>\n",
              "      <th>Survival Rate</th>\n",
              "      <th>Panen</th>\n",
              "      <th>Berat Panen</th>\n",
              "    </tr>\n",
              "  </thead>\n",
              "  <tbody>\n",
              "    <tr>\n",
              "      <th>0</th>\n",
              "      <td>50</td>\n",
              "      <td>0</td>\n",
              "      <td>7/16/2018</td>\n",
              "      <td>NaN</td>\n",
              "      <td>NaN</td>\n",
              "      <td>NaN</td>\n",
              "      <td>NaN</td>\n",
              "      <td>0.0</td>\n",
              "      <td>100.00</td>\n",
              "      <td>NaN</td>\n",
              "      <td>NaN</td>\n",
              "    </tr>\n",
              "    <tr>\n",
              "      <th>1</th>\n",
              "      <td>50</td>\n",
              "      <td>1</td>\n",
              "      <td>7/17/2018</td>\n",
              "      <td>NaN</td>\n",
              "      <td>NaN</td>\n",
              "      <td>NaN</td>\n",
              "      <td>2.5</td>\n",
              "      <td>2.5</td>\n",
              "      <td>78.13</td>\n",
              "      <td>NaN</td>\n",
              "      <td>NaN</td>\n",
              "    </tr>\n",
              "    <tr>\n",
              "      <th>2</th>\n",
              "      <td>50</td>\n",
              "      <td>2</td>\n",
              "      <td>7/18/2018</td>\n",
              "      <td>NaN</td>\n",
              "      <td>NaN</td>\n",
              "      <td>NaN</td>\n",
              "      <td>3.0</td>\n",
              "      <td>5.5</td>\n",
              "      <td>88.24</td>\n",
              "      <td>NaN</td>\n",
              "      <td>NaN</td>\n",
              "    </tr>\n",
              "    <tr>\n",
              "      <th>3</th>\n",
              "      <td>50</td>\n",
              "      <td>3</td>\n",
              "      <td>7/19/2018</td>\n",
              "      <td>NaN</td>\n",
              "      <td>NaN</td>\n",
              "      <td>NaN</td>\n",
              "      <td>3.0</td>\n",
              "      <td>8.5</td>\n",
              "      <td>83.33</td>\n",
              "      <td>NaN</td>\n",
              "      <td>NaN</td>\n",
              "    </tr>\n",
              "    <tr>\n",
              "      <th>4</th>\n",
              "      <td>50</td>\n",
              "      <td>4</td>\n",
              "      <td>7/20/2018</td>\n",
              "      <td>NaN</td>\n",
              "      <td>NaN</td>\n",
              "      <td>NaN</td>\n",
              "      <td>3.0</td>\n",
              "      <td>11.5</td>\n",
              "      <td>78.95</td>\n",
              "      <td>NaN</td>\n",
              "      <td>NaN</td>\n",
              "    </tr>\n",
              "  </tbody>\n",
              "</table>\n",
              "</div>"
            ],
            "text/plain": [
              "   Kode Siklus  Age       Date  ...  Survival Rate  Panen  Berat Panen\n",
              "0           50    0  7/16/2018  ...         100.00    NaN          NaN\n",
              "1           50    1  7/17/2018  ...          78.13    NaN          NaN\n",
              "2           50    2  7/18/2018  ...          88.24    NaN          NaN\n",
              "3           50    3  7/19/2018  ...          83.33    NaN          NaN\n",
              "4           50    4  7/20/2018  ...          78.95    NaN          NaN\n",
              "\n",
              "[5 rows x 11 columns]"
            ]
          },
          "metadata": {},
          "execution_count": 2
        }
      ]
    },
    {
      "cell_type": "code",
      "metadata": {
        "colab": {
          "base_uri": "https://localhost:8080/",
          "height": 321
        },
        "id": "_ZNLoVZm1vqX",
        "outputId": "7ca91d7a-4084-4a6e-da57-014056335b72"
      },
      "source": [
        "daftar_siklus = pd.read_csv('daftar_siklus.csv')\n",
        "daftar_siklus.head(5)"
      ],
      "execution_count": 3,
      "outputs": [
        {
          "output_type": "execute_result",
          "data": {
            "text/html": [
              "<div>\n",
              "<style scoped>\n",
              "    .dataframe tbody tr th:only-of-type {\n",
              "        vertical-align: middle;\n",
              "    }\n",
              "\n",
              "    .dataframe tbody tr th {\n",
              "        vertical-align: top;\n",
              "    }\n",
              "\n",
              "    .dataframe thead th {\n",
              "        text-align: right;\n",
              "    }\n",
              "</style>\n",
              "<table border=\"1\" class=\"dataframe\">\n",
              "  <thead>\n",
              "    <tr style=\"text-align: right;\">\n",
              "      <th></th>\n",
              "      <th>Kode Siklus</th>\n",
              "      <th>Kode Kolam</th>\n",
              "      <th>Panjang Kolam</th>\n",
              "      <th>Lebar Kolam</th>\n",
              "      <th>Kedalaman Kolam</th>\n",
              "      <th>Tanggal Tebar</th>\n",
              "      <th>Tanggal Selesai Siklus</th>\n",
              "      <th>Jumlah Benur</th>\n",
              "      <th>Daerah</th>\n",
              "    </tr>\n",
              "  </thead>\n",
              "  <tbody>\n",
              "    <tr>\n",
              "      <th>0</th>\n",
              "      <td>50</td>\n",
              "      <td>2266</td>\n",
              "      <td>115.47</td>\n",
              "      <td>86.60</td>\n",
              "      <td>100.0</td>\n",
              "      <td>2018-07-16</td>\n",
              "      <td>2018-11-13</td>\n",
              "      <td>100000</td>\n",
              "      <td>BANTUL</td>\n",
              "    </tr>\n",
              "    <tr>\n",
              "      <th>1</th>\n",
              "      <td>66</td>\n",
              "      <td>3</td>\n",
              "      <td>36.20</td>\n",
              "      <td>46.40</td>\n",
              "      <td>1.1</td>\n",
              "      <td>2018-07-20</td>\n",
              "      <td>2018-11-08</td>\n",
              "      <td>200000</td>\n",
              "      <td>PURWOREJO</td>\n",
              "    </tr>\n",
              "    <tr>\n",
              "      <th>2</th>\n",
              "      <td>295</td>\n",
              "      <td>3418</td>\n",
              "      <td>79.16</td>\n",
              "      <td>59.37</td>\n",
              "      <td>1.5</td>\n",
              "      <td>2019-01-05</td>\n",
              "      <td>2019-03-03</td>\n",
              "      <td>583740</td>\n",
              "      <td>LAMPUNG SELATAN</td>\n",
              "    </tr>\n",
              "    <tr>\n",
              "      <th>3</th>\n",
              "      <td>298</td>\n",
              "      <td>3421</td>\n",
              "      <td>79.16</td>\n",
              "      <td>59.37</td>\n",
              "      <td>1.5</td>\n",
              "      <td>2019-01-10</td>\n",
              "      <td>2019-03-10</td>\n",
              "      <td>588432</td>\n",
              "      <td>LAMPUNG SELATAN</td>\n",
              "    </tr>\n",
              "    <tr>\n",
              "      <th>4</th>\n",
              "      <td>812</td>\n",
              "      <td>4</td>\n",
              "      <td>49.90</td>\n",
              "      <td>36.30</td>\n",
              "      <td>0.9</td>\n",
              "      <td>2019-05-07</td>\n",
              "      <td>2019-08-01</td>\n",
              "      <td>175000</td>\n",
              "      <td>PURWOREJO</td>\n",
              "    </tr>\n",
              "  </tbody>\n",
              "</table>\n",
              "</div>"
            ],
            "text/plain": [
              "   Kode Siklus  Kode Kolam  ...  Jumlah Benur           Daerah\n",
              "0           50        2266  ...        100000           BANTUL\n",
              "1           66           3  ...        200000        PURWOREJO\n",
              "2          295        3418  ...        583740  LAMPUNG SELATAN\n",
              "3          298        3421  ...        588432  LAMPUNG SELATAN\n",
              "4          812           4  ...        175000        PURWOREJO\n",
              "\n",
              "[5 rows x 9 columns]"
            ]
          },
          "metadata": {},
          "execution_count": 3
        }
      ]
    },
    {
      "cell_type": "code",
      "metadata": {
        "colab": {
          "base_uri": "https://localhost:8080/",
          "height": 203
        },
        "id": "aLj-p1Rn17WX",
        "outputId": "005e5c7b-1865-4e5e-9485-acf3515e0e22"
      },
      "source": [
        "df_siklus= daftar_siklus[['Kode Siklus','Kode Kolam']]\n",
        "df_siklus"
      ],
      "execution_count": 4,
      "outputs": [
        {
          "output_type": "execute_result",
          "data": {
            "text/html": [
              "<div>\n",
              "<style scoped>\n",
              "    .dataframe tbody tr th:only-of-type {\n",
              "        vertical-align: middle;\n",
              "    }\n",
              "\n",
              "    .dataframe tbody tr th {\n",
              "        vertical-align: top;\n",
              "    }\n",
              "\n",
              "    .dataframe thead th {\n",
              "        text-align: right;\n",
              "    }\n",
              "</style>\n",
              "<table border=\"1\" class=\"dataframe\">\n",
              "  <thead>\n",
              "    <tr style=\"text-align: right;\">\n",
              "      <th></th>\n",
              "      <th>Kode Siklus</th>\n",
              "      <th>Kode Kolam</th>\n",
              "    </tr>\n",
              "  </thead>\n",
              "  <tbody>\n",
              "    <tr>\n",
              "      <th>0</th>\n",
              "      <td>50</td>\n",
              "      <td>2266</td>\n",
              "    </tr>\n",
              "    <tr>\n",
              "      <th>1</th>\n",
              "      <td>66</td>\n",
              "      <td>3</td>\n",
              "    </tr>\n",
              "    <tr>\n",
              "      <th>2</th>\n",
              "      <td>295</td>\n",
              "      <td>3418</td>\n",
              "    </tr>\n",
              "    <tr>\n",
              "      <th>3</th>\n",
              "      <td>298</td>\n",
              "      <td>3421</td>\n",
              "    </tr>\n",
              "    <tr>\n",
              "      <th>4</th>\n",
              "      <td>812</td>\n",
              "      <td>4</td>\n",
              "    </tr>\n",
              "  </tbody>\n",
              "</table>\n",
              "</div>"
            ],
            "text/plain": [
              "   Kode Siklus  Kode Kolam\n",
              "0           50        2266\n",
              "1           66           3\n",
              "2          295        3418\n",
              "3          298        3421\n",
              "4          812           4"
            ]
          },
          "metadata": {},
          "execution_count": 4
        }
      ]
    },
    {
      "cell_type": "code",
      "metadata": {
        "id": "YC0vSlVM1vqY"
      },
      "source": [
        "budidaya1 = pd.merge(budidaya, df_siklus, on='Kode Siklus')"
      ],
      "execution_count": 5,
      "outputs": []
    },
    {
      "cell_type": "code",
      "metadata": {
        "colab": {
          "base_uri": "https://localhost:8080/"
        },
        "id": "pwwwArPw2ztn",
        "outputId": "f5f2ff2e-0efc-4166-c486-39e8d15a6f56"
      },
      "source": [
        "budidaya1.info()"
      ],
      "execution_count": 6,
      "outputs": [
        {
          "output_type": "stream",
          "text": [
            "<class 'pandas.core.frame.DataFrame'>\n",
            "Int64Index: 438 entries, 0 to 437\n",
            "Data columns (total 12 columns):\n",
            " #   Column             Non-Null Count  Dtype  \n",
            "---  ------             --------------  -----  \n",
            " 0   Kode Siklus        438 non-null    int64  \n",
            " 1   Age                438 non-null    int64  \n",
            " 2   Date               438 non-null    object \n",
            " 3   ABW                34 non-null     float64\n",
            " 4   Size               34 non-null     float64\n",
            " 5   Total Weight       34 non-null     float64\n",
            " 6   Feed               364 non-null    float64\n",
            " 7   Feed Accumulation  438 non-null    float64\n",
            " 8   Survival Rate      438 non-null    float64\n",
            " 9   Panen              7 non-null      float64\n",
            " 10  Berat Panen        7 non-null      float64\n",
            " 11  Kode Kolam         438 non-null    int64  \n",
            "dtypes: float64(8), int64(3), object(1)\n",
            "memory usage: 44.5+ KB\n"
          ],
          "name": "stdout"
        }
      ]
    },
    {
      "cell_type": "code",
      "metadata": {
        "colab": {
          "base_uri": "https://localhost:8080/",
          "height": 240
        },
        "id": "NpYyN3ND5bUa",
        "outputId": "c93dcc8b-3bf9-4aa2-e331-e696fb47dc97"
      },
      "source": [
        "budidaya1.head()"
      ],
      "execution_count": 7,
      "outputs": [
        {
          "output_type": "execute_result",
          "data": {
            "text/html": [
              "<div>\n",
              "<style scoped>\n",
              "    .dataframe tbody tr th:only-of-type {\n",
              "        vertical-align: middle;\n",
              "    }\n",
              "\n",
              "    .dataframe tbody tr th {\n",
              "        vertical-align: top;\n",
              "    }\n",
              "\n",
              "    .dataframe thead th {\n",
              "        text-align: right;\n",
              "    }\n",
              "</style>\n",
              "<table border=\"1\" class=\"dataframe\">\n",
              "  <thead>\n",
              "    <tr style=\"text-align: right;\">\n",
              "      <th></th>\n",
              "      <th>Kode Siklus</th>\n",
              "      <th>Age</th>\n",
              "      <th>Date</th>\n",
              "      <th>ABW</th>\n",
              "      <th>Size</th>\n",
              "      <th>Total Weight</th>\n",
              "      <th>Feed</th>\n",
              "      <th>Feed Accumulation</th>\n",
              "      <th>Survival Rate</th>\n",
              "      <th>Panen</th>\n",
              "      <th>Berat Panen</th>\n",
              "      <th>Kode Kolam</th>\n",
              "    </tr>\n",
              "  </thead>\n",
              "  <tbody>\n",
              "    <tr>\n",
              "      <th>0</th>\n",
              "      <td>50</td>\n",
              "      <td>0</td>\n",
              "      <td>7/16/2018</td>\n",
              "      <td>NaN</td>\n",
              "      <td>NaN</td>\n",
              "      <td>NaN</td>\n",
              "      <td>NaN</td>\n",
              "      <td>0.0</td>\n",
              "      <td>100.00</td>\n",
              "      <td>NaN</td>\n",
              "      <td>NaN</td>\n",
              "      <td>2266</td>\n",
              "    </tr>\n",
              "    <tr>\n",
              "      <th>1</th>\n",
              "      <td>50</td>\n",
              "      <td>1</td>\n",
              "      <td>7/17/2018</td>\n",
              "      <td>NaN</td>\n",
              "      <td>NaN</td>\n",
              "      <td>NaN</td>\n",
              "      <td>2.5</td>\n",
              "      <td>2.5</td>\n",
              "      <td>78.13</td>\n",
              "      <td>NaN</td>\n",
              "      <td>NaN</td>\n",
              "      <td>2266</td>\n",
              "    </tr>\n",
              "    <tr>\n",
              "      <th>2</th>\n",
              "      <td>50</td>\n",
              "      <td>2</td>\n",
              "      <td>7/18/2018</td>\n",
              "      <td>NaN</td>\n",
              "      <td>NaN</td>\n",
              "      <td>NaN</td>\n",
              "      <td>3.0</td>\n",
              "      <td>5.5</td>\n",
              "      <td>88.24</td>\n",
              "      <td>NaN</td>\n",
              "      <td>NaN</td>\n",
              "      <td>2266</td>\n",
              "    </tr>\n",
              "    <tr>\n",
              "      <th>3</th>\n",
              "      <td>50</td>\n",
              "      <td>3</td>\n",
              "      <td>7/19/2018</td>\n",
              "      <td>NaN</td>\n",
              "      <td>NaN</td>\n",
              "      <td>NaN</td>\n",
              "      <td>3.0</td>\n",
              "      <td>8.5</td>\n",
              "      <td>83.33</td>\n",
              "      <td>NaN</td>\n",
              "      <td>NaN</td>\n",
              "      <td>2266</td>\n",
              "    </tr>\n",
              "    <tr>\n",
              "      <th>4</th>\n",
              "      <td>50</td>\n",
              "      <td>4</td>\n",
              "      <td>7/20/2018</td>\n",
              "      <td>NaN</td>\n",
              "      <td>NaN</td>\n",
              "      <td>NaN</td>\n",
              "      <td>3.0</td>\n",
              "      <td>11.5</td>\n",
              "      <td>78.95</td>\n",
              "      <td>NaN</td>\n",
              "      <td>NaN</td>\n",
              "      <td>2266</td>\n",
              "    </tr>\n",
              "  </tbody>\n",
              "</table>\n",
              "</div>"
            ],
            "text/plain": [
              "   Kode Siklus  Age       Date  ...  Panen  Berat Panen  Kode Kolam\n",
              "0           50    0  7/16/2018  ...    NaN          NaN        2266\n",
              "1           50    1  7/17/2018  ...    NaN          NaN        2266\n",
              "2           50    2  7/18/2018  ...    NaN          NaN        2266\n",
              "3           50    3  7/19/2018  ...    NaN          NaN        2266\n",
              "4           50    4  7/20/2018  ...    NaN          NaN        2266\n",
              "\n",
              "[5 rows x 12 columns]"
            ]
          },
          "metadata": {},
          "execution_count": 7
        }
      ]
    },
    {
      "cell_type": "code",
      "metadata": {
        "id": "eqpcmlHh0Fh_"
      },
      "source": [
        "budidaya1['Kode Siklus']= budidaya1['Kode Siklus'].astype('object')"
      ],
      "execution_count": 8,
      "outputs": []
    },
    {
      "cell_type": "code",
      "metadata": {
        "colab": {
          "base_uri": "https://localhost:8080/",
          "height": 302
        },
        "id": "DJcZ96o9y-_l",
        "outputId": "c3b5f59a-05d7-49e9-c45d-42e95e8e4832"
      },
      "source": [
        "budidaya2= budidaya1[budidaya1['Berat Panen'].notnull()]\n",
        "budidaya2"
      ],
      "execution_count": 9,
      "outputs": [
        {
          "output_type": "execute_result",
          "data": {
            "text/html": [
              "<div>\n",
              "<style scoped>\n",
              "    .dataframe tbody tr th:only-of-type {\n",
              "        vertical-align: middle;\n",
              "    }\n",
              "\n",
              "    .dataframe tbody tr th {\n",
              "        vertical-align: top;\n",
              "    }\n",
              "\n",
              "    .dataframe thead th {\n",
              "        text-align: right;\n",
              "    }\n",
              "</style>\n",
              "<table border=\"1\" class=\"dataframe\">\n",
              "  <thead>\n",
              "    <tr style=\"text-align: right;\">\n",
              "      <th></th>\n",
              "      <th>Kode Siklus</th>\n",
              "      <th>Age</th>\n",
              "      <th>Date</th>\n",
              "      <th>ABW</th>\n",
              "      <th>Size</th>\n",
              "      <th>Total Weight</th>\n",
              "      <th>Feed</th>\n",
              "      <th>Feed Accumulation</th>\n",
              "      <th>Survival Rate</th>\n",
              "      <th>Panen</th>\n",
              "      <th>Berat Panen</th>\n",
              "      <th>Kode Kolam</th>\n",
              "    </tr>\n",
              "  </thead>\n",
              "  <tbody>\n",
              "    <tr>\n",
              "      <th>51</th>\n",
              "      <td>50</td>\n",
              "      <td>51</td>\n",
              "      <td>9/5/2018</td>\n",
              "      <td>6.67</td>\n",
              "      <td>150.0</td>\n",
              "      <td>545.806100</td>\n",
              "      <td>0.0</td>\n",
              "      <td>559.0</td>\n",
              "      <td>81.83</td>\n",
              "      <td>81830.0</td>\n",
              "      <td>532.75</td>\n",
              "      <td>2266</td>\n",
              "    </tr>\n",
              "    <tr>\n",
              "      <th>187</th>\n",
              "      <td>66</td>\n",
              "      <td>66</td>\n",
              "      <td>9/24/2018</td>\n",
              "      <td>10.53</td>\n",
              "      <td>95.0</td>\n",
              "      <td>1217.025810</td>\n",
              "      <td>43.0</td>\n",
              "      <td>2117.0</td>\n",
              "      <td>81.30</td>\n",
              "      <td>47019.0</td>\n",
              "      <td>483.62</td>\n",
              "      <td>3</td>\n",
              "    </tr>\n",
              "    <tr>\n",
              "      <th>206</th>\n",
              "      <td>66</td>\n",
              "      <td>85</td>\n",
              "      <td>10/13/2018</td>\n",
              "      <td>12.35</td>\n",
              "      <td>81.0</td>\n",
              "      <td>983.097050</td>\n",
              "      <td>44.0</td>\n",
              "      <td>2985.0</td>\n",
              "      <td>83.27</td>\n",
              "      <td>39922.0</td>\n",
              "      <td>475.05</td>\n",
              "      <td>3</td>\n",
              "    </tr>\n",
              "    <tr>\n",
              "      <th>218</th>\n",
              "      <td>66</td>\n",
              "      <td>97</td>\n",
              "      <td>10/25/2018</td>\n",
              "      <td>13.70</td>\n",
              "      <td>73.0</td>\n",
              "      <td>703.481300</td>\n",
              "      <td>27.0</td>\n",
              "      <td>3380.0</td>\n",
              "      <td>83.58</td>\n",
              "      <td>28861.0</td>\n",
              "      <td>379.65</td>\n",
              "      <td>3</td>\n",
              "    </tr>\n",
              "    <tr>\n",
              "      <th>232</th>\n",
              "      <td>66</td>\n",
              "      <td>111</td>\n",
              "      <td>11/8/2018</td>\n",
              "      <td>15.38</td>\n",
              "      <td>65.0</td>\n",
              "      <td>2861.602800</td>\n",
              "      <td>21.0</td>\n",
              "      <td>3674.0</td>\n",
              "      <td>93.03</td>\n",
              "      <td>70262.0</td>\n",
              "      <td>910.11</td>\n",
              "      <td>3</td>\n",
              "    </tr>\n",
              "    <tr>\n",
              "      <th>350</th>\n",
              "      <td>298</td>\n",
              "      <td>59</td>\n",
              "      <td>3/10/2019</td>\n",
              "      <td>9.17</td>\n",
              "      <td>109.0</td>\n",
              "      <td>4973.420791</td>\n",
              "      <td>0.0</td>\n",
              "      <td>5834.0</td>\n",
              "      <td>92.17</td>\n",
              "      <td>542368.0</td>\n",
              "      <td>4975.85</td>\n",
              "      <td>3421</td>\n",
              "    </tr>\n",
              "    <tr>\n",
              "      <th>437</th>\n",
              "      <td>812</td>\n",
              "      <td>86</td>\n",
              "      <td>8/1/2019</td>\n",
              "      <td>15.87</td>\n",
              "      <td>63.0</td>\n",
              "      <td>799.014825</td>\n",
              "      <td>0.0</td>\n",
              "      <td>1630.0</td>\n",
              "      <td>28.77</td>\n",
              "      <td>50353.0</td>\n",
              "      <td>734.58</td>\n",
              "      <td>4</td>\n",
              "    </tr>\n",
              "  </tbody>\n",
              "</table>\n",
              "</div>"
            ],
            "text/plain": [
              "    Kode Siklus  Age        Date  ...     Panen  Berat Panen  Kode Kolam\n",
              "51           50   51    9/5/2018  ...   81830.0       532.75        2266\n",
              "187          66   66   9/24/2018  ...   47019.0       483.62           3\n",
              "206          66   85  10/13/2018  ...   39922.0       475.05           3\n",
              "218          66   97  10/25/2018  ...   28861.0       379.65           3\n",
              "232          66  111   11/8/2018  ...   70262.0       910.11           3\n",
              "350         298   59   3/10/2019  ...  542368.0      4975.85        3421\n",
              "437         812   86    8/1/2019  ...   50353.0       734.58           4\n",
              "\n",
              "[7 rows x 12 columns]"
            ]
          },
          "metadata": {},
          "execution_count": 9
        }
      ]
    },
    {
      "cell_type": "code",
      "metadata": {
        "colab": {
          "base_uri": "https://localhost:8080/"
        },
        "id": "NqdCjYjezpmc",
        "outputId": "2c4c77bb-ff8c-42f5-db43-720d95a3948b"
      },
      "source": [
        "budidaya3= budidaya2.groupby('Kode Kolam')['Berat Panen'].sum()\n",
        "budidaya3\n"
      ],
      "execution_count": 10,
      "outputs": [
        {
          "output_type": "execute_result",
          "data": {
            "text/plain": [
              "Kode Kolam\n",
              "3       2248.43\n",
              "4        734.58\n",
              "2266     532.75\n",
              "3421    4975.85\n",
              "Name: Berat Panen, dtype: float64"
            ]
          },
          "metadata": {},
          "execution_count": 10
        }
      ]
    },
    {
      "cell_type": "code",
      "metadata": {
        "colab": {
          "base_uri": "https://localhost:8080/"
        },
        "id": "TPJjn0toQbqF",
        "outputId": "ad3cdb0b-741c-4c7d-f762-1cdeae41e202"
      },
      "source": [
        "budidaya4= budidaya2.groupby('Kode Kolam')['Panen'].sum()\n",
        "budidaya4"
      ],
      "execution_count": 11,
      "outputs": [
        {
          "output_type": "execute_result",
          "data": {
            "text/plain": [
              "Kode Kolam\n",
              "3       186064.0\n",
              "4        50353.0\n",
              "2266     81830.0\n",
              "3421    542368.0\n",
              "Name: Panen, dtype: float64"
            ]
          },
          "metadata": {},
          "execution_count": 11
        }
      ]
    },
    {
      "cell_type": "code",
      "metadata": {
        "colab": {
          "base_uri": "https://localhost:8080/",
          "height": 417
        },
        "id": "9LDGyyD5uLIf",
        "outputId": "e77919e8-292a-4695-a4b2-51f339ec92bc"
      },
      "source": [
        "budidaya1 = budidaya.iloc[:, 0:9]\n",
        "budidaya1"
      ],
      "execution_count": null,
      "outputs": [
        {
          "output_type": "execute_result",
          "data": {
            "text/html": [
              "<div>\n",
              "<style scoped>\n",
              "    .dataframe tbody tr th:only-of-type {\n",
              "        vertical-align: middle;\n",
              "    }\n",
              "\n",
              "    .dataframe tbody tr th {\n",
              "        vertical-align: top;\n",
              "    }\n",
              "\n",
              "    .dataframe thead th {\n",
              "        text-align: right;\n",
              "    }\n",
              "</style>\n",
              "<table border=\"1\" class=\"dataframe\">\n",
              "  <thead>\n",
              "    <tr style=\"text-align: right;\">\n",
              "      <th></th>\n",
              "      <th>Kode Siklus</th>\n",
              "      <th>Age</th>\n",
              "      <th>Date</th>\n",
              "      <th>ABW</th>\n",
              "      <th>Size</th>\n",
              "      <th>Total Weight</th>\n",
              "      <th>Feed</th>\n",
              "      <th>Feed Accumulation</th>\n",
              "      <th>Survival Rate</th>\n",
              "    </tr>\n",
              "  </thead>\n",
              "  <tbody>\n",
              "    <tr>\n",
              "      <th>0</th>\n",
              "      <td>50</td>\n",
              "      <td>0</td>\n",
              "      <td>7/16/2018</td>\n",
              "      <td>NaN</td>\n",
              "      <td>NaN</td>\n",
              "      <td>NaN</td>\n",
              "      <td>NaN</td>\n",
              "      <td>0.0</td>\n",
              "      <td>100.00</td>\n",
              "    </tr>\n",
              "    <tr>\n",
              "      <th>1</th>\n",
              "      <td>50</td>\n",
              "      <td>1</td>\n",
              "      <td>7/17/2018</td>\n",
              "      <td>NaN</td>\n",
              "      <td>NaN</td>\n",
              "      <td>NaN</td>\n",
              "      <td>2.5</td>\n",
              "      <td>2.5</td>\n",
              "      <td>78.13</td>\n",
              "    </tr>\n",
              "    <tr>\n",
              "      <th>2</th>\n",
              "      <td>50</td>\n",
              "      <td>2</td>\n",
              "      <td>7/18/2018</td>\n",
              "      <td>NaN</td>\n",
              "      <td>NaN</td>\n",
              "      <td>NaN</td>\n",
              "      <td>3.0</td>\n",
              "      <td>5.5</td>\n",
              "      <td>88.24</td>\n",
              "    </tr>\n",
              "    <tr>\n",
              "      <th>3</th>\n",
              "      <td>50</td>\n",
              "      <td>3</td>\n",
              "      <td>7/19/2018</td>\n",
              "      <td>NaN</td>\n",
              "      <td>NaN</td>\n",
              "      <td>NaN</td>\n",
              "      <td>3.0</td>\n",
              "      <td>8.5</td>\n",
              "      <td>83.33</td>\n",
              "    </tr>\n",
              "    <tr>\n",
              "      <th>4</th>\n",
              "      <td>50</td>\n",
              "      <td>4</td>\n",
              "      <td>7/20/2018</td>\n",
              "      <td>NaN</td>\n",
              "      <td>NaN</td>\n",
              "      <td>NaN</td>\n",
              "      <td>3.0</td>\n",
              "      <td>11.5</td>\n",
              "      <td>78.95</td>\n",
              "    </tr>\n",
              "    <tr>\n",
              "      <th>...</th>\n",
              "      <td>...</td>\n",
              "      <td>...</td>\n",
              "      <td>...</td>\n",
              "      <td>...</td>\n",
              "      <td>...</td>\n",
              "      <td>...</td>\n",
              "      <td>...</td>\n",
              "      <td>...</td>\n",
              "      <td>...</td>\n",
              "    </tr>\n",
              "    <tr>\n",
              "      <th>433</th>\n",
              "      <td>812</td>\n",
              "      <td>82</td>\n",
              "      <td>7/28/2019</td>\n",
              "      <td>NaN</td>\n",
              "      <td>NaN</td>\n",
              "      <td>NaN</td>\n",
              "      <td>24.0</td>\n",
              "      <td>1558.0</td>\n",
              "      <td>33.51</td>\n",
              "    </tr>\n",
              "    <tr>\n",
              "      <th>434</th>\n",
              "      <td>812</td>\n",
              "      <td>83</td>\n",
              "      <td>7/29/2019</td>\n",
              "      <td>NaN</td>\n",
              "      <td>NaN</td>\n",
              "      <td>NaN</td>\n",
              "      <td>24.0</td>\n",
              "      <td>1582.0</td>\n",
              "      <td>33.18</td>\n",
              "    </tr>\n",
              "    <tr>\n",
              "      <th>435</th>\n",
              "      <td>812</td>\n",
              "      <td>84</td>\n",
              "      <td>7/30/2019</td>\n",
              "      <td>NaN</td>\n",
              "      <td>NaN</td>\n",
              "      <td>NaN</td>\n",
              "      <td>24.0</td>\n",
              "      <td>1606.0</td>\n",
              "      <td>32.86</td>\n",
              "    </tr>\n",
              "    <tr>\n",
              "      <th>436</th>\n",
              "      <td>812</td>\n",
              "      <td>85</td>\n",
              "      <td>7/31/2019</td>\n",
              "      <td>NaN</td>\n",
              "      <td>NaN</td>\n",
              "      <td>NaN</td>\n",
              "      <td>24.0</td>\n",
              "      <td>1630.0</td>\n",
              "      <td>32.55</td>\n",
              "    </tr>\n",
              "    <tr>\n",
              "      <th>437</th>\n",
              "      <td>812</td>\n",
              "      <td>86</td>\n",
              "      <td>8/1/2019</td>\n",
              "      <td>15.87</td>\n",
              "      <td>63.0</td>\n",
              "      <td>0.0</td>\n",
              "      <td>NaN</td>\n",
              "      <td>1630.0</td>\n",
              "      <td>28.77</td>\n",
              "    </tr>\n",
              "  </tbody>\n",
              "</table>\n",
              "<p>438 rows × 9 columns</p>\n",
              "</div>"
            ],
            "text/plain": [
              "     Kode Siklus  Age       Date  ...  Feed   Feed Accumulation  Survival Rate\n",
              "0             50    0  7/16/2018  ...    NaN                0.0         100.00\n",
              "1             50    1  7/17/2018  ...    2.5                2.5          78.13\n",
              "2             50    2  7/18/2018  ...    3.0                5.5          88.24\n",
              "3             50    3  7/19/2018  ...    3.0                8.5          83.33\n",
              "4             50    4  7/20/2018  ...    3.0               11.5          78.95\n",
              "..           ...  ...        ...  ...    ...                ...            ...\n",
              "433          812   82  7/28/2019  ...   24.0             1558.0          33.51\n",
              "434          812   83  7/29/2019  ...   24.0             1582.0          33.18\n",
              "435          812   84  7/30/2019  ...   24.0             1606.0          32.86\n",
              "436          812   85  7/31/2019  ...   24.0             1630.0          32.55\n",
              "437          812   86   8/1/2019  ...    NaN             1630.0          28.77\n",
              "\n",
              "[438 rows x 9 columns]"
            ]
          },
          "metadata": {
            "tags": []
          },
          "execution_count": 38
        }
      ]
    },
    {
      "cell_type": "code",
      "metadata": {
        "colab": {
          "base_uri": "https://localhost:8080/",
          "height": 417
        },
        "id": "EGoX3dbGuLDH",
        "outputId": "f6d7c265-9c61-4e5f-bcac-4d7292cefee2"
      },
      "source": [
        "budidaya2= budidaya1[budidaya1['Feed '].notnull()]\n",
        "budidaya2"
      ],
      "execution_count": null,
      "outputs": [
        {
          "output_type": "execute_result",
          "data": {
            "text/html": [
              "<div>\n",
              "<style scoped>\n",
              "    .dataframe tbody tr th:only-of-type {\n",
              "        vertical-align: middle;\n",
              "    }\n",
              "\n",
              "    .dataframe tbody tr th {\n",
              "        vertical-align: top;\n",
              "    }\n",
              "\n",
              "    .dataframe thead th {\n",
              "        text-align: right;\n",
              "    }\n",
              "</style>\n",
              "<table border=\"1\" class=\"dataframe\">\n",
              "  <thead>\n",
              "    <tr style=\"text-align: right;\">\n",
              "      <th></th>\n",
              "      <th>Kode Siklus</th>\n",
              "      <th>Age</th>\n",
              "      <th>Date</th>\n",
              "      <th>ABW</th>\n",
              "      <th>Size</th>\n",
              "      <th>Total Weight</th>\n",
              "      <th>Feed</th>\n",
              "      <th>Feed Accumulation</th>\n",
              "      <th>Survival Rate</th>\n",
              "    </tr>\n",
              "  </thead>\n",
              "  <tbody>\n",
              "    <tr>\n",
              "      <th>1</th>\n",
              "      <td>50</td>\n",
              "      <td>1</td>\n",
              "      <td>7/17/2018</td>\n",
              "      <td>NaN</td>\n",
              "      <td>NaN</td>\n",
              "      <td>NaN</td>\n",
              "      <td>2.5</td>\n",
              "      <td>2.5</td>\n",
              "      <td>78.13</td>\n",
              "    </tr>\n",
              "    <tr>\n",
              "      <th>2</th>\n",
              "      <td>50</td>\n",
              "      <td>2</td>\n",
              "      <td>7/18/2018</td>\n",
              "      <td>NaN</td>\n",
              "      <td>NaN</td>\n",
              "      <td>NaN</td>\n",
              "      <td>3.0</td>\n",
              "      <td>5.5</td>\n",
              "      <td>88.24</td>\n",
              "    </tr>\n",
              "    <tr>\n",
              "      <th>3</th>\n",
              "      <td>50</td>\n",
              "      <td>3</td>\n",
              "      <td>7/19/2018</td>\n",
              "      <td>NaN</td>\n",
              "      <td>NaN</td>\n",
              "      <td>NaN</td>\n",
              "      <td>3.0</td>\n",
              "      <td>8.5</td>\n",
              "      <td>83.33</td>\n",
              "    </tr>\n",
              "    <tr>\n",
              "      <th>4</th>\n",
              "      <td>50</td>\n",
              "      <td>4</td>\n",
              "      <td>7/20/2018</td>\n",
              "      <td>NaN</td>\n",
              "      <td>NaN</td>\n",
              "      <td>NaN</td>\n",
              "      <td>3.0</td>\n",
              "      <td>11.5</td>\n",
              "      <td>78.95</td>\n",
              "    </tr>\n",
              "    <tr>\n",
              "      <th>5</th>\n",
              "      <td>50</td>\n",
              "      <td>5</td>\n",
              "      <td>7/21/2018</td>\n",
              "      <td>NaN</td>\n",
              "      <td>NaN</td>\n",
              "      <td>NaN</td>\n",
              "      <td>3.0</td>\n",
              "      <td>14.5</td>\n",
              "      <td>75.00</td>\n",
              "    </tr>\n",
              "    <tr>\n",
              "      <th>...</th>\n",
              "      <td>...</td>\n",
              "      <td>...</td>\n",
              "      <td>...</td>\n",
              "      <td>...</td>\n",
              "      <td>...</td>\n",
              "      <td>...</td>\n",
              "      <td>...</td>\n",
              "      <td>...</td>\n",
              "      <td>...</td>\n",
              "    </tr>\n",
              "    <tr>\n",
              "      <th>432</th>\n",
              "      <td>812</td>\n",
              "      <td>81</td>\n",
              "      <td>7/27/2019</td>\n",
              "      <td>NaN</td>\n",
              "      <td>NaN</td>\n",
              "      <td>NaN</td>\n",
              "      <td>24.0</td>\n",
              "      <td>1534.0</td>\n",
              "      <td>33.84</td>\n",
              "    </tr>\n",
              "    <tr>\n",
              "      <th>433</th>\n",
              "      <td>812</td>\n",
              "      <td>82</td>\n",
              "      <td>7/28/2019</td>\n",
              "      <td>NaN</td>\n",
              "      <td>NaN</td>\n",
              "      <td>NaN</td>\n",
              "      <td>24.0</td>\n",
              "      <td>1558.0</td>\n",
              "      <td>33.51</td>\n",
              "    </tr>\n",
              "    <tr>\n",
              "      <th>434</th>\n",
              "      <td>812</td>\n",
              "      <td>83</td>\n",
              "      <td>7/29/2019</td>\n",
              "      <td>NaN</td>\n",
              "      <td>NaN</td>\n",
              "      <td>NaN</td>\n",
              "      <td>24.0</td>\n",
              "      <td>1582.0</td>\n",
              "      <td>33.18</td>\n",
              "    </tr>\n",
              "    <tr>\n",
              "      <th>435</th>\n",
              "      <td>812</td>\n",
              "      <td>84</td>\n",
              "      <td>7/30/2019</td>\n",
              "      <td>NaN</td>\n",
              "      <td>NaN</td>\n",
              "      <td>NaN</td>\n",
              "      <td>24.0</td>\n",
              "      <td>1606.0</td>\n",
              "      <td>32.86</td>\n",
              "    </tr>\n",
              "    <tr>\n",
              "      <th>436</th>\n",
              "      <td>812</td>\n",
              "      <td>85</td>\n",
              "      <td>7/31/2019</td>\n",
              "      <td>NaN</td>\n",
              "      <td>NaN</td>\n",
              "      <td>NaN</td>\n",
              "      <td>24.0</td>\n",
              "      <td>1630.0</td>\n",
              "      <td>32.55</td>\n",
              "    </tr>\n",
              "  </tbody>\n",
              "</table>\n",
              "<p>360 rows × 9 columns</p>\n",
              "</div>"
            ],
            "text/plain": [
              "     Kode Siklus  Age       Date  ...  Feed   Feed Accumulation  Survival Rate\n",
              "1             50    1  7/17/2018  ...    2.5                2.5          78.13\n",
              "2             50    2  7/18/2018  ...    3.0                5.5          88.24\n",
              "3             50    3  7/19/2018  ...    3.0                8.5          83.33\n",
              "4             50    4  7/20/2018  ...    3.0               11.5          78.95\n",
              "5             50    5  7/21/2018  ...    3.0               14.5          75.00\n",
              "..           ...  ...        ...  ...    ...                ...            ...\n",
              "432          812   81  7/27/2019  ...   24.0             1534.0          33.84\n",
              "433          812   82  7/28/2019  ...   24.0             1558.0          33.51\n",
              "434          812   83  7/29/2019  ...   24.0             1582.0          33.18\n",
              "435          812   84  7/30/2019  ...   24.0             1606.0          32.86\n",
              "436          812   85  7/31/2019  ...   24.0             1630.0          32.55\n",
              "\n",
              "[360 rows x 9 columns]"
            ]
          },
          "metadata": {
            "tags": []
          },
          "execution_count": 40
        }
      ]
    },
    {
      "cell_type": "code",
      "metadata": {
        "id": "lwMWSSw_L_gg"
      },
      "source": [
        "import pandas as pd\n",
        "import numpy as np\n",
        "import matplotlib.pyplot as plt"
      ],
      "execution_count": null,
      "outputs": []
    },
    {
      "cell_type": "code",
      "metadata": {
        "colab": {
          "resources": {
            "http://localhost:8080/nbextensions/google.colab/files.js": {
              "data": "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",
              "ok": true,
              "headers": [
                [
                  "content-type",
                  "application/javascript"
                ]
              ],
              "status": 200,
              "status_text": ""
            }
          },
          "base_uri": "https://localhost:8080/",
          "height": 39
        },
        "id": "O9wcREwhTR0Z",
        "outputId": "a4d9775c-f991-4bc1-a272-f6e3c2fe2d6f"
      },
      "source": [
        "from google.colab import files\n",
        "uploaded = files.upload()"
      ],
      "execution_count": null,
      "outputs": [
        {
          "output_type": "display_data",
          "data": {
            "text/html": [
              "\n",
              "     <input type=\"file\" id=\"files-335306ce-7340-4bad-acf1-d75e6167bf6f\" name=\"files[]\" multiple disabled\n",
              "        style=\"border:none\" />\n",
              "     <output id=\"result-335306ce-7340-4bad-acf1-d75e6167bf6f\">\n",
              "      Upload widget is only available when the cell has been executed in the\n",
              "      current browser session. Please rerun this cell to enable.\n",
              "      </output>\n",
              "      <script src=\"/nbextensions/google.colab/files.js\"></script> "
            ],
            "text/plain": [
              "<IPython.core.display.HTML object>"
            ]
          },
          "metadata": {
            "tags": []
          }
        }
      ]
    },
    {
      "cell_type": "markdown",
      "metadata": {
        "id": "DgAHtEo0Mbgy"
      },
      "source": [
        "## **Data Pre-Processing**"
      ]
    },
    {
      "cell_type": "code",
      "metadata": {
        "id": "HtuOWvF1TRwj"
      },
      "source": [
        "df=pd.read_csv(\"kualitas_air.csv\", parse_dates=['Waktu Pengukuran'])"
      ],
      "execution_count": null,
      "outputs": []
    },
    {
      "cell_type": "code",
      "metadata": {
        "colab": {
          "base_uri": "https://localhost:8080/",
          "height": 417
        },
        "id": "Qd-LgVpwTRtM",
        "outputId": "37f75760-e2b3-4288-84c3-8e19d91fa7d8"
      },
      "source": [
        "df"
      ],
      "execution_count": null,
      "outputs": [
        {
          "output_type": "execute_result",
          "data": {
            "text/html": [
              "<div>\n",
              "<style scoped>\n",
              "    .dataframe tbody tr th:only-of-type {\n",
              "        vertical-align: middle;\n",
              "    }\n",
              "\n",
              "    .dataframe tbody tr th {\n",
              "        vertical-align: top;\n",
              "    }\n",
              "\n",
              "    .dataframe thead th {\n",
              "        text-align: right;\n",
              "    }\n",
              "</style>\n",
              "<table border=\"1\" class=\"dataframe\">\n",
              "  <thead>\n",
              "    <tr style=\"text-align: right;\">\n",
              "      <th></th>\n",
              "      <th>Waktu Pengukuran</th>\n",
              "      <th>Kode Siklus</th>\n",
              "      <th>Suhu Air</th>\n",
              "      <th>Oksigen Terlarut</th>\n",
              "      <th>Salinitas</th>\n",
              "      <th>pH</th>\n",
              "    </tr>\n",
              "  </thead>\n",
              "  <tbody>\n",
              "    <tr>\n",
              "      <th>0</th>\n",
              "      <td>2018-07-16 07:00:00+07:00</td>\n",
              "      <td>50</td>\n",
              "      <td>26.70</td>\n",
              "      <td>15.90</td>\n",
              "      <td>22.40</td>\n",
              "      <td>5.80</td>\n",
              "    </tr>\n",
              "    <tr>\n",
              "      <th>1</th>\n",
              "      <td>2018-07-16 17:00:00+07:00</td>\n",
              "      <td>50</td>\n",
              "      <td>28.90</td>\n",
              "      <td>15.20</td>\n",
              "      <td>22.70</td>\n",
              "      <td>7.62</td>\n",
              "    </tr>\n",
              "    <tr>\n",
              "      <th>2</th>\n",
              "      <td>2018-07-17 07:00:00+07:00</td>\n",
              "      <td>50</td>\n",
              "      <td>25.80</td>\n",
              "      <td>11.30</td>\n",
              "      <td>22.60</td>\n",
              "      <td>7.70</td>\n",
              "    </tr>\n",
              "    <tr>\n",
              "      <th>3</th>\n",
              "      <td>2018-07-17 17:00:00+07:00</td>\n",
              "      <td>50</td>\n",
              "      <td>28.90</td>\n",
              "      <td>14.20</td>\n",
              "      <td>22.80</td>\n",
              "      <td>8.46</td>\n",
              "    </tr>\n",
              "    <tr>\n",
              "      <th>4</th>\n",
              "      <td>2018-07-18 07:00:00+07:00</td>\n",
              "      <td>50</td>\n",
              "      <td>26.00</td>\n",
              "      <td>8.70</td>\n",
              "      <td>22.60</td>\n",
              "      <td>8.30</td>\n",
              "    </tr>\n",
              "    <tr>\n",
              "      <th>...</th>\n",
              "      <td>...</td>\n",
              "      <td>...</td>\n",
              "      <td>...</td>\n",
              "      <td>...</td>\n",
              "      <td>...</td>\n",
              "      <td>...</td>\n",
              "    </tr>\n",
              "    <tr>\n",
              "      <th>576</th>\n",
              "      <td>2019-07-29 16:16:38+07:00</td>\n",
              "      <td>812</td>\n",
              "      <td>27.59</td>\n",
              "      <td>7.10</td>\n",
              "      <td>28.31</td>\n",
              "      <td>8.16</td>\n",
              "    </tr>\n",
              "    <tr>\n",
              "      <th>577</th>\n",
              "      <td>2019-07-30 07:00:00+07:00</td>\n",
              "      <td>812</td>\n",
              "      <td>25.00</td>\n",
              "      <td>7.20</td>\n",
              "      <td>NaN</td>\n",
              "      <td>7.60</td>\n",
              "    </tr>\n",
              "    <tr>\n",
              "      <th>578</th>\n",
              "      <td>2019-07-30 16:09:59+07:00</td>\n",
              "      <td>812</td>\n",
              "      <td>28.44</td>\n",
              "      <td>7.65</td>\n",
              "      <td>28.00</td>\n",
              "      <td>7.86</td>\n",
              "    </tr>\n",
              "    <tr>\n",
              "      <th>579</th>\n",
              "      <td>2019-07-31 07:00:00+07:00</td>\n",
              "      <td>812</td>\n",
              "      <td>26.00</td>\n",
              "      <td>6.60</td>\n",
              "      <td>NaN</td>\n",
              "      <td>7.60</td>\n",
              "    </tr>\n",
              "    <tr>\n",
              "      <th>580</th>\n",
              "      <td>2019-07-31 16:17:39+07:00</td>\n",
              "      <td>812</td>\n",
              "      <td>28.65</td>\n",
              "      <td>6.94</td>\n",
              "      <td>28.00</td>\n",
              "      <td>8.37</td>\n",
              "    </tr>\n",
              "  </tbody>\n",
              "</table>\n",
              "<p>581 rows × 6 columns</p>\n",
              "</div>"
            ],
            "text/plain": [
              "             Waktu Pengukuran  Kode Siklus  ...  Salinitas    pH\n",
              "0   2018-07-16 07:00:00+07:00           50  ...      22.40  5.80\n",
              "1   2018-07-16 17:00:00+07:00           50  ...      22.70  7.62\n",
              "2   2018-07-17 07:00:00+07:00           50  ...      22.60  7.70\n",
              "3   2018-07-17 17:00:00+07:00           50  ...      22.80  8.46\n",
              "4   2018-07-18 07:00:00+07:00           50  ...      22.60  8.30\n",
              "..                        ...          ...  ...        ...   ...\n",
              "576 2019-07-29 16:16:38+07:00          812  ...      28.31  8.16\n",
              "577 2019-07-30 07:00:00+07:00          812  ...        NaN  7.60\n",
              "578 2019-07-30 16:09:59+07:00          812  ...      28.00  7.86\n",
              "579 2019-07-31 07:00:00+07:00          812  ...        NaN  7.60\n",
              "580 2019-07-31 16:17:39+07:00          812  ...      28.00  8.37\n",
              "\n",
              "[581 rows x 6 columns]"
            ]
          },
          "metadata": {
            "tags": []
          },
          "execution_count": 33
        }
      ]
    },
    {
      "cell_type": "code",
      "metadata": {
        "id": "Gs0Z4TyLTRmt"
      },
      "source": [
        "df['tahun']= df['Waktu Pengukuran'].dt.year\n",
        "df['bulan']= df['Waktu Pengukuran'].dt.month\n",
        "df['day']= df['Waktu Pengukuran'].dt.day\n",
        "df['jam']= df['Waktu Pengukuran'].dt.hour"
      ],
      "execution_count": null,
      "outputs": []
    },
    {
      "cell_type": "code",
      "metadata": {
        "colab": {
          "base_uri": "https://localhost:8080/",
          "height": 417
        },
        "id": "IBKvzgiNxj3P",
        "outputId": "ed87c3b8-3556-4df6-da7a-723abd2d5f66"
      },
      "source": [
        "df"
      ],
      "execution_count": null,
      "outputs": [
        {
          "output_type": "execute_result",
          "data": {
            "text/html": [
              "<div>\n",
              "<style scoped>\n",
              "    .dataframe tbody tr th:only-of-type {\n",
              "        vertical-align: middle;\n",
              "    }\n",
              "\n",
              "    .dataframe tbody tr th {\n",
              "        vertical-align: top;\n",
              "    }\n",
              "\n",
              "    .dataframe thead th {\n",
              "        text-align: right;\n",
              "    }\n",
              "</style>\n",
              "<table border=\"1\" class=\"dataframe\">\n",
              "  <thead>\n",
              "    <tr style=\"text-align: right;\">\n",
              "      <th></th>\n",
              "      <th>Waktu Pengukuran</th>\n",
              "      <th>Kode Siklus</th>\n",
              "      <th>Suhu Air</th>\n",
              "      <th>Oksigen Terlarut</th>\n",
              "      <th>Salinitas</th>\n",
              "      <th>pH</th>\n",
              "      <th>tahun</th>\n",
              "      <th>bulan</th>\n",
              "      <th>day</th>\n",
              "      <th>jam</th>\n",
              "    </tr>\n",
              "  </thead>\n",
              "  <tbody>\n",
              "    <tr>\n",
              "      <th>0</th>\n",
              "      <td>2018-07-16 07:00:00+07:00</td>\n",
              "      <td>50</td>\n",
              "      <td>26.70</td>\n",
              "      <td>15.90</td>\n",
              "      <td>22.40</td>\n",
              "      <td>5.80</td>\n",
              "      <td>2018</td>\n",
              "      <td>7</td>\n",
              "      <td>16</td>\n",
              "      <td>7</td>\n",
              "    </tr>\n",
              "    <tr>\n",
              "      <th>1</th>\n",
              "      <td>2018-07-16 17:00:00+07:00</td>\n",
              "      <td>50</td>\n",
              "      <td>28.90</td>\n",
              "      <td>15.20</td>\n",
              "      <td>22.70</td>\n",
              "      <td>7.62</td>\n",
              "      <td>2018</td>\n",
              "      <td>7</td>\n",
              "      <td>16</td>\n",
              "      <td>17</td>\n",
              "    </tr>\n",
              "    <tr>\n",
              "      <th>2</th>\n",
              "      <td>2018-07-17 07:00:00+07:00</td>\n",
              "      <td>50</td>\n",
              "      <td>25.80</td>\n",
              "      <td>11.30</td>\n",
              "      <td>22.60</td>\n",
              "      <td>7.70</td>\n",
              "      <td>2018</td>\n",
              "      <td>7</td>\n",
              "      <td>17</td>\n",
              "      <td>7</td>\n",
              "    </tr>\n",
              "    <tr>\n",
              "      <th>3</th>\n",
              "      <td>2018-07-17 17:00:00+07:00</td>\n",
              "      <td>50</td>\n",
              "      <td>28.90</td>\n",
              "      <td>14.20</td>\n",
              "      <td>22.80</td>\n",
              "      <td>8.46</td>\n",
              "      <td>2018</td>\n",
              "      <td>7</td>\n",
              "      <td>17</td>\n",
              "      <td>17</td>\n",
              "    </tr>\n",
              "    <tr>\n",
              "      <th>4</th>\n",
              "      <td>2018-07-18 07:00:00+07:00</td>\n",
              "      <td>50</td>\n",
              "      <td>26.00</td>\n",
              "      <td>8.70</td>\n",
              "      <td>22.60</td>\n",
              "      <td>8.30</td>\n",
              "      <td>2018</td>\n",
              "      <td>7</td>\n",
              "      <td>18</td>\n",
              "      <td>7</td>\n",
              "    </tr>\n",
              "    <tr>\n",
              "      <th>...</th>\n",
              "      <td>...</td>\n",
              "      <td>...</td>\n",
              "      <td>...</td>\n",
              "      <td>...</td>\n",
              "      <td>...</td>\n",
              "      <td>...</td>\n",
              "      <td>...</td>\n",
              "      <td>...</td>\n",
              "      <td>...</td>\n",
              "      <td>...</td>\n",
              "    </tr>\n",
              "    <tr>\n",
              "      <th>576</th>\n",
              "      <td>2019-07-29 16:16:38+07:00</td>\n",
              "      <td>812</td>\n",
              "      <td>27.59</td>\n",
              "      <td>7.10</td>\n",
              "      <td>28.31</td>\n",
              "      <td>8.16</td>\n",
              "      <td>2019</td>\n",
              "      <td>7</td>\n",
              "      <td>29</td>\n",
              "      <td>16</td>\n",
              "    </tr>\n",
              "    <tr>\n",
              "      <th>577</th>\n",
              "      <td>2019-07-30 07:00:00+07:00</td>\n",
              "      <td>812</td>\n",
              "      <td>25.00</td>\n",
              "      <td>7.20</td>\n",
              "      <td>NaN</td>\n",
              "      <td>7.60</td>\n",
              "      <td>2019</td>\n",
              "      <td>7</td>\n",
              "      <td>30</td>\n",
              "      <td>7</td>\n",
              "    </tr>\n",
              "    <tr>\n",
              "      <th>578</th>\n",
              "      <td>2019-07-30 16:09:59+07:00</td>\n",
              "      <td>812</td>\n",
              "      <td>28.44</td>\n",
              "      <td>7.65</td>\n",
              "      <td>28.00</td>\n",
              "      <td>7.86</td>\n",
              "      <td>2019</td>\n",
              "      <td>7</td>\n",
              "      <td>30</td>\n",
              "      <td>16</td>\n",
              "    </tr>\n",
              "    <tr>\n",
              "      <th>579</th>\n",
              "      <td>2019-07-31 07:00:00+07:00</td>\n",
              "      <td>812</td>\n",
              "      <td>26.00</td>\n",
              "      <td>6.60</td>\n",
              "      <td>NaN</td>\n",
              "      <td>7.60</td>\n",
              "      <td>2019</td>\n",
              "      <td>7</td>\n",
              "      <td>31</td>\n",
              "      <td>7</td>\n",
              "    </tr>\n",
              "    <tr>\n",
              "      <th>580</th>\n",
              "      <td>2019-07-31 16:17:39+07:00</td>\n",
              "      <td>812</td>\n",
              "      <td>28.65</td>\n",
              "      <td>6.94</td>\n",
              "      <td>28.00</td>\n",
              "      <td>8.37</td>\n",
              "      <td>2019</td>\n",
              "      <td>7</td>\n",
              "      <td>31</td>\n",
              "      <td>16</td>\n",
              "    </tr>\n",
              "  </tbody>\n",
              "</table>\n",
              "<p>581 rows × 10 columns</p>\n",
              "</div>"
            ],
            "text/plain": [
              "             Waktu Pengukuran  Kode Siklus  Suhu Air  ...  bulan  day  jam\n",
              "0   2018-07-16 07:00:00+07:00           50     26.70  ...      7   16    7\n",
              "1   2018-07-16 17:00:00+07:00           50     28.90  ...      7   16   17\n",
              "2   2018-07-17 07:00:00+07:00           50     25.80  ...      7   17    7\n",
              "3   2018-07-17 17:00:00+07:00           50     28.90  ...      7   17   17\n",
              "4   2018-07-18 07:00:00+07:00           50     26.00  ...      7   18    7\n",
              "..                        ...          ...       ...  ...    ...  ...  ...\n",
              "576 2019-07-29 16:16:38+07:00          812     27.59  ...      7   29   16\n",
              "577 2019-07-30 07:00:00+07:00          812     25.00  ...      7   30    7\n",
              "578 2019-07-30 16:09:59+07:00          812     28.44  ...      7   30   16\n",
              "579 2019-07-31 07:00:00+07:00          812     26.00  ...      7   31    7\n",
              "580 2019-07-31 16:17:39+07:00          812     28.65  ...      7   31   16\n",
              "\n",
              "[581 rows x 10 columns]"
            ]
          },
          "metadata": {
            "tags": []
          },
          "execution_count": 35
        }
      ]
    },
    {
      "cell_type": "code",
      "metadata": {
        "colab": {
          "base_uri": "https://localhost:8080/"
        },
        "id": "tCC6tHdiTRgH",
        "outputId": "f6377706-90e3-4f2f-e831-929f495c8dd4"
      },
      "source": [
        "df['jam'].unique()"
      ],
      "execution_count": null,
      "outputs": [
        {
          "output_type": "execute_result",
          "data": {
            "text/plain": [
              "array([ 7, 17, 14, 15,  8, 16, 23, 12, 10,  6,  5, 20,  9, 21, 19])"
            ]
          },
          "metadata": {
            "tags": []
          },
          "execution_count": 36
        }
      ]
    },
    {
      "cell_type": "code",
      "metadata": {
        "id": "8Zz78tTETRaS"
      },
      "source": [
        "conditions = [\n",
        "              (df['jam'] > 1) & (df['jam'] <=10),\n",
        "              (df['jam'] > 10) & (df['jam'] <=15),\n",
        "              (df['jam'] > 15) & (df['jam'] <=18),\n",
        "              (df['jam'] > 18) & (df['jam'] <=24)\n",
        "              ]\n",
        "value=['Pagi','Siang','Sore','Malam']\n",
        "\n",
        "df['keterangan']= np.select(conditions,value)"
      ],
      "execution_count": null,
      "outputs": []
    },
    {
      "cell_type": "code",
      "metadata": {
        "colab": {
          "base_uri": "https://localhost:8080/",
          "height": 417
        },
        "id": "q0H7hS0_TRXi",
        "outputId": "b83ee56e-2108-4638-b7ab-3471d552a620"
      },
      "source": [
        "df"
      ],
      "execution_count": null,
      "outputs": [
        {
          "output_type": "execute_result",
          "data": {
            "text/html": [
              "<div>\n",
              "<style scoped>\n",
              "    .dataframe tbody tr th:only-of-type {\n",
              "        vertical-align: middle;\n",
              "    }\n",
              "\n",
              "    .dataframe tbody tr th {\n",
              "        vertical-align: top;\n",
              "    }\n",
              "\n",
              "    .dataframe thead th {\n",
              "        text-align: right;\n",
              "    }\n",
              "</style>\n",
              "<table border=\"1\" class=\"dataframe\">\n",
              "  <thead>\n",
              "    <tr style=\"text-align: right;\">\n",
              "      <th></th>\n",
              "      <th>Waktu Pengukuran</th>\n",
              "      <th>Kode Siklus</th>\n",
              "      <th>Suhu Air</th>\n",
              "      <th>Oksigen Terlarut</th>\n",
              "      <th>Salinitas</th>\n",
              "      <th>pH</th>\n",
              "      <th>tahun</th>\n",
              "      <th>bulan</th>\n",
              "      <th>day</th>\n",
              "      <th>jam</th>\n",
              "      <th>keterangan</th>\n",
              "    </tr>\n",
              "  </thead>\n",
              "  <tbody>\n",
              "    <tr>\n",
              "      <th>0</th>\n",
              "      <td>2018-07-16 07:00:00+07:00</td>\n",
              "      <td>50</td>\n",
              "      <td>26.70</td>\n",
              "      <td>15.90</td>\n",
              "      <td>22.40</td>\n",
              "      <td>5.80</td>\n",
              "      <td>2018</td>\n",
              "      <td>7</td>\n",
              "      <td>16</td>\n",
              "      <td>7</td>\n",
              "      <td>Pagi</td>\n",
              "    </tr>\n",
              "    <tr>\n",
              "      <th>1</th>\n",
              "      <td>2018-07-16 17:00:00+07:00</td>\n",
              "      <td>50</td>\n",
              "      <td>28.90</td>\n",
              "      <td>15.20</td>\n",
              "      <td>22.70</td>\n",
              "      <td>7.62</td>\n",
              "      <td>2018</td>\n",
              "      <td>7</td>\n",
              "      <td>16</td>\n",
              "      <td>17</td>\n",
              "      <td>Sore</td>\n",
              "    </tr>\n",
              "    <tr>\n",
              "      <th>2</th>\n",
              "      <td>2018-07-17 07:00:00+07:00</td>\n",
              "      <td>50</td>\n",
              "      <td>25.80</td>\n",
              "      <td>11.30</td>\n",
              "      <td>22.60</td>\n",
              "      <td>7.70</td>\n",
              "      <td>2018</td>\n",
              "      <td>7</td>\n",
              "      <td>17</td>\n",
              "      <td>7</td>\n",
              "      <td>Pagi</td>\n",
              "    </tr>\n",
              "    <tr>\n",
              "      <th>3</th>\n",
              "      <td>2018-07-17 17:00:00+07:00</td>\n",
              "      <td>50</td>\n",
              "      <td>28.90</td>\n",
              "      <td>14.20</td>\n",
              "      <td>22.80</td>\n",
              "      <td>8.46</td>\n",
              "      <td>2018</td>\n",
              "      <td>7</td>\n",
              "      <td>17</td>\n",
              "      <td>17</td>\n",
              "      <td>Sore</td>\n",
              "    </tr>\n",
              "    <tr>\n",
              "      <th>4</th>\n",
              "      <td>2018-07-18 07:00:00+07:00</td>\n",
              "      <td>50</td>\n",
              "      <td>26.00</td>\n",
              "      <td>8.70</td>\n",
              "      <td>22.60</td>\n",
              "      <td>8.30</td>\n",
              "      <td>2018</td>\n",
              "      <td>7</td>\n",
              "      <td>18</td>\n",
              "      <td>7</td>\n",
              "      <td>Pagi</td>\n",
              "    </tr>\n",
              "    <tr>\n",
              "      <th>...</th>\n",
              "      <td>...</td>\n",
              "      <td>...</td>\n",
              "      <td>...</td>\n",
              "      <td>...</td>\n",
              "      <td>...</td>\n",
              "      <td>...</td>\n",
              "      <td>...</td>\n",
              "      <td>...</td>\n",
              "      <td>...</td>\n",
              "      <td>...</td>\n",
              "      <td>...</td>\n",
              "    </tr>\n",
              "    <tr>\n",
              "      <th>576</th>\n",
              "      <td>2019-07-29 16:16:38+07:00</td>\n",
              "      <td>812</td>\n",
              "      <td>27.59</td>\n",
              "      <td>7.10</td>\n",
              "      <td>28.31</td>\n",
              "      <td>8.16</td>\n",
              "      <td>2019</td>\n",
              "      <td>7</td>\n",
              "      <td>29</td>\n",
              "      <td>16</td>\n",
              "      <td>Sore</td>\n",
              "    </tr>\n",
              "    <tr>\n",
              "      <th>577</th>\n",
              "      <td>2019-07-30 07:00:00+07:00</td>\n",
              "      <td>812</td>\n",
              "      <td>25.00</td>\n",
              "      <td>7.20</td>\n",
              "      <td>NaN</td>\n",
              "      <td>7.60</td>\n",
              "      <td>2019</td>\n",
              "      <td>7</td>\n",
              "      <td>30</td>\n",
              "      <td>7</td>\n",
              "      <td>Pagi</td>\n",
              "    </tr>\n",
              "    <tr>\n",
              "      <th>578</th>\n",
              "      <td>2019-07-30 16:09:59+07:00</td>\n",
              "      <td>812</td>\n",
              "      <td>28.44</td>\n",
              "      <td>7.65</td>\n",
              "      <td>28.00</td>\n",
              "      <td>7.86</td>\n",
              "      <td>2019</td>\n",
              "      <td>7</td>\n",
              "      <td>30</td>\n",
              "      <td>16</td>\n",
              "      <td>Sore</td>\n",
              "    </tr>\n",
              "    <tr>\n",
              "      <th>579</th>\n",
              "      <td>2019-07-31 07:00:00+07:00</td>\n",
              "      <td>812</td>\n",
              "      <td>26.00</td>\n",
              "      <td>6.60</td>\n",
              "      <td>NaN</td>\n",
              "      <td>7.60</td>\n",
              "      <td>2019</td>\n",
              "      <td>7</td>\n",
              "      <td>31</td>\n",
              "      <td>7</td>\n",
              "      <td>Pagi</td>\n",
              "    </tr>\n",
              "    <tr>\n",
              "      <th>580</th>\n",
              "      <td>2019-07-31 16:17:39+07:00</td>\n",
              "      <td>812</td>\n",
              "      <td>28.65</td>\n",
              "      <td>6.94</td>\n",
              "      <td>28.00</td>\n",
              "      <td>8.37</td>\n",
              "      <td>2019</td>\n",
              "      <td>7</td>\n",
              "      <td>31</td>\n",
              "      <td>16</td>\n",
              "      <td>Sore</td>\n",
              "    </tr>\n",
              "  </tbody>\n",
              "</table>\n",
              "<p>581 rows × 11 columns</p>\n",
              "</div>"
            ],
            "text/plain": [
              "             Waktu Pengukuran  Kode Siklus  Suhu Air  ...  day  jam  keterangan\n",
              "0   2018-07-16 07:00:00+07:00           50     26.70  ...   16    7        Pagi\n",
              "1   2018-07-16 17:00:00+07:00           50     28.90  ...   16   17        Sore\n",
              "2   2018-07-17 07:00:00+07:00           50     25.80  ...   17    7        Pagi\n",
              "3   2018-07-17 17:00:00+07:00           50     28.90  ...   17   17        Sore\n",
              "4   2018-07-18 07:00:00+07:00           50     26.00  ...   18    7        Pagi\n",
              "..                        ...          ...       ...  ...  ...  ...         ...\n",
              "576 2019-07-29 16:16:38+07:00          812     27.59  ...   29   16        Sore\n",
              "577 2019-07-30 07:00:00+07:00          812     25.00  ...   30    7        Pagi\n",
              "578 2019-07-30 16:09:59+07:00          812     28.44  ...   30   16        Sore\n",
              "579 2019-07-31 07:00:00+07:00          812     26.00  ...   31    7        Pagi\n",
              "580 2019-07-31 16:17:39+07:00          812     28.65  ...   31   16        Sore\n",
              "\n",
              "[581 rows x 11 columns]"
            ]
          },
          "metadata": {
            "tags": []
          },
          "execution_count": 38
        }
      ]
    },
    {
      "cell_type": "code",
      "metadata": {
        "id": "8qNrfGLiuLAN",
        "colab": {
          "base_uri": "https://localhost:8080/",
          "height": 295
        },
        "outputId": "5f5d7378-a351-4a3f-c1f1-6b2a4419bb6b"
      },
      "source": [
        "df.describe()"
      ],
      "execution_count": null,
      "outputs": [
        {
          "output_type": "execute_result",
          "data": {
            "text/html": [
              "<div>\n",
              "<style scoped>\n",
              "    .dataframe tbody tr th:only-of-type {\n",
              "        vertical-align: middle;\n",
              "    }\n",
              "\n",
              "    .dataframe tbody tr th {\n",
              "        vertical-align: top;\n",
              "    }\n",
              "\n",
              "    .dataframe thead th {\n",
              "        text-align: right;\n",
              "    }\n",
              "</style>\n",
              "<table border=\"1\" class=\"dataframe\">\n",
              "  <thead>\n",
              "    <tr style=\"text-align: right;\">\n",
              "      <th></th>\n",
              "      <th>Kode Siklus</th>\n",
              "      <th>Suhu Air</th>\n",
              "      <th>Oksigen Terlarut</th>\n",
              "      <th>Salinitas</th>\n",
              "      <th>pH</th>\n",
              "      <th>tahun</th>\n",
              "      <th>bulan</th>\n",
              "      <th>day</th>\n",
              "      <th>jam</th>\n",
              "    </tr>\n",
              "  </thead>\n",
              "  <tbody>\n",
              "    <tr>\n",
              "      <th>count</th>\n",
              "      <td>581.000000</td>\n",
              "      <td>578.00000</td>\n",
              "      <td>569.000000</td>\n",
              "      <td>521.000000</td>\n",
              "      <td>576.000000</td>\n",
              "      <td>581.000000</td>\n",
              "      <td>581.000000</td>\n",
              "      <td>581.000000</td>\n",
              "      <td>581.000000</td>\n",
              "    </tr>\n",
              "    <tr>\n",
              "      <th>mean</th>\n",
              "      <td>295.442341</td>\n",
              "      <td>28.66891</td>\n",
              "      <td>5.630334</td>\n",
              "      <td>31.002668</td>\n",
              "      <td>7.704323</td>\n",
              "      <td>2018.495697</td>\n",
              "      <td>6.359725</td>\n",
              "      <td>16.266781</td>\n",
              "      <td>12.631670</td>\n",
              "    </tr>\n",
              "    <tr>\n",
              "      <th>std</th>\n",
              "      <td>300.040242</td>\n",
              "      <td>6.07209</td>\n",
              "      <td>2.397833</td>\n",
              "      <td>7.113786</td>\n",
              "      <td>1.041173</td>\n",
              "      <td>0.500412</td>\n",
              "      <td>2.772966</td>\n",
              "      <td>8.872823</td>\n",
              "      <td>5.321585</td>\n",
              "    </tr>\n",
              "    <tr>\n",
              "      <th>min</th>\n",
              "      <td>50.000000</td>\n",
              "      <td>24.00000</td>\n",
              "      <td>0.000000</td>\n",
              "      <td>0.000000</td>\n",
              "      <td>2.750000</td>\n",
              "      <td>2018.000000</td>\n",
              "      <td>1.000000</td>\n",
              "      <td>1.000000</td>\n",
              "      <td>5.000000</td>\n",
              "    </tr>\n",
              "    <tr>\n",
              "      <th>25%</th>\n",
              "      <td>66.000000</td>\n",
              "      <td>27.00000</td>\n",
              "      <td>4.450000</td>\n",
              "      <td>27.380000</td>\n",
              "      <td>7.530000</td>\n",
              "      <td>2018.000000</td>\n",
              "      <td>3.000000</td>\n",
              "      <td>8.000000</td>\n",
              "      <td>7.000000</td>\n",
              "    </tr>\n",
              "    <tr>\n",
              "      <th>50%</th>\n",
              "      <td>66.000000</td>\n",
              "      <td>28.31000</td>\n",
              "      <td>5.340000</td>\n",
              "      <td>30.910000</td>\n",
              "      <td>7.860000</td>\n",
              "      <td>2018.000000</td>\n",
              "      <td>7.000000</td>\n",
              "      <td>17.000000</td>\n",
              "      <td>15.000000</td>\n",
              "    </tr>\n",
              "    <tr>\n",
              "      <th>75%</th>\n",
              "      <td>298.000000</td>\n",
              "      <td>29.62250</td>\n",
              "      <td>6.400000</td>\n",
              "      <td>37.160000</td>\n",
              "      <td>8.240000</td>\n",
              "      <td>2019.000000</td>\n",
              "      <td>8.000000</td>\n",
              "      <td>24.000000</td>\n",
              "      <td>17.000000</td>\n",
              "    </tr>\n",
              "    <tr>\n",
              "      <th>max</th>\n",
              "      <td>812.000000</td>\n",
              "      <td>127.00000</td>\n",
              "      <td>18.260000</td>\n",
              "      <td>39.740000</td>\n",
              "      <td>9.770000</td>\n",
              "      <td>2019.000000</td>\n",
              "      <td>11.000000</td>\n",
              "      <td>31.000000</td>\n",
              "      <td>23.000000</td>\n",
              "    </tr>\n",
              "  </tbody>\n",
              "</table>\n",
              "</div>"
            ],
            "text/plain": [
              "       Kode Siklus   Suhu Air  ...         day         jam\n",
              "count   581.000000  578.00000  ...  581.000000  581.000000\n",
              "mean    295.442341   28.66891  ...   16.266781   12.631670\n",
              "std     300.040242    6.07209  ...    8.872823    5.321585\n",
              "min      50.000000   24.00000  ...    1.000000    5.000000\n",
              "25%      66.000000   27.00000  ...    8.000000    7.000000\n",
              "50%      66.000000   28.31000  ...   17.000000   15.000000\n",
              "75%     298.000000   29.62250  ...   24.000000   17.000000\n",
              "max     812.000000  127.00000  ...   31.000000   23.000000\n",
              "\n",
              "[8 rows x 9 columns]"
            ]
          },
          "metadata": {
            "tags": []
          },
          "execution_count": 39
        }
      ]
    },
    {
      "cell_type": "code",
      "metadata": {
        "id": "CIr7zdeLuK9t",
        "colab": {
          "base_uri": "https://localhost:8080/"
        },
        "outputId": "f23e6964-5854-4bb5-ce73-fe313c6270d4"
      },
      "source": [
        "df.info()"
      ],
      "execution_count": null,
      "outputs": [
        {
          "output_type": "stream",
          "text": [
            "<class 'pandas.core.frame.DataFrame'>\n",
            "RangeIndex: 581 entries, 0 to 580\n",
            "Data columns (total 11 columns):\n",
            " #   Column            Non-Null Count  Dtype                                \n",
            "---  ------            --------------  -----                                \n",
            " 0   Waktu Pengukuran  581 non-null    datetime64[ns, pytz.FixedOffset(420)]\n",
            " 1   Kode Siklus       581 non-null    int64                                \n",
            " 2   Suhu Air          578 non-null    float64                              \n",
            " 3   Oksigen Terlarut  569 non-null    float64                              \n",
            " 4   Salinitas         521 non-null    float64                              \n",
            " 5   pH                576 non-null    float64                              \n",
            " 6   tahun             581 non-null    int64                                \n",
            " 7   bulan             581 non-null    int64                                \n",
            " 8   day               581 non-null    int64                                \n",
            " 9   jam               581 non-null    int64                                \n",
            " 10  keterangan        581 non-null    object                               \n",
            "dtypes: datetime64[ns, pytz.FixedOffset(420)](1), float64(4), int64(5), object(1)\n",
            "memory usage: 50.1+ KB\n"
          ],
          "name": "stdout"
        }
      ]
    },
    {
      "cell_type": "code",
      "metadata": {
        "colab": {
          "base_uri": "https://localhost:8080/"
        },
        "id": "uC65CxB70EaU",
        "outputId": "41e2daa6-a2e4-4f38-bd98-4755bcfe2a0a"
      },
      "source": [
        "df.isna().sum()"
      ],
      "execution_count": null,
      "outputs": [
        {
          "output_type": "execute_result",
          "data": {
            "text/plain": [
              "Waktu Pengukuran     0\n",
              "Kode Siklus          0\n",
              "Suhu Air             3\n",
              "Oksigen Terlarut    12\n",
              "Salinitas           60\n",
              "pH                   5\n",
              "tahun                0\n",
              "bulan                0\n",
              "day                  0\n",
              "jam                  0\n",
              "keterangan           0\n",
              "dtype: int64"
            ]
          },
          "metadata": {
            "tags": []
          },
          "execution_count": 41
        }
      ]
    },
    {
      "cell_type": "code",
      "metadata": {
        "id": "4v-odrgr0EX6"
      },
      "source": [
        "df1= df.dropna()"
      ],
      "execution_count": null,
      "outputs": []
    },
    {
      "cell_type": "code",
      "metadata": {
        "colab": {
          "base_uri": "https://localhost:8080/"
        },
        "id": "1m6ytUXF088i",
        "outputId": "a3552242-8c9e-40df-8b55-b5e636644537"
      },
      "source": [
        "df1.info()"
      ],
      "execution_count": null,
      "outputs": [
        {
          "output_type": "stream",
          "text": [
            "<class 'pandas.core.frame.DataFrame'>\n",
            "Int64Index: 515 entries, 0 to 580\n",
            "Data columns (total 11 columns):\n",
            " #   Column            Non-Null Count  Dtype                                \n",
            "---  ------            --------------  -----                                \n",
            " 0   Waktu Pengukuran  515 non-null    datetime64[ns, pytz.FixedOffset(420)]\n",
            " 1   Kode Siklus       515 non-null    int64                                \n",
            " 2   Suhu Air          515 non-null    float64                              \n",
            " 3   Oksigen Terlarut  515 non-null    float64                              \n",
            " 4   Salinitas         515 non-null    float64                              \n",
            " 5   pH                515 non-null    float64                              \n",
            " 6   tahun             515 non-null    int64                                \n",
            " 7   bulan             515 non-null    int64                                \n",
            " 8   day               515 non-null    int64                                \n",
            " 9   jam               515 non-null    int64                                \n",
            " 10  keterangan        515 non-null    object                               \n",
            "dtypes: datetime64[ns, pytz.FixedOffset(420)](1), float64(4), int64(5), object(1)\n",
            "memory usage: 48.3+ KB\n"
          ],
          "name": "stdout"
        }
      ]
    },
    {
      "cell_type": "code",
      "metadata": {
        "colab": {
          "base_uri": "https://localhost:8080/",
          "height": 295
        },
        "id": "yH3pB3ki1Ut1",
        "outputId": "943ab129-9ddb-4794-c30a-9d1a04a5207d"
      },
      "source": [
        "df1.describe()"
      ],
      "execution_count": null,
      "outputs": [
        {
          "output_type": "execute_result",
          "data": {
            "text/html": [
              "<div>\n",
              "<style scoped>\n",
              "    .dataframe tbody tr th:only-of-type {\n",
              "        vertical-align: middle;\n",
              "    }\n",
              "\n",
              "    .dataframe tbody tr th {\n",
              "        vertical-align: top;\n",
              "    }\n",
              "\n",
              "    .dataframe thead th {\n",
              "        text-align: right;\n",
              "    }\n",
              "</style>\n",
              "<table border=\"1\" class=\"dataframe\">\n",
              "  <thead>\n",
              "    <tr style=\"text-align: right;\">\n",
              "      <th></th>\n",
              "      <th>Kode Siklus</th>\n",
              "      <th>Suhu Air</th>\n",
              "      <th>Oksigen Terlarut</th>\n",
              "      <th>Salinitas</th>\n",
              "      <th>pH</th>\n",
              "      <th>tahun</th>\n",
              "      <th>bulan</th>\n",
              "      <th>day</th>\n",
              "      <th>jam</th>\n",
              "    </tr>\n",
              "  </thead>\n",
              "  <tbody>\n",
              "    <tr>\n",
              "      <th>count</th>\n",
              "      <td>515.000000</td>\n",
              "      <td>515.000000</td>\n",
              "      <td>515.000000</td>\n",
              "      <td>515.000000</td>\n",
              "      <td>515.000000</td>\n",
              "      <td>515.000000</td>\n",
              "      <td>515.000000</td>\n",
              "      <td>515.000000</td>\n",
              "      <td>515.000000</td>\n",
              "    </tr>\n",
              "    <tr>\n",
              "      <th>mean</th>\n",
              "      <td>234.209709</td>\n",
              "      <td>28.873068</td>\n",
              "      <td>5.608388</td>\n",
              "      <td>31.062893</td>\n",
              "      <td>7.690194</td>\n",
              "      <td>2018.434951</td>\n",
              "      <td>6.384466</td>\n",
              "      <td>16.184466</td>\n",
              "      <td>12.631068</td>\n",
              "    </tr>\n",
              "    <tr>\n",
              "      <th>std</th>\n",
              "      <td>255.747129</td>\n",
              "      <td>6.375600</td>\n",
              "      <td>2.497198</td>\n",
              "      <td>7.126711</td>\n",
              "      <td>1.075910</td>\n",
              "      <td>0.496233</td>\n",
              "      <td>2.914433</td>\n",
              "      <td>8.927014</td>\n",
              "      <td>5.357257</td>\n",
              "    </tr>\n",
              "    <tr>\n",
              "      <th>min</th>\n",
              "      <td>50.000000</td>\n",
              "      <td>24.000000</td>\n",
              "      <td>0.000000</td>\n",
              "      <td>0.000000</td>\n",
              "      <td>2.750000</td>\n",
              "      <td>2018.000000</td>\n",
              "      <td>2.000000</td>\n",
              "      <td>1.000000</td>\n",
              "      <td>5.000000</td>\n",
              "    </tr>\n",
              "    <tr>\n",
              "      <th>25%</th>\n",
              "      <td>50.000000</td>\n",
              "      <td>27.310000</td>\n",
              "      <td>4.390000</td>\n",
              "      <td>27.420000</td>\n",
              "      <td>7.535000</td>\n",
              "      <td>2018.000000</td>\n",
              "      <td>3.000000</td>\n",
              "      <td>8.000000</td>\n",
              "      <td>7.000000</td>\n",
              "    </tr>\n",
              "    <tr>\n",
              "      <th>50%</th>\n",
              "      <td>66.000000</td>\n",
              "      <td>28.500000</td>\n",
              "      <td>5.260000</td>\n",
              "      <td>30.990000</td>\n",
              "      <td>7.850000</td>\n",
              "      <td>2018.000000</td>\n",
              "      <td>7.000000</td>\n",
              "      <td>17.000000</td>\n",
              "      <td>15.000000</td>\n",
              "    </tr>\n",
              "    <tr>\n",
              "      <th>75%</th>\n",
              "      <td>298.000000</td>\n",
              "      <td>29.690000</td>\n",
              "      <td>6.340000</td>\n",
              "      <td>37.225000</td>\n",
              "      <td>8.240000</td>\n",
              "      <td>2019.000000</td>\n",
              "      <td>8.000000</td>\n",
              "      <td>24.000000</td>\n",
              "      <td>17.000000</td>\n",
              "    </tr>\n",
              "    <tr>\n",
              "      <th>max</th>\n",
              "      <td>812.000000</td>\n",
              "      <td>127.000000</td>\n",
              "      <td>18.260000</td>\n",
              "      <td>39.740000</td>\n",
              "      <td>9.770000</td>\n",
              "      <td>2019.000000</td>\n",
              "      <td>11.000000</td>\n",
              "      <td>31.000000</td>\n",
              "      <td>23.000000</td>\n",
              "    </tr>\n",
              "  </tbody>\n",
              "</table>\n",
              "</div>"
            ],
            "text/plain": [
              "       Kode Siklus    Suhu Air  ...         day         jam\n",
              "count   515.000000  515.000000  ...  515.000000  515.000000\n",
              "mean    234.209709   28.873068  ...   16.184466   12.631068\n",
              "std     255.747129    6.375600  ...    8.927014    5.357257\n",
              "min      50.000000   24.000000  ...    1.000000    5.000000\n",
              "25%      50.000000   27.310000  ...    8.000000    7.000000\n",
              "50%      66.000000   28.500000  ...   17.000000   15.000000\n",
              "75%     298.000000   29.690000  ...   24.000000   17.000000\n",
              "max     812.000000  127.000000  ...   31.000000   23.000000\n",
              "\n",
              "[8 rows x 9 columns]"
            ]
          },
          "metadata": {
            "tags": []
          },
          "execution_count": 44
        }
      ]
    },
    {
      "cell_type": "code",
      "metadata": {
        "colab": {
          "base_uri": "https://localhost:8080/",
          "height": 203
        },
        "id": "OuPE0bIO1UrQ",
        "outputId": "b8fc3cc3-122d-452f-e6f5-af6e1bd4af2d"
      },
      "source": [
        "daftar_siklus = pd.read_csv('daftar_siklus.csv')\n",
        "daftar_siklus"
      ],
      "execution_count": null,
      "outputs": [
        {
          "output_type": "execute_result",
          "data": {
            "text/html": [
              "<div>\n",
              "<style scoped>\n",
              "    .dataframe tbody tr th:only-of-type {\n",
              "        vertical-align: middle;\n",
              "    }\n",
              "\n",
              "    .dataframe tbody tr th {\n",
              "        vertical-align: top;\n",
              "    }\n",
              "\n",
              "    .dataframe thead th {\n",
              "        text-align: right;\n",
              "    }\n",
              "</style>\n",
              "<table border=\"1\" class=\"dataframe\">\n",
              "  <thead>\n",
              "    <tr style=\"text-align: right;\">\n",
              "      <th></th>\n",
              "      <th>Kode Siklus</th>\n",
              "      <th>Kode Kolam</th>\n",
              "      <th>Panjang Kolam</th>\n",
              "      <th>Lebar Kolam</th>\n",
              "      <th>Kedalaman Kolam</th>\n",
              "      <th>Tanggal Tebar</th>\n",
              "      <th>Tanggal Selesai Siklus</th>\n",
              "      <th>Jumlah Benur</th>\n",
              "      <th>Daerah</th>\n",
              "    </tr>\n",
              "  </thead>\n",
              "  <tbody>\n",
              "    <tr>\n",
              "      <th>0</th>\n",
              "      <td>50</td>\n",
              "      <td>2266</td>\n",
              "      <td>115.47</td>\n",
              "      <td>86.60</td>\n",
              "      <td>100.0</td>\n",
              "      <td>2018-07-16</td>\n",
              "      <td>2018-11-13</td>\n",
              "      <td>100000</td>\n",
              "      <td>BANTUL</td>\n",
              "    </tr>\n",
              "    <tr>\n",
              "      <th>1</th>\n",
              "      <td>66</td>\n",
              "      <td>3</td>\n",
              "      <td>36.20</td>\n",
              "      <td>46.40</td>\n",
              "      <td>1.1</td>\n",
              "      <td>2018-07-20</td>\n",
              "      <td>2018-11-08</td>\n",
              "      <td>200000</td>\n",
              "      <td>PURWOREJO</td>\n",
              "    </tr>\n",
              "    <tr>\n",
              "      <th>2</th>\n",
              "      <td>295</td>\n",
              "      <td>3418</td>\n",
              "      <td>79.16</td>\n",
              "      <td>59.37</td>\n",
              "      <td>1.5</td>\n",
              "      <td>2019-01-05</td>\n",
              "      <td>2019-03-03</td>\n",
              "      <td>583740</td>\n",
              "      <td>LAMPUNG SELATAN</td>\n",
              "    </tr>\n",
              "    <tr>\n",
              "      <th>3</th>\n",
              "      <td>298</td>\n",
              "      <td>3421</td>\n",
              "      <td>79.16</td>\n",
              "      <td>59.37</td>\n",
              "      <td>1.5</td>\n",
              "      <td>2019-01-10</td>\n",
              "      <td>2019-03-10</td>\n",
              "      <td>588432</td>\n",
              "      <td>LAMPUNG SELATAN</td>\n",
              "    </tr>\n",
              "    <tr>\n",
              "      <th>4</th>\n",
              "      <td>812</td>\n",
              "      <td>4</td>\n",
              "      <td>49.90</td>\n",
              "      <td>36.30</td>\n",
              "      <td>0.9</td>\n",
              "      <td>2019-05-07</td>\n",
              "      <td>2019-08-01</td>\n",
              "      <td>175000</td>\n",
              "      <td>PURWOREJO</td>\n",
              "    </tr>\n",
              "  </tbody>\n",
              "</table>\n",
              "</div>"
            ],
            "text/plain": [
              "   Kode Siklus  Kode Kolam  ...  Jumlah Benur           Daerah\n",
              "0           50        2266  ...        100000           BANTUL\n",
              "1           66           3  ...        200000        PURWOREJO\n",
              "2          295        3418  ...        583740  LAMPUNG SELATAN\n",
              "3          298        3421  ...        588432  LAMPUNG SELATAN\n",
              "4          812           4  ...        175000        PURWOREJO\n",
              "\n",
              "[5 rows x 9 columns]"
            ]
          },
          "metadata": {
            "tags": []
          },
          "execution_count": 45
        }
      ]
    },
    {
      "cell_type": "code",
      "metadata": {
        "colab": {
          "base_uri": "https://localhost:8080/",
          "height": 203
        },
        "id": "Xp8O2FI431sm",
        "outputId": "ae3185d7-6804-479e-a5e4-a3ae75e4f59c"
      },
      "source": [
        "df2= daftar_siklus[['Kode Siklus','Kode Kolam']]\n",
        "df2"
      ],
      "execution_count": null,
      "outputs": [
        {
          "output_type": "execute_result",
          "data": {
            "text/html": [
              "<div>\n",
              "<style scoped>\n",
              "    .dataframe tbody tr th:only-of-type {\n",
              "        vertical-align: middle;\n",
              "    }\n",
              "\n",
              "    .dataframe tbody tr th {\n",
              "        vertical-align: top;\n",
              "    }\n",
              "\n",
              "    .dataframe thead th {\n",
              "        text-align: right;\n",
              "    }\n",
              "</style>\n",
              "<table border=\"1\" class=\"dataframe\">\n",
              "  <thead>\n",
              "    <tr style=\"text-align: right;\">\n",
              "      <th></th>\n",
              "      <th>Kode Siklus</th>\n",
              "      <th>Kode Kolam</th>\n",
              "    </tr>\n",
              "  </thead>\n",
              "  <tbody>\n",
              "    <tr>\n",
              "      <th>0</th>\n",
              "      <td>50</td>\n",
              "      <td>2266</td>\n",
              "    </tr>\n",
              "    <tr>\n",
              "      <th>1</th>\n",
              "      <td>66</td>\n",
              "      <td>3</td>\n",
              "    </tr>\n",
              "    <tr>\n",
              "      <th>2</th>\n",
              "      <td>295</td>\n",
              "      <td>3418</td>\n",
              "    </tr>\n",
              "    <tr>\n",
              "      <th>3</th>\n",
              "      <td>298</td>\n",
              "      <td>3421</td>\n",
              "    </tr>\n",
              "    <tr>\n",
              "      <th>4</th>\n",
              "      <td>812</td>\n",
              "      <td>4</td>\n",
              "    </tr>\n",
              "  </tbody>\n",
              "</table>\n",
              "</div>"
            ],
            "text/plain": [
              "   Kode Siklus  Kode Kolam\n",
              "0           50        2266\n",
              "1           66           3\n",
              "2          295        3418\n",
              "3          298        3421\n",
              "4          812           4"
            ]
          },
          "metadata": {
            "tags": []
          },
          "execution_count": 46
        }
      ]
    },
    {
      "cell_type": "code",
      "metadata": {
        "id": "CBfPZGnh1UoR"
      },
      "source": [
        "df3 = pd.merge(df1, df2, on='Kode Siklus')"
      ],
      "execution_count": null,
      "outputs": []
    },
    {
      "cell_type": "code",
      "metadata": {
        "colab": {
          "base_uri": "https://localhost:8080/",
          "height": 417
        },
        "id": "qx-UdOTj1UlT",
        "outputId": "ea52ca83-ddcd-4e68-c8cd-adc768202a13"
      },
      "source": [
        "df3"
      ],
      "execution_count": null,
      "outputs": [
        {
          "output_type": "execute_result",
          "data": {
            "text/html": [
              "<div>\n",
              "<style scoped>\n",
              "    .dataframe tbody tr th:only-of-type {\n",
              "        vertical-align: middle;\n",
              "    }\n",
              "\n",
              "    .dataframe tbody tr th {\n",
              "        vertical-align: top;\n",
              "    }\n",
              "\n",
              "    .dataframe thead th {\n",
              "        text-align: right;\n",
              "    }\n",
              "</style>\n",
              "<table border=\"1\" class=\"dataframe\">\n",
              "  <thead>\n",
              "    <tr style=\"text-align: right;\">\n",
              "      <th></th>\n",
              "      <th>Waktu Pengukuran</th>\n",
              "      <th>Kode Siklus</th>\n",
              "      <th>Suhu Air</th>\n",
              "      <th>Oksigen Terlarut</th>\n",
              "      <th>Salinitas</th>\n",
              "      <th>pH</th>\n",
              "      <th>tahun</th>\n",
              "      <th>bulan</th>\n",
              "      <th>day</th>\n",
              "      <th>jam</th>\n",
              "      <th>keterangan</th>\n",
              "      <th>Kode Kolam</th>\n",
              "    </tr>\n",
              "  </thead>\n",
              "  <tbody>\n",
              "    <tr>\n",
              "      <th>0</th>\n",
              "      <td>2018-07-16 07:00:00+07:00</td>\n",
              "      <td>50</td>\n",
              "      <td>26.70</td>\n",
              "      <td>15.90</td>\n",
              "      <td>22.40</td>\n",
              "      <td>5.80</td>\n",
              "      <td>2018</td>\n",
              "      <td>7</td>\n",
              "      <td>16</td>\n",
              "      <td>7</td>\n",
              "      <td>Pagi</td>\n",
              "      <td>2266</td>\n",
              "    </tr>\n",
              "    <tr>\n",
              "      <th>1</th>\n",
              "      <td>2018-07-16 17:00:00+07:00</td>\n",
              "      <td>50</td>\n",
              "      <td>28.90</td>\n",
              "      <td>15.20</td>\n",
              "      <td>22.70</td>\n",
              "      <td>7.62</td>\n",
              "      <td>2018</td>\n",
              "      <td>7</td>\n",
              "      <td>16</td>\n",
              "      <td>17</td>\n",
              "      <td>Sore</td>\n",
              "      <td>2266</td>\n",
              "    </tr>\n",
              "    <tr>\n",
              "      <th>2</th>\n",
              "      <td>2018-07-17 07:00:00+07:00</td>\n",
              "      <td>50</td>\n",
              "      <td>25.80</td>\n",
              "      <td>11.30</td>\n",
              "      <td>22.60</td>\n",
              "      <td>7.70</td>\n",
              "      <td>2018</td>\n",
              "      <td>7</td>\n",
              "      <td>17</td>\n",
              "      <td>7</td>\n",
              "      <td>Pagi</td>\n",
              "      <td>2266</td>\n",
              "    </tr>\n",
              "    <tr>\n",
              "      <th>3</th>\n",
              "      <td>2018-07-17 17:00:00+07:00</td>\n",
              "      <td>50</td>\n",
              "      <td>28.90</td>\n",
              "      <td>14.20</td>\n",
              "      <td>22.80</td>\n",
              "      <td>8.46</td>\n",
              "      <td>2018</td>\n",
              "      <td>7</td>\n",
              "      <td>17</td>\n",
              "      <td>17</td>\n",
              "      <td>Sore</td>\n",
              "      <td>2266</td>\n",
              "    </tr>\n",
              "    <tr>\n",
              "      <th>4</th>\n",
              "      <td>2018-07-18 07:00:00+07:00</td>\n",
              "      <td>50</td>\n",
              "      <td>26.00</td>\n",
              "      <td>8.70</td>\n",
              "      <td>22.60</td>\n",
              "      <td>8.30</td>\n",
              "      <td>2018</td>\n",
              "      <td>7</td>\n",
              "      <td>18</td>\n",
              "      <td>7</td>\n",
              "      <td>Pagi</td>\n",
              "      <td>2266</td>\n",
              "    </tr>\n",
              "    <tr>\n",
              "      <th>...</th>\n",
              "      <td>...</td>\n",
              "      <td>...</td>\n",
              "      <td>...</td>\n",
              "      <td>...</td>\n",
              "      <td>...</td>\n",
              "      <td>...</td>\n",
              "      <td>...</td>\n",
              "      <td>...</td>\n",
              "      <td>...</td>\n",
              "      <td>...</td>\n",
              "      <td>...</td>\n",
              "      <td>...</td>\n",
              "    </tr>\n",
              "    <tr>\n",
              "      <th>510</th>\n",
              "      <td>2019-07-29 07:32:21+07:00</td>\n",
              "      <td>812</td>\n",
              "      <td>24.85</td>\n",
              "      <td>6.58</td>\n",
              "      <td>28.09</td>\n",
              "      <td>7.00</td>\n",
              "      <td>2019</td>\n",
              "      <td>7</td>\n",
              "      <td>29</td>\n",
              "      <td>7</td>\n",
              "      <td>Pagi</td>\n",
              "      <td>4</td>\n",
              "    </tr>\n",
              "    <tr>\n",
              "      <th>511</th>\n",
              "      <td>2019-07-29 16:16:36+07:00</td>\n",
              "      <td>812</td>\n",
              "      <td>27.72</td>\n",
              "      <td>7.10</td>\n",
              "      <td>28.31</td>\n",
              "      <td>8.16</td>\n",
              "      <td>2019</td>\n",
              "      <td>7</td>\n",
              "      <td>29</td>\n",
              "      <td>16</td>\n",
              "      <td>Sore</td>\n",
              "      <td>4</td>\n",
              "    </tr>\n",
              "    <tr>\n",
              "      <th>512</th>\n",
              "      <td>2019-07-29 16:16:38+07:00</td>\n",
              "      <td>812</td>\n",
              "      <td>27.59</td>\n",
              "      <td>7.10</td>\n",
              "      <td>28.31</td>\n",
              "      <td>8.16</td>\n",
              "      <td>2019</td>\n",
              "      <td>7</td>\n",
              "      <td>29</td>\n",
              "      <td>16</td>\n",
              "      <td>Sore</td>\n",
              "      <td>4</td>\n",
              "    </tr>\n",
              "    <tr>\n",
              "      <th>513</th>\n",
              "      <td>2019-07-30 16:09:59+07:00</td>\n",
              "      <td>812</td>\n",
              "      <td>28.44</td>\n",
              "      <td>7.65</td>\n",
              "      <td>28.00</td>\n",
              "      <td>7.86</td>\n",
              "      <td>2019</td>\n",
              "      <td>7</td>\n",
              "      <td>30</td>\n",
              "      <td>16</td>\n",
              "      <td>Sore</td>\n",
              "      <td>4</td>\n",
              "    </tr>\n",
              "    <tr>\n",
              "      <th>514</th>\n",
              "      <td>2019-07-31 16:17:39+07:00</td>\n",
              "      <td>812</td>\n",
              "      <td>28.65</td>\n",
              "      <td>6.94</td>\n",
              "      <td>28.00</td>\n",
              "      <td>8.37</td>\n",
              "      <td>2019</td>\n",
              "      <td>7</td>\n",
              "      <td>31</td>\n",
              "      <td>16</td>\n",
              "      <td>Sore</td>\n",
              "      <td>4</td>\n",
              "    </tr>\n",
              "  </tbody>\n",
              "</table>\n",
              "<p>515 rows × 12 columns</p>\n",
              "</div>"
            ],
            "text/plain": [
              "             Waktu Pengukuran  Kode Siklus  ...  keterangan  Kode Kolam\n",
              "0   2018-07-16 07:00:00+07:00           50  ...        Pagi        2266\n",
              "1   2018-07-16 17:00:00+07:00           50  ...        Sore        2266\n",
              "2   2018-07-17 07:00:00+07:00           50  ...        Pagi        2266\n",
              "3   2018-07-17 17:00:00+07:00           50  ...        Sore        2266\n",
              "4   2018-07-18 07:00:00+07:00           50  ...        Pagi        2266\n",
              "..                        ...          ...  ...         ...         ...\n",
              "510 2019-07-29 07:32:21+07:00          812  ...        Pagi           4\n",
              "511 2019-07-29 16:16:36+07:00          812  ...        Sore           4\n",
              "512 2019-07-29 16:16:38+07:00          812  ...        Sore           4\n",
              "513 2019-07-30 16:09:59+07:00          812  ...        Sore           4\n",
              "514 2019-07-31 16:17:39+07:00          812  ...        Sore           4\n",
              "\n",
              "[515 rows x 12 columns]"
            ]
          },
          "metadata": {
            "tags": []
          },
          "execution_count": 48
        }
      ]
    },
    {
      "cell_type": "markdown",
      "metadata": {
        "id": "F3Xq4gXYDSzy"
      },
      "source": [
        "## **Kolam 2266**"
      ]
    },
    {
      "cell_type": "code",
      "metadata": {
        "colab": {
          "base_uri": "https://localhost:8080/",
          "height": 417
        },
        "id": "ZOU2kjsH1Uir",
        "outputId": "9478c014-f66f-4d14-d53a-aa65362e5c2a"
      },
      "source": [
        "kolam2266= df3[df3['Kode Kolam']==2266]\n",
        "kolam2266"
      ],
      "execution_count": null,
      "outputs": [
        {
          "output_type": "execute_result",
          "data": {
            "text/html": [
              "<div>\n",
              "<style scoped>\n",
              "    .dataframe tbody tr th:only-of-type {\n",
              "        vertical-align: middle;\n",
              "    }\n",
              "\n",
              "    .dataframe tbody tr th {\n",
              "        vertical-align: top;\n",
              "    }\n",
              "\n",
              "    .dataframe thead th {\n",
              "        text-align: right;\n",
              "    }\n",
              "</style>\n",
              "<table border=\"1\" class=\"dataframe\">\n",
              "  <thead>\n",
              "    <tr style=\"text-align: right;\">\n",
              "      <th></th>\n",
              "      <th>Waktu Pengukuran</th>\n",
              "      <th>Kode Siklus</th>\n",
              "      <th>Suhu Air</th>\n",
              "      <th>Oksigen Terlarut</th>\n",
              "      <th>Salinitas</th>\n",
              "      <th>pH</th>\n",
              "      <th>tahun</th>\n",
              "      <th>bulan</th>\n",
              "      <th>day</th>\n",
              "      <th>jam</th>\n",
              "      <th>keterangan</th>\n",
              "      <th>Kode Kolam</th>\n",
              "    </tr>\n",
              "  </thead>\n",
              "  <tbody>\n",
              "    <tr>\n",
              "      <th>0</th>\n",
              "      <td>2018-07-16 07:00:00+07:00</td>\n",
              "      <td>50</td>\n",
              "      <td>26.70</td>\n",
              "      <td>15.90</td>\n",
              "      <td>22.40</td>\n",
              "      <td>5.80</td>\n",
              "      <td>2018</td>\n",
              "      <td>7</td>\n",
              "      <td>16</td>\n",
              "      <td>7</td>\n",
              "      <td>Pagi</td>\n",
              "      <td>2266</td>\n",
              "    </tr>\n",
              "    <tr>\n",
              "      <th>1</th>\n",
              "      <td>2018-07-16 17:00:00+07:00</td>\n",
              "      <td>50</td>\n",
              "      <td>28.90</td>\n",
              "      <td>15.20</td>\n",
              "      <td>22.70</td>\n",
              "      <td>7.62</td>\n",
              "      <td>2018</td>\n",
              "      <td>7</td>\n",
              "      <td>16</td>\n",
              "      <td>17</td>\n",
              "      <td>Sore</td>\n",
              "      <td>2266</td>\n",
              "    </tr>\n",
              "    <tr>\n",
              "      <th>2</th>\n",
              "      <td>2018-07-17 07:00:00+07:00</td>\n",
              "      <td>50</td>\n",
              "      <td>25.80</td>\n",
              "      <td>11.30</td>\n",
              "      <td>22.60</td>\n",
              "      <td>7.70</td>\n",
              "      <td>2018</td>\n",
              "      <td>7</td>\n",
              "      <td>17</td>\n",
              "      <td>7</td>\n",
              "      <td>Pagi</td>\n",
              "      <td>2266</td>\n",
              "    </tr>\n",
              "    <tr>\n",
              "      <th>3</th>\n",
              "      <td>2018-07-17 17:00:00+07:00</td>\n",
              "      <td>50</td>\n",
              "      <td>28.90</td>\n",
              "      <td>14.20</td>\n",
              "      <td>22.80</td>\n",
              "      <td>8.46</td>\n",
              "      <td>2018</td>\n",
              "      <td>7</td>\n",
              "      <td>17</td>\n",
              "      <td>17</td>\n",
              "      <td>Sore</td>\n",
              "      <td>2266</td>\n",
              "    </tr>\n",
              "    <tr>\n",
              "      <th>4</th>\n",
              "      <td>2018-07-18 07:00:00+07:00</td>\n",
              "      <td>50</td>\n",
              "      <td>26.00</td>\n",
              "      <td>8.70</td>\n",
              "      <td>22.60</td>\n",
              "      <td>8.30</td>\n",
              "      <td>2018</td>\n",
              "      <td>7</td>\n",
              "      <td>18</td>\n",
              "      <td>7</td>\n",
              "      <td>Pagi</td>\n",
              "      <td>2266</td>\n",
              "    </tr>\n",
              "    <tr>\n",
              "      <th>...</th>\n",
              "      <td>...</td>\n",
              "      <td>...</td>\n",
              "      <td>...</td>\n",
              "      <td>...</td>\n",
              "      <td>...</td>\n",
              "      <td>...</td>\n",
              "      <td>...</td>\n",
              "      <td>...</td>\n",
              "      <td>...</td>\n",
              "      <td>...</td>\n",
              "      <td>...</td>\n",
              "      <td>...</td>\n",
              "    </tr>\n",
              "    <tr>\n",
              "      <th>129</th>\n",
              "      <td>2018-09-03 08:28:18+07:00</td>\n",
              "      <td>50</td>\n",
              "      <td>28.13</td>\n",
              "      <td>5.41</td>\n",
              "      <td>29.80</td>\n",
              "      <td>7.01</td>\n",
              "      <td>2018</td>\n",
              "      <td>9</td>\n",
              "      <td>3</td>\n",
              "      <td>8</td>\n",
              "      <td>Pagi</td>\n",
              "      <td>2266</td>\n",
              "    </tr>\n",
              "    <tr>\n",
              "      <th>130</th>\n",
              "      <td>2018-09-03 15:24:02+07:00</td>\n",
              "      <td>50</td>\n",
              "      <td>31.56</td>\n",
              "      <td>5.90</td>\n",
              "      <td>30.51</td>\n",
              "      <td>7.76</td>\n",
              "      <td>2018</td>\n",
              "      <td>9</td>\n",
              "      <td>3</td>\n",
              "      <td>15</td>\n",
              "      <td>Siang</td>\n",
              "      <td>2266</td>\n",
              "    </tr>\n",
              "    <tr>\n",
              "      <th>131</th>\n",
              "      <td>2018-09-04 08:30:53+07:00</td>\n",
              "      <td>50</td>\n",
              "      <td>27.63</td>\n",
              "      <td>4.57</td>\n",
              "      <td>30.37</td>\n",
              "      <td>7.39</td>\n",
              "      <td>2018</td>\n",
              "      <td>9</td>\n",
              "      <td>4</td>\n",
              "      <td>8</td>\n",
              "      <td>Pagi</td>\n",
              "      <td>2266</td>\n",
              "    </tr>\n",
              "    <tr>\n",
              "      <th>132</th>\n",
              "      <td>2018-09-05 08:30:39+07:00</td>\n",
              "      <td>50</td>\n",
              "      <td>27.44</td>\n",
              "      <td>5.38</td>\n",
              "      <td>29.95</td>\n",
              "      <td>6.73</td>\n",
              "      <td>2018</td>\n",
              "      <td>9</td>\n",
              "      <td>5</td>\n",
              "      <td>8</td>\n",
              "      <td>Pagi</td>\n",
              "      <td>2266</td>\n",
              "    </tr>\n",
              "    <tr>\n",
              "      <th>133</th>\n",
              "      <td>2018-09-05 08:32:51+07:00</td>\n",
              "      <td>50</td>\n",
              "      <td>27.38</td>\n",
              "      <td>5.63</td>\n",
              "      <td>30.28</td>\n",
              "      <td>6.17</td>\n",
              "      <td>2018</td>\n",
              "      <td>9</td>\n",
              "      <td>5</td>\n",
              "      <td>8</td>\n",
              "      <td>Pagi</td>\n",
              "      <td>2266</td>\n",
              "    </tr>\n",
              "  </tbody>\n",
              "</table>\n",
              "<p>134 rows × 12 columns</p>\n",
              "</div>"
            ],
            "text/plain": [
              "             Waktu Pengukuran  Kode Siklus  ...  keterangan  Kode Kolam\n",
              "0   2018-07-16 07:00:00+07:00           50  ...        Pagi        2266\n",
              "1   2018-07-16 17:00:00+07:00           50  ...        Sore        2266\n",
              "2   2018-07-17 07:00:00+07:00           50  ...        Pagi        2266\n",
              "3   2018-07-17 17:00:00+07:00           50  ...        Sore        2266\n",
              "4   2018-07-18 07:00:00+07:00           50  ...        Pagi        2266\n",
              "..                        ...          ...  ...         ...         ...\n",
              "129 2018-09-03 08:28:18+07:00           50  ...        Pagi        2266\n",
              "130 2018-09-03 15:24:02+07:00           50  ...       Siang        2266\n",
              "131 2018-09-04 08:30:53+07:00           50  ...        Pagi        2266\n",
              "132 2018-09-05 08:30:39+07:00           50  ...        Pagi        2266\n",
              "133 2018-09-05 08:32:51+07:00           50  ...        Pagi        2266\n",
              "\n",
              "[134 rows x 12 columns]"
            ]
          },
          "metadata": {
            "tags": []
          },
          "execution_count": 49
        }
      ]
    },
    {
      "cell_type": "code",
      "metadata": {
        "colab": {
          "base_uri": "https://localhost:8080/",
          "height": 552
        },
        "id": "4cHc7ENi4Pfh",
        "outputId": "6d6c7158-fe48-4be1-fd57-ada6f91cf63e"
      },
      "source": [
        "import matplotlib.pyplot as plt\n",
        "\n",
        "data = [kolam2266['Suhu Air'], kolam2266['Salinitas'], kolam2266['Oksigen Terlarut'], kolam2266['pH']]\n",
        " \n",
        "fig = plt.figure(figsize =(10, 7))\n",
        " \n",
        "# Creating axes instance\n",
        "ax = fig.add_axes([0, 0, 1, 1])\n",
        "\n",
        "ax.set_xticklabels(['Suhu Air', 'Salinitas',\n",
        "                    'Oksigen Terlarut', 'pH'])\n",
        " \n",
        "# Creating plot\n",
        "bp = ax.boxplot(data)\n",
        " \n",
        "# show plot\n",
        "plt.show()"
      ],
      "execution_count": null,
      "outputs": [
        {
          "output_type": "display_data",
          "data": {
            "image/png": "[encoded data removed]",
            "text/plain": [
              "<Figure size 720x504 with 1 Axes>"
            ]
          },
          "metadata": {
            "tags": [],
            "needs_background": "light"
          }
        }
      ]
    },
    {
      "cell_type": "code",
      "metadata": {
        "colab": {
          "base_uri": "https://localhost:8080/"
        },
        "id": "18J2XzCBHj-o",
        "outputId": "fda34598-9f1b-4a60-bcdc-cbb1fd77c96d"
      },
      "source": [
        "##Remove Outlier\n",
        "# Q1, Q3, dan IQR\n",
        "Q1 = kolam2266['Suhu Air'].quantile(0.25)\n",
        "Q3 = kolam2266['Suhu Air'].quantile(0.75)\n",
        "IQR = Q3 - Q1\n",
        "\n",
        "# Check ukuran (baris dan kolom) sebelum data yang outliers dibuang\n",
        "print('Shape awal: ', kolam2266.shape)\n",
        "\n",
        "# Removing outliers\n",
        "kolam2266SA = kolam2266[~((kolam2266['Suhu Air'] < (Q1 - 1.5 * IQR)) | (kolam2266['Suhu Air'] > (Q3 + 1.5 * IQR)))]\n",
        "\n",
        "# Check ukuran (baris dan kolom) setelah data yang outliers dibuang\n",
        "print('Shape akhir: ', kolam2266SA.shape)"
      ],
      "execution_count": null,
      "outputs": [
        {
          "output_type": "stream",
          "text": [
            "Shape awal:  (134, 12)\n",
            "Shape akhir:  (133, 12)\n"
          ],
          "name": "stdout"
        }
      ]
    },
    {
      "cell_type": "code",
      "metadata": {
        "colab": {
          "base_uri": "https://localhost:8080/"
        },
        "id": "USHf_P5tJN9z",
        "outputId": "87993559-a6af-41ee-84ce-50c998c29cea"
      },
      "source": [
        "##Remove Outlier\n",
        "# Q1, Q3, dan IQR\n",
        "Q1 = kolam2266['Salinitas'].quantile(0.25)\n",
        "Q3 = kolam2266['Salinitas'].quantile(0.75)\n",
        "IQR = Q3 - Q1\n",
        "\n",
        "# Check ukuran (baris dan kolom) sebelum data yang outliers dibuang\n",
        "print('Shape awal: ', kolam2266.shape)\n",
        "\n",
        "# Removing outliers\n",
        "kolam2266S = kolam2266[~((kolam2266['Salinitas'] < (Q1 - 1.5 * IQR)) | (kolam2266['Salinitas'] > (Q3 + 1.5 * IQR)))]\n",
        "\n",
        "# Check ukuran (baris dan kolom) setelah data yang outliers dibuang\n",
        "print('Shape akhir: ', kolam2266S.shape)"
      ],
      "execution_count": null,
      "outputs": [
        {
          "output_type": "stream",
          "text": [
            "Shape awal:  (134, 12)\n",
            "Shape akhir:  (121, 12)\n"
          ],
          "name": "stdout"
        }
      ]
    },
    {
      "cell_type": "code",
      "metadata": {
        "colab": {
          "base_uri": "https://localhost:8080/"
        },
        "id": "VrnxqUTnJNum",
        "outputId": "0f30a531-0914-4435-9fb8-2b3860b94f6d"
      },
      "source": [
        "##Remove Outlier\n",
        "# Q1, Q3, dan IQR\n",
        "Q1 = kolam2266['Oksigen Terlarut'].quantile(0.25)\n",
        "Q3 = kolam2266['Oksigen Terlarut'].quantile(0.75)\n",
        "IQR = Q3 - Q1\n",
        "\n",
        "# Check ukuran (baris dan kolom) sebelum data yang outliers dibuang\n",
        "print('Shape awal: ', kolam2266.shape)\n",
        "\n",
        "# Removing outliers\n",
        "kolam2266OT = kolam2266[~((kolam2266['Oksigen Terlarut'] < (Q1 - 1.5 * IQR)) | (kolam2266['Oksigen Terlarut'] > (Q3 + 1.5 * IQR)))]\n",
        "\n",
        "# Check ukuran (baris dan kolom) setelah data yang outliers dibuang\n",
        "print('Shape akhir: ', kolam2266OT.shape)"
      ],
      "execution_count": null,
      "outputs": [
        {
          "output_type": "stream",
          "text": [
            "Shape awal:  (134, 12)\n",
            "Shape akhir:  (127, 12)\n"
          ],
          "name": "stdout"
        }
      ]
    },
    {
      "cell_type": "code",
      "metadata": {
        "colab": {
          "base_uri": "https://localhost:8080/"
        },
        "id": "0qXfRLspJNdS",
        "outputId": "81078c8d-f98d-4fd0-e552-c3c11b21fb84"
      },
      "source": [
        "##Remove Outlier\n",
        "# Q1, Q3, dan IQR\n",
        "Q1 = kolam2266['pH'].quantile(0.25)\n",
        "Q3 = kolam2266['pH'].quantile(0.75)\n",
        "IQR = Q3 - Q1\n",
        "\n",
        "# Check ukuran (baris dan kolom) sebelum data yang outliers dibuang\n",
        "print('Shape awal: ', kolam2266.shape)\n",
        "\n",
        "# Removing outliers\n",
        "kolam2266pH = kolam2266[~((kolam2266['pH'] < (Q1 - 1.5 * IQR)) | (kolam2266['pH'] > (Q3 + 1.5 * IQR)))]\n",
        "\n",
        "# Check ukuran (baris dan kolom) setelah data yang outliers dibuang\n",
        "print('Shape akhir: ', kolam2266pH.shape)"
      ],
      "execution_count": null,
      "outputs": [
        {
          "output_type": "stream",
          "text": [
            "Shape awal:  (134, 12)\n",
            "Shape akhir:  (116, 12)\n"
          ],
          "name": "stdout"
        }
      ]
    },
    {
      "cell_type": "code",
      "metadata": {
        "colab": {
          "base_uri": "https://localhost:8080/"
        },
        "id": "-fCXf9Tt4PWP",
        "outputId": "8c7e1c94-9fc2-42cb-be66-d4ec520174aa"
      },
      "source": [
        "print('Mean Suhu Air : ', kolam2266SA['Suhu Air'].mean())\n",
        "print('Mean Oksigen Terlarut: ', kolam2266OT['Oksigen Terlarut'].mean())\n",
        "print('Mean Salinitas: ', kolam2266S['Salinitas'].mean())\n",
        "print('Mean pH: ', kolam2266pH['pH'].mean())"
      ],
      "execution_count": null,
      "outputs": [
        {
          "output_type": "stream",
          "text": [
            "Mean Suhu Air :  28.592255639097765\n",
            "Mean Oksigen Terlarut:  7.000787401574804\n",
            "Mean Salinitas:  27.7204958677686\n",
            "Mean pH:  7.863275862068963\n"
          ],
          "name": "stdout"
        }
      ]
    },
    {
      "cell_type": "markdown",
      "metadata": {
        "id": "E1itZVn9ERGd"
      },
      "source": [
        "### **Kolam2266 Pagi**\n"
      ]
    },
    {
      "cell_type": "code",
      "metadata": {
        "colab": {
          "base_uri": "https://localhost:8080/",
          "height": 203
        },
        "id": "ID01qcTX4PS5",
        "outputId": "cdaf7c4e-80ec-4521-a14e-ad878592f311"
      },
      "source": [
        "kolam2266pagi= kolam2266[kolam2266['keterangan']=='Pagi']\n",
        "kolam2266pagi.head()"
      ],
      "execution_count": null,
      "outputs": [
        {
          "output_type": "execute_result",
          "data": {
            "text/html": [
              "<div>\n",
              "<style scoped>\n",
              "    .dataframe tbody tr th:only-of-type {\n",
              "        vertical-align: middle;\n",
              "    }\n",
              "\n",
              "    .dataframe tbody tr th {\n",
              "        vertical-align: top;\n",
              "    }\n",
              "\n",
              "    .dataframe thead th {\n",
              "        text-align: right;\n",
              "    }\n",
              "</style>\n",
              "<table border=\"1\" class=\"dataframe\">\n",
              "  <thead>\n",
              "    <tr style=\"text-align: right;\">\n",
              "      <th></th>\n",
              "      <th>Waktu Pengukuran</th>\n",
              "      <th>Kode Siklus</th>\n",
              "      <th>Suhu Air</th>\n",
              "      <th>Oksigen Terlarut</th>\n",
              "      <th>Salinitas</th>\n",
              "      <th>pH</th>\n",
              "      <th>tahun</th>\n",
              "      <th>bulan</th>\n",
              "      <th>day</th>\n",
              "      <th>jam</th>\n",
              "      <th>keterangan</th>\n",
              "      <th>Kode Kolam</th>\n",
              "    </tr>\n",
              "  </thead>\n",
              "  <tbody>\n",
              "    <tr>\n",
              "      <th>0</th>\n",
              "      <td>2018-07-16 07:00:00+07:00</td>\n",
              "      <td>50</td>\n",
              "      <td>26.7</td>\n",
              "      <td>15.9</td>\n",
              "      <td>22.4</td>\n",
              "      <td>5.80</td>\n",
              "      <td>2018</td>\n",
              "      <td>7</td>\n",
              "      <td>16</td>\n",
              "      <td>7</td>\n",
              "      <td>Pagi</td>\n",
              "      <td>2266</td>\n",
              "    </tr>\n",
              "    <tr>\n",
              "      <th>2</th>\n",
              "      <td>2018-07-17 07:00:00+07:00</td>\n",
              "      <td>50</td>\n",
              "      <td>25.8</td>\n",
              "      <td>11.3</td>\n",
              "      <td>22.6</td>\n",
              "      <td>7.70</td>\n",
              "      <td>2018</td>\n",
              "      <td>7</td>\n",
              "      <td>17</td>\n",
              "      <td>7</td>\n",
              "      <td>Pagi</td>\n",
              "      <td>2266</td>\n",
              "    </tr>\n",
              "    <tr>\n",
              "      <th>4</th>\n",
              "      <td>2018-07-18 07:00:00+07:00</td>\n",
              "      <td>50</td>\n",
              "      <td>26.0</td>\n",
              "      <td>8.7</td>\n",
              "      <td>22.6</td>\n",
              "      <td>8.30</td>\n",
              "      <td>2018</td>\n",
              "      <td>7</td>\n",
              "      <td>18</td>\n",
              "      <td>7</td>\n",
              "      <td>Pagi</td>\n",
              "      <td>2266</td>\n",
              "    </tr>\n",
              "    <tr>\n",
              "      <th>6</th>\n",
              "      <td>2018-07-19 07:00:00+07:00</td>\n",
              "      <td>50</td>\n",
              "      <td>26.4</td>\n",
              "      <td>4.8</td>\n",
              "      <td>22.8</td>\n",
              "      <td>8.11</td>\n",
              "      <td>2018</td>\n",
              "      <td>7</td>\n",
              "      <td>19</td>\n",
              "      <td>7</td>\n",
              "      <td>Pagi</td>\n",
              "      <td>2266</td>\n",
              "    </tr>\n",
              "    <tr>\n",
              "      <th>8</th>\n",
              "      <td>2018-07-20 07:00:00+07:00</td>\n",
              "      <td>50</td>\n",
              "      <td>26.9</td>\n",
              "      <td>3.7</td>\n",
              "      <td>25.3</td>\n",
              "      <td>8.11</td>\n",
              "      <td>2018</td>\n",
              "      <td>7</td>\n",
              "      <td>20</td>\n",
              "      <td>7</td>\n",
              "      <td>Pagi</td>\n",
              "      <td>2266</td>\n",
              "    </tr>\n",
              "  </tbody>\n",
              "</table>\n",
              "</div>"
            ],
            "text/plain": [
              "           Waktu Pengukuran  Kode Siklus  Suhu Air  ...  jam  keterangan  Kode Kolam\n",
              "0 2018-07-16 07:00:00+07:00           50      26.7  ...    7        Pagi        2266\n",
              "2 2018-07-17 07:00:00+07:00           50      25.8  ...    7        Pagi        2266\n",
              "4 2018-07-18 07:00:00+07:00           50      26.0  ...    7        Pagi        2266\n",
              "6 2018-07-19 07:00:00+07:00           50      26.4  ...    7        Pagi        2266\n",
              "8 2018-07-20 07:00:00+07:00           50      26.9  ...    7        Pagi        2266\n",
              "\n",
              "[5 rows x 12 columns]"
            ]
          },
          "metadata": {
            "tags": []
          },
          "execution_count": 58
        }
      ]
    },
    {
      "cell_type": "code",
      "metadata": {
        "colab": {
          "base_uri": "https://localhost:8080/",
          "height": 552
        },
        "id": "2JnUsw2FPvIF",
        "outputId": "843a57aa-a384-4165-c109-367f8028e929"
      },
      "source": [
        "data = [kolam2266pagi['Suhu Air'], kolam2266pagi['Salinitas'], kolam2266pagi['Oksigen Terlarut'], kolam2266pagi['pH']]\n",
        " \n",
        "fig = plt.figure(figsize =(10, 7))\n",
        " \n",
        "# Creating axes instance\n",
        "ax = fig.add_axes([0, 0, 1, 1])\n",
        "\n",
        "ax.set_xticklabels(['Suhu Air', 'Salinitas',\n",
        "                    'Oksigen Terlarut', 'pH'])\n",
        " \n",
        "# Creating plot\n",
        "bp = ax.boxplot(data)\n",
        " \n",
        "# show plot\n",
        "plt.show()"
      ],
      "execution_count": null,
      "outputs": [
        {
          "output_type": "display_data",
          "data": {
            "image/png": "[encoded data removed]",
            "text/plain": [
              "<Figure size 720x504 with 1 Axes>"
            ]
          },
          "metadata": {
            "tags": [],
            "needs_background": "light"
          }
        }
      ]
    },
    {
      "cell_type": "code",
      "metadata": {
        "colab": {
          "base_uri": "https://localhost:8080/"
        },
        "id": "O8HOfE-j1498",
        "outputId": "01ad62c9-36c9-4571-d278-9f991df10b2b"
      },
      "source": [
        "##Remove Outlier Column Salinitas\n",
        "# Q1, Q3, dan IQR\n",
        "Q1 = kolam2266pagi['Salinitas'].quantile(0.25)\n",
        "Q3 = kolam2266pagi['Salinitas'].quantile(0.75)\n",
        "IQR = Q3 - Q1\n",
        "\n",
        "# Check ukuran (baris dan kolom) sebelum data yang outliers dibuang\n",
        "print('Shape awal: ', kolam2266pagi.shape)\n",
        "\n",
        "# Removing outliers\n",
        "kolam2266pagiS = kolam2266pagi[~((kolam2266pagi['Salinitas'] < (Q1 - 1.5 * IQR)) | (kolam2266pagi['Salinitas'] > (Q3 + 1.5 * IQR)))]\n",
        "\n",
        "# Check ukuran (baris dan kolom) setelah data yang outliers dibuang\n",
        "print('Shape akhir: ', kolam2266pagiS.shape)"
      ],
      "execution_count": null,
      "outputs": [
        {
          "output_type": "stream",
          "text": [
            "Shape awal:  (49, 12)\n",
            "Shape akhir:  (43, 12)\n"
          ],
          "name": "stdout"
        }
      ]
    },
    {
      "cell_type": "code",
      "metadata": {
        "colab": {
          "base_uri": "https://localhost:8080/"
        },
        "id": "BJPjUymUL5fy",
        "outputId": "da707d19-8225-41a9-c3da-ef3c7d7c6e95"
      },
      "source": [
        "##Remove Outlier Column Oksigen Terlarut\n",
        "# Q1, Q3, dan IQR\n",
        "Q1 = kolam2266pagi['Oksigen Terlarut'].quantile(0.25)\n",
        "Q3 = kolam2266pagi['Oksigen Terlarut'].quantile(0.75)\n",
        "IQR = Q3 - Q1\n",
        "\n",
        "# Check ukuran (baris dan kolom) sebelum data yang outliers dibuang\n",
        "print('Shape awal: ', kolam2266pagi.shape)\n",
        "\n",
        "# Removing outliers\n",
        "kolam2266pagiOT = kolam2266pagi[~((kolam2266pagi['Oksigen Terlarut'] < (Q1 - 1.5 * IQR)) | (kolam2266pagi['Oksigen Terlarut'] > (Q3 + 1.5 * IQR)))]\n",
        "\n",
        "# Check ukuran (baris dan kolom) setelah data yang outliers dibuang\n",
        "print('Shape akhir: ', kolam2266pagiOT.shape)"
      ],
      "execution_count": null,
      "outputs": [
        {
          "output_type": "stream",
          "text": [
            "Shape awal:  (49, 12)\n",
            "Shape akhir:  (44, 12)\n"
          ],
          "name": "stdout"
        }
      ]
    },
    {
      "cell_type": "code",
      "metadata": {
        "colab": {
          "base_uri": "https://localhost:8080/"
        },
        "id": "VcXqN5k3L5cx",
        "outputId": "1bbc74a1-61f0-47d9-be98-12ef2f18ffe7"
      },
      "source": [
        "##Remove Outlier Column pH\n",
        "# Q1, Q3, dan IQR\n",
        "Q1 = kolam2266pagi['pH'].quantile(0.25)\n",
        "Q3 = kolam2266pagi['pH'].quantile(0.75)\n",
        "IQR = Q3 - Q1\n",
        "\n",
        "# Check ukuran (baris dan kolom) sebelum data yang outliers dibuang\n",
        "print('Shape awal: ', kolam2266pagi.shape)\n",
        "\n",
        "# Removing outliers\n",
        "kolam2266pagipH = kolam2266pagi[~((kolam2266pagi['pH'] < (Q1 - 1.5 * IQR)) | (kolam2266pagi['pH'] > (Q3 + 1.5 * IQR)))]\n",
        "\n",
        "# Check ukuran (baris dan kolom) setelah data yang outliers dibuang\n",
        "print('Shape akhir: ', kolam2266pagipH.shape)"
      ],
      "execution_count": null,
      "outputs": [
        {
          "output_type": "stream",
          "text": [
            "Shape awal:  (49, 12)\n",
            "Shape akhir:  (42, 12)\n"
          ],
          "name": "stdout"
        }
      ]
    },
    {
      "cell_type": "code",
      "metadata": {
        "colab": {
          "base_uri": "https://localhost:8080/"
        },
        "id": "pH4haRzg1499",
        "outputId": "01dcaa39-058f-41a1-95b9-83c88ccb563b"
      },
      "source": [
        "print('Mean Suhu Air', kolam2266pagi['Suhu Air'].mean())\n",
        "print('Mean Oksigen Terlarut: ', kolam2266pagiOT['Oksigen Terlarut'].mean())\n",
        "print('Mean Salinitas: ', kolam2266pagiS['Salinitas'].mean())\n",
        "print('Mean pH: ', kolam2266pagipH['pH'].mean())"
      ],
      "execution_count": null,
      "outputs": [
        {
          "output_type": "stream",
          "text": [
            "Mean Suhu Air 26.980816326530626\n",
            "Mean Oksigen Terlarut:  5.235681818181818\n",
            "Mean Salinitas:  28.186279069767437\n",
            "Mean pH:  7.18\n"
          ],
          "name": "stdout"
        }
      ]
    },
    {
      "cell_type": "markdown",
      "metadata": {
        "id": "LvquGDfcEv9P"
      },
      "source": [
        "### **Kolam2266 Sore**"
      ]
    },
    {
      "cell_type": "code",
      "metadata": {
        "colab": {
          "base_uri": "https://localhost:8080/",
          "height": 203
        },
        "id": "9z0Y9RAPEupD",
        "outputId": "23d80d5c-6f01-4f8d-df3f-cb85a25d930b"
      },
      "source": [
        "kolam2266sore= kolam2266[kolam2266['keterangan']=='Sore']\n",
        "kolam2266sore.head()"
      ],
      "execution_count": null,
      "outputs": [
        {
          "output_type": "execute_result",
          "data": {
            "text/html": [
              "<div>\n",
              "<style scoped>\n",
              "    .dataframe tbody tr th:only-of-type {\n",
              "        vertical-align: middle;\n",
              "    }\n",
              "\n",
              "    .dataframe tbody tr th {\n",
              "        vertical-align: top;\n",
              "    }\n",
              "\n",
              "    .dataframe thead th {\n",
              "        text-align: right;\n",
              "    }\n",
              "</style>\n",
              "<table border=\"1\" class=\"dataframe\">\n",
              "  <thead>\n",
              "    <tr style=\"text-align: right;\">\n",
              "      <th></th>\n",
              "      <th>Waktu Pengukuran</th>\n",
              "      <th>Kode Siklus</th>\n",
              "      <th>Suhu Air</th>\n",
              "      <th>Oksigen Terlarut</th>\n",
              "      <th>Salinitas</th>\n",
              "      <th>pH</th>\n",
              "      <th>tahun</th>\n",
              "      <th>bulan</th>\n",
              "      <th>day</th>\n",
              "      <th>jam</th>\n",
              "      <th>keterangan</th>\n",
              "      <th>Kode Kolam</th>\n",
              "    </tr>\n",
              "  </thead>\n",
              "  <tbody>\n",
              "    <tr>\n",
              "      <th>1</th>\n",
              "      <td>2018-07-16 17:00:00+07:00</td>\n",
              "      <td>50</td>\n",
              "      <td>28.9</td>\n",
              "      <td>15.2</td>\n",
              "      <td>22.7</td>\n",
              "      <td>7.62</td>\n",
              "      <td>2018</td>\n",
              "      <td>7</td>\n",
              "      <td>16</td>\n",
              "      <td>17</td>\n",
              "      <td>Sore</td>\n",
              "      <td>2266</td>\n",
              "    </tr>\n",
              "    <tr>\n",
              "      <th>3</th>\n",
              "      <td>2018-07-17 17:00:00+07:00</td>\n",
              "      <td>50</td>\n",
              "      <td>28.9</td>\n",
              "      <td>14.2</td>\n",
              "      <td>22.8</td>\n",
              "      <td>8.46</td>\n",
              "      <td>2018</td>\n",
              "      <td>7</td>\n",
              "      <td>17</td>\n",
              "      <td>17</td>\n",
              "      <td>Sore</td>\n",
              "      <td>2266</td>\n",
              "    </tr>\n",
              "    <tr>\n",
              "      <th>5</th>\n",
              "      <td>2018-07-18 17:00:00+07:00</td>\n",
              "      <td>50</td>\n",
              "      <td>29.4</td>\n",
              "      <td>11.6</td>\n",
              "      <td>23.0</td>\n",
              "      <td>8.40</td>\n",
              "      <td>2018</td>\n",
              "      <td>7</td>\n",
              "      <td>18</td>\n",
              "      <td>17</td>\n",
              "      <td>Sore</td>\n",
              "      <td>2266</td>\n",
              "    </tr>\n",
              "    <tr>\n",
              "      <th>7</th>\n",
              "      <td>2018-07-19 17:00:00+07:00</td>\n",
              "      <td>50</td>\n",
              "      <td>29.3</td>\n",
              "      <td>5.7</td>\n",
              "      <td>25.5</td>\n",
              "      <td>8.15</td>\n",
              "      <td>2018</td>\n",
              "      <td>7</td>\n",
              "      <td>19</td>\n",
              "      <td>17</td>\n",
              "      <td>Sore</td>\n",
              "      <td>2266</td>\n",
              "    </tr>\n",
              "    <tr>\n",
              "      <th>9</th>\n",
              "      <td>2018-07-20 17:00:00+07:00</td>\n",
              "      <td>50</td>\n",
              "      <td>29.5</td>\n",
              "      <td>4.3</td>\n",
              "      <td>25.6</td>\n",
              "      <td>8.00</td>\n",
              "      <td>2018</td>\n",
              "      <td>7</td>\n",
              "      <td>20</td>\n",
              "      <td>17</td>\n",
              "      <td>Sore</td>\n",
              "      <td>2266</td>\n",
              "    </tr>\n",
              "  </tbody>\n",
              "</table>\n",
              "</div>"
            ],
            "text/plain": [
              "           Waktu Pengukuran  Kode Siklus  Suhu Air  ...  jam  keterangan  Kode Kolam\n",
              "1 2018-07-16 17:00:00+07:00           50      28.9  ...   17        Sore        2266\n",
              "3 2018-07-17 17:00:00+07:00           50      28.9  ...   17        Sore        2266\n",
              "5 2018-07-18 17:00:00+07:00           50      29.4  ...   17        Sore        2266\n",
              "7 2018-07-19 17:00:00+07:00           50      29.3  ...   17        Sore        2266\n",
              "9 2018-07-20 17:00:00+07:00           50      29.5  ...   17        Sore        2266\n",
              "\n",
              "[5 rows x 12 columns]"
            ]
          },
          "metadata": {
            "tags": []
          },
          "execution_count": 64
        }
      ]
    },
    {
      "cell_type": "code",
      "metadata": {
        "colab": {
          "base_uri": "https://localhost:8080/",
          "height": 295
        },
        "id": "hUXps5CxEupE",
        "outputId": "93be0d51-f37d-4619-854c-265fc9cb578d"
      },
      "source": [
        "kolam2266sore[['Suhu Air','Oksigen Terlarut','Salinitas','pH']].describe()"
      ],
      "execution_count": null,
      "outputs": [
        {
          "output_type": "execute_result",
          "data": {
            "text/html": [
              "<div>\n",
              "<style scoped>\n",
              "    .dataframe tbody tr th:only-of-type {\n",
              "        vertical-align: middle;\n",
              "    }\n",
              "\n",
              "    .dataframe tbody tr th {\n",
              "        vertical-align: top;\n",
              "    }\n",
              "\n",
              "    .dataframe thead th {\n",
              "        text-align: right;\n",
              "    }\n",
              "</style>\n",
              "<table border=\"1\" class=\"dataframe\">\n",
              "  <thead>\n",
              "    <tr style=\"text-align: right;\">\n",
              "      <th></th>\n",
              "      <th>Suhu Air</th>\n",
              "      <th>Oksigen Terlarut</th>\n",
              "      <th>Salinitas</th>\n",
              "      <th>pH</th>\n",
              "    </tr>\n",
              "  </thead>\n",
              "  <tbody>\n",
              "    <tr>\n",
              "      <th>count</th>\n",
              "      <td>34.000000</td>\n",
              "      <td>34.000000</td>\n",
              "      <td>34.000000</td>\n",
              "      <td>34.000000</td>\n",
              "    </tr>\n",
              "    <tr>\n",
              "      <th>mean</th>\n",
              "      <td>32.611471</td>\n",
              "      <td>8.093824</td>\n",
              "      <td>25.428824</td>\n",
              "      <td>7.490000</td>\n",
              "    </tr>\n",
              "    <tr>\n",
              "      <th>std</th>\n",
              "      <td>16.694797</td>\n",
              "      <td>2.620658</td>\n",
              "      <td>6.159046</td>\n",
              "      <td>1.773932</td>\n",
              "    </tr>\n",
              "    <tr>\n",
              "      <th>min</th>\n",
              "      <td>28.190000</td>\n",
              "      <td>4.300000</td>\n",
              "      <td>0.000000</td>\n",
              "      <td>2.860000</td>\n",
              "    </tr>\n",
              "    <tr>\n",
              "      <th>25%</th>\n",
              "      <td>29.300000</td>\n",
              "      <td>6.002500</td>\n",
              "      <td>25.630000</td>\n",
              "      <td>7.552500</td>\n",
              "    </tr>\n",
              "    <tr>\n",
              "      <th>50%</th>\n",
              "      <td>29.970000</td>\n",
              "      <td>7.690000</td>\n",
              "      <td>27.050000</td>\n",
              "      <td>8.135000</td>\n",
              "    </tr>\n",
              "    <tr>\n",
              "      <th>75%</th>\n",
              "      <td>30.377500</td>\n",
              "      <td>9.267500</td>\n",
              "      <td>27.967500</td>\n",
              "      <td>8.320000</td>\n",
              "    </tr>\n",
              "    <tr>\n",
              "      <th>max</th>\n",
              "      <td>127.000000</td>\n",
              "      <td>15.200000</td>\n",
              "      <td>29.660000</td>\n",
              "      <td>9.770000</td>\n",
              "    </tr>\n",
              "  </tbody>\n",
              "</table>\n",
              "</div>"
            ],
            "text/plain": [
              "         Suhu Air  Oksigen Terlarut  Salinitas         pH\n",
              "count   34.000000         34.000000  34.000000  34.000000\n",
              "mean    32.611471          8.093824  25.428824   7.490000\n",
              "std     16.694797          2.620658   6.159046   1.773932\n",
              "min     28.190000          4.300000   0.000000   2.860000\n",
              "25%     29.300000          6.002500  25.630000   7.552500\n",
              "50%     29.970000          7.690000  27.050000   8.135000\n",
              "75%     30.377500          9.267500  27.967500   8.320000\n",
              "max    127.000000         15.200000  29.660000   9.770000"
            ]
          },
          "metadata": {
            "tags": []
          },
          "execution_count": 29
        }
      ]
    },
    {
      "cell_type": "code",
      "metadata": {
        "colab": {
          "base_uri": "https://localhost:8080/",
          "height": 552
        },
        "id": "G-AOKi3cNXtM",
        "outputId": "790686bc-977d-47f0-a4e2-a5d33ee2be4d"
      },
      "source": [
        "data = [kolam2266sore['Suhu Air'], kolam2266sore['Salinitas'], kolam2266sore['Oksigen Terlarut'], kolam2266sore['pH']]\n",
        " \n",
        "fig = plt.figure(figsize =(10, 7))\n",
        " \n",
        "# Creating axes instance\n",
        "ax = fig.add_axes([0, 0, 1, 1])\n",
        "\n",
        "ax.set_xticklabels(['Suhu Air', 'Salinitas',\n",
        "                    'Oksigen Terlarut', 'pH'])\n",
        " \n",
        "# Creating plot\n",
        "bp = ax.boxplot(data)\n",
        " \n",
        "# show plot\n",
        "plt.show()"
      ],
      "execution_count": null,
      "outputs": [
        {
          "output_type": "display_data",
          "data": {
            "image/png": "[encoded data removed]",
            "text/plain": [
              "<Figure size 720x504 with 1 Axes>"
            ]
          },
          "metadata": {
            "tags": [],
            "needs_background": "light"
          }
        }
      ]
    },
    {
      "cell_type": "code",
      "metadata": {
        "colab": {
          "base_uri": "https://localhost:8080/"
        },
        "id": "KF0AX7V2OmuX",
        "outputId": "7a57c9ab-d240-4f90-d94c-a8f01e82ca8f"
      },
      "source": [
        "##Remove Outlier Column Suhu Air\n",
        "# Q1, Q3, dan IQR\n",
        "Q1 = kolam2266sore['Suhu Air'].quantile(0.25)\n",
        "Q3 = kolam2266sore['Suhu Air'].quantile(0.75)\n",
        "IQR = Q3 - Q1\n",
        "\n",
        "# Check ukuran (baris dan kolom) sebelum data yang outliers dibuang\n",
        "print('Shape awal: ', kolam2266sore.shape)\n",
        "\n",
        "# Removing outliers\n",
        "kolam2266soreSA = kolam2266sore[~((kolam2266sore['Suhu Air'] < (Q1 - 1.5 * IQR)) | (kolam2266sore['Suhu Air'] > (Q3 + 1.5 * IQR)))]\n",
        "\n",
        "# Check ukuran (baris dan kolom) setelah data yang outliers dibuang\n",
        "print('Shape akhir: ', kolam2266soreSA.shape)"
      ],
      "execution_count": null,
      "outputs": [
        {
          "output_type": "stream",
          "text": [
            "Shape awal:  (34, 12)\n",
            "Shape akhir:  (33, 12)\n"
          ],
          "name": "stdout"
        }
      ]
    },
    {
      "cell_type": "code",
      "metadata": {
        "colab": {
          "base_uri": "https://localhost:8080/"
        },
        "id": "E-W1reMrOmDm",
        "outputId": "06bb401e-6744-408e-b195-fe3ef47c12a0"
      },
      "source": [
        "##Remove Outlier Column Salinitas\n",
        "# Q1, Q3, dan IQR\n",
        "Q1 = kolam2266sore['Salinitas'].quantile(0.25)\n",
        "Q3 = kolam2266sore['Salinitas'].quantile(0.75)\n",
        "IQR = Q3 - Q1\n",
        "\n",
        "# Check ukuran (baris dan kolom) sebelum data yang outliers dibuang\n",
        "print('Shape awal: ', kolam2266sore.shape)\n",
        "\n",
        "# Removing outliers\n",
        "kolam2266soreS = kolam2266sore[~((kolam2266sore['Salinitas'] < (Q1 - 1.5 * IQR)) | (kolam2266sore['Salinitas'] > (Q3 + 1.5 * IQR)))]\n",
        "\n",
        "# Check ukuran (baris dan kolom) setelah data yang outliers dibuang\n",
        "print('Shape akhir: ', kolam2266soreS.shape)"
      ],
      "execution_count": null,
      "outputs": [
        {
          "output_type": "stream",
          "text": [
            "Shape awal:  (34, 12)\n",
            "Shape akhir:  (31, 12)\n"
          ],
          "name": "stdout"
        }
      ]
    },
    {
      "cell_type": "code",
      "metadata": {
        "colab": {
          "base_uri": "https://localhost:8080/"
        },
        "id": "98hKUxdLNXtV",
        "outputId": "a5491d56-d0e2-4725-c025-5cfc2adb69f1"
      },
      "source": [
        "##Remove Outlier Column OT\n",
        "# Q1, Q3, dan IQR\n",
        "Q1 = kolam2266sore['Oksigen Terlarut'].quantile(0.25)\n",
        "Q3 = kolam2266sore['Oksigen Terlarut'].quantile(0.75)\n",
        "IQR = Q3 - Q1\n",
        "\n",
        "# Check ukuran (baris dan kolom) sebelum data yang outliers dibuang\n",
        "print('Shape awal: ', kolam2266sore.shape)\n",
        "\n",
        "# Removing outliers\n",
        "kolam2266soreOT = kolam2266sore[~((kolam2266sore['Oksigen Terlarut'] < (Q1 - 1.5 * IQR)) | (kolam2266sore['Oksigen Terlarut'] > (Q3 + 1.5 * IQR)))]\n",
        "\n",
        "# Check ukuran (baris dan kolom) setelah data yang outliers dibuang\n",
        "print('Shape akhir: ', kolam2266soreOT.shape)"
      ],
      "execution_count": null,
      "outputs": [
        {
          "output_type": "stream",
          "text": [
            "Shape awal:  (34, 12)\n",
            "Shape akhir:  (32, 12)\n"
          ],
          "name": "stdout"
        }
      ]
    },
    {
      "cell_type": "code",
      "metadata": {
        "colab": {
          "base_uri": "https://localhost:8080/"
        },
        "id": "D8XlW2GRPrx9",
        "outputId": "25a204f7-61fc-4332-bbef-49a38e5167fe"
      },
      "source": [
        "##Remove Outlier Column pH\n",
        "# Q1, Q3, dan IQR\n",
        "Q1 = kolam2266sore['pH'].quantile(0.25)\n",
        "Q3 = kolam2266sore['pH'].quantile(0.75)\n",
        "IQR = Q3 - Q1\n",
        "\n",
        "# Check ukuran (baris dan kolom) sebelum data yang outliers dibuang\n",
        "print('Shape awal: ', kolam2266sore.shape)\n",
        "\n",
        "# Removing outliers\n",
        "kolam2266sorepH = kolam2266sore[~((kolam2266sore['pH'] < (Q1 - 1.5 * IQR)) | (kolam2266sore['pH'] > (Q3 + 1.5 * IQR)))]\n",
        "\n",
        "# Check ukuran (baris dan kolom) setelah data yang outliers dibuang\n",
        "print('Shape akhir: ', kolam2266sorepH.shape)"
      ],
      "execution_count": null,
      "outputs": [
        {
          "output_type": "stream",
          "text": [
            "Shape awal:  (34, 12)\n",
            "Shape akhir:  (29, 12)\n"
          ],
          "name": "stdout"
        }
      ]
    },
    {
      "cell_type": "code",
      "metadata": {
        "colab": {
          "base_uri": "https://localhost:8080/"
        },
        "id": "kB6OPDgNNXtV",
        "outputId": "9769e99d-42e4-4d5d-fad5-5d08e5f94206"
      },
      "source": [
        "print('Mean Suhu Air: ', kolam2266soreSA['Suhu Air'].mean())\n",
        "print('Mean Oksigen Terlarut: ', kolam2266soreOT['Oksigen Terlarut'].mean())\n",
        "print('Mean Salinitas: ', kolam2266soreS['Salinitas'].mean())\n",
        "print('Mean pH: ', kolam2266sorepH['pH'].mean())"
      ],
      "execution_count": null,
      "outputs": [
        {
          "output_type": "stream",
          "text": [
            "Mean Suhu Air:  29.751212121212117\n",
            "Mean Oksigen Terlarut:  7.6809375\n",
            "Mean Salinitas:  27.017419354838704\n",
            "Mean pH:  8.049655172413791\n"
          ],
          "name": "stdout"
        }
      ]
    },
    {
      "cell_type": "code",
      "metadata": {
        "id": "BO0BTFu8DhwL"
      },
      "source": [
        ""
      ],
      "execution_count": null,
      "outputs": []
    },
    {
      "cell_type": "markdown",
      "metadata": {
        "id": "Ic_5Zja_i8P8"
      },
      "source": [
        ""
      ]
    },
    {
      "cell_type": "markdown",
      "metadata": {
        "id": "YiQ5tmG0jfu6"
      },
      "source": [
        "## **Kolam 3**"
      ]
    },
    {
      "cell_type": "code",
      "metadata": {
        "colab": {
          "base_uri": "https://localhost:8080/",
          "height": 417
        },
        "id": "9HLNRaHfjfu6",
        "outputId": "8e59334e-95ca-4d73-d1dd-d9eba58bfe4c"
      },
      "source": [
        "kolam3= df3[df3['Kode Kolam']==3]\n",
        "kolam3"
      ],
      "execution_count": null,
      "outputs": [
        {
          "output_type": "execute_result",
          "data": {
            "text/html": [
              "<div>\n",
              "<style scoped>\n",
              "    .dataframe tbody tr th:only-of-type {\n",
              "        vertical-align: middle;\n",
              "    }\n",
              "\n",
              "    .dataframe tbody tr th {\n",
              "        vertical-align: top;\n",
              "    }\n",
              "\n",
              "    .dataframe thead th {\n",
              "        text-align: right;\n",
              "    }\n",
              "</style>\n",
              "<table border=\"1\" class=\"dataframe\">\n",
              "  <thead>\n",
              "    <tr style=\"text-align: right;\">\n",
              "      <th></th>\n",
              "      <th>Waktu Pengukuran</th>\n",
              "      <th>Kode Siklus</th>\n",
              "      <th>Suhu Air</th>\n",
              "      <th>Oksigen Terlarut</th>\n",
              "      <th>Salinitas</th>\n",
              "      <th>pH</th>\n",
              "      <th>tahun</th>\n",
              "      <th>bulan</th>\n",
              "      <th>day</th>\n",
              "      <th>jam</th>\n",
              "      <th>keterangan</th>\n",
              "      <th>Kode Kolam</th>\n",
              "    </tr>\n",
              "  </thead>\n",
              "  <tbody>\n",
              "    <tr>\n",
              "      <th>134</th>\n",
              "      <td>2018-08-01 17:24:27+07:00</td>\n",
              "      <td>66</td>\n",
              "      <td>29.19</td>\n",
              "      <td>8.40</td>\n",
              "      <td>31.13</td>\n",
              "      <td>8.24</td>\n",
              "      <td>2018</td>\n",
              "      <td>8</td>\n",
              "      <td>1</td>\n",
              "      <td>17</td>\n",
              "      <td>Sore</td>\n",
              "      <td>3</td>\n",
              "    </tr>\n",
              "    <tr>\n",
              "      <th>135</th>\n",
              "      <td>2018-08-02 06:29:45+07:00</td>\n",
              "      <td>66</td>\n",
              "      <td>26.44</td>\n",
              "      <td>10.69</td>\n",
              "      <td>31.76</td>\n",
              "      <td>8.14</td>\n",
              "      <td>2018</td>\n",
              "      <td>8</td>\n",
              "      <td>2</td>\n",
              "      <td>6</td>\n",
              "      <td>Pagi</td>\n",
              "      <td>3</td>\n",
              "    </tr>\n",
              "    <tr>\n",
              "      <th>136</th>\n",
              "      <td>2018-08-02 17:23:23+07:00</td>\n",
              "      <td>66</td>\n",
              "      <td>28.69</td>\n",
              "      <td>9.94</td>\n",
              "      <td>31.51</td>\n",
              "      <td>8.32</td>\n",
              "      <td>2018</td>\n",
              "      <td>8</td>\n",
              "      <td>2</td>\n",
              "      <td>17</td>\n",
              "      <td>Sore</td>\n",
              "      <td>3</td>\n",
              "    </tr>\n",
              "    <tr>\n",
              "      <th>137</th>\n",
              "      <td>2018-08-03 06:29:24+07:00</td>\n",
              "      <td>66</td>\n",
              "      <td>25.69</td>\n",
              "      <td>4.92</td>\n",
              "      <td>31.56</td>\n",
              "      <td>7.90</td>\n",
              "      <td>2018</td>\n",
              "      <td>8</td>\n",
              "      <td>3</td>\n",
              "      <td>6</td>\n",
              "      <td>Pagi</td>\n",
              "      <td>3</td>\n",
              "    </tr>\n",
              "    <tr>\n",
              "      <th>138</th>\n",
              "      <td>2018-08-03 16:46:57+07:00</td>\n",
              "      <td>66</td>\n",
              "      <td>27.81</td>\n",
              "      <td>0.00</td>\n",
              "      <td>31.78</td>\n",
              "      <td>8.21</td>\n",
              "      <td>2018</td>\n",
              "      <td>8</td>\n",
              "      <td>3</td>\n",
              "      <td>16</td>\n",
              "      <td>Sore</td>\n",
              "      <td>3</td>\n",
              "    </tr>\n",
              "    <tr>\n",
              "      <th>...</th>\n",
              "      <td>...</td>\n",
              "      <td>...</td>\n",
              "      <td>...</td>\n",
              "      <td>...</td>\n",
              "      <td>...</td>\n",
              "      <td>...</td>\n",
              "      <td>...</td>\n",
              "      <td>...</td>\n",
              "      <td>...</td>\n",
              "      <td>...</td>\n",
              "      <td>...</td>\n",
              "      <td>...</td>\n",
              "    </tr>\n",
              "    <tr>\n",
              "      <th>286</th>\n",
              "      <td>2018-11-04 16:51:19+07:00</td>\n",
              "      <td>66</td>\n",
              "      <td>30.44</td>\n",
              "      <td>1.86</td>\n",
              "      <td>25.60</td>\n",
              "      <td>8.81</td>\n",
              "      <td>2018</td>\n",
              "      <td>11</td>\n",
              "      <td>4</td>\n",
              "      <td>16</td>\n",
              "      <td>Sore</td>\n",
              "      <td>3</td>\n",
              "    </tr>\n",
              "    <tr>\n",
              "      <th>287</th>\n",
              "      <td>2018-11-05 06:02:52+07:00</td>\n",
              "      <td>66</td>\n",
              "      <td>28.38</td>\n",
              "      <td>5.93</td>\n",
              "      <td>24.20</td>\n",
              "      <td>8.21</td>\n",
              "      <td>2018</td>\n",
              "      <td>11</td>\n",
              "      <td>5</td>\n",
              "      <td>6</td>\n",
              "      <td>Pagi</td>\n",
              "      <td>3</td>\n",
              "    </tr>\n",
              "    <tr>\n",
              "      <th>288</th>\n",
              "      <td>2018-11-06 07:05:47+07:00</td>\n",
              "      <td>66</td>\n",
              "      <td>28.25</td>\n",
              "      <td>5.52</td>\n",
              "      <td>23.81</td>\n",
              "      <td>8.16</td>\n",
              "      <td>2018</td>\n",
              "      <td>11</td>\n",
              "      <td>6</td>\n",
              "      <td>7</td>\n",
              "      <td>Pagi</td>\n",
              "      <td>3</td>\n",
              "    </tr>\n",
              "    <tr>\n",
              "      <th>289</th>\n",
              "      <td>2018-11-06 17:02:16+07:00</td>\n",
              "      <td>66</td>\n",
              "      <td>28.63</td>\n",
              "      <td>6.25</td>\n",
              "      <td>23.22</td>\n",
              "      <td>8.46</td>\n",
              "      <td>2018</td>\n",
              "      <td>11</td>\n",
              "      <td>6</td>\n",
              "      <td>17</td>\n",
              "      <td>Sore</td>\n",
              "      <td>3</td>\n",
              "    </tr>\n",
              "    <tr>\n",
              "      <th>290</th>\n",
              "      <td>2018-11-07 06:18:26+07:00</td>\n",
              "      <td>66</td>\n",
              "      <td>27.19</td>\n",
              "      <td>5.76</td>\n",
              "      <td>22.56</td>\n",
              "      <td>7.99</td>\n",
              "      <td>2018</td>\n",
              "      <td>11</td>\n",
              "      <td>7</td>\n",
              "      <td>6</td>\n",
              "      <td>Pagi</td>\n",
              "      <td>3</td>\n",
              "    </tr>\n",
              "  </tbody>\n",
              "</table>\n",
              "<p>157 rows × 12 columns</p>\n",
              "</div>"
            ],
            "text/plain": [
              "             Waktu Pengukuran  Kode Siklus  ...  keterangan  Kode Kolam\n",
              "134 2018-08-01 17:24:27+07:00           66  ...        Sore           3\n",
              "135 2018-08-02 06:29:45+07:00           66  ...        Pagi           3\n",
              "136 2018-08-02 17:23:23+07:00           66  ...        Sore           3\n",
              "137 2018-08-03 06:29:24+07:00           66  ...        Pagi           3\n",
              "138 2018-08-03 16:46:57+07:00           66  ...        Sore           3\n",
              "..                        ...          ...  ...         ...         ...\n",
              "286 2018-11-04 16:51:19+07:00           66  ...        Sore           3\n",
              "287 2018-11-05 06:02:52+07:00           66  ...        Pagi           3\n",
              "288 2018-11-06 07:05:47+07:00           66  ...        Pagi           3\n",
              "289 2018-11-06 17:02:16+07:00           66  ...        Sore           3\n",
              "290 2018-11-07 06:18:26+07:00           66  ...        Pagi           3\n",
              "\n",
              "[157 rows x 12 columns]"
            ]
          },
          "metadata": {
            "tags": []
          },
          "execution_count": 79
        }
      ]
    },
    {
      "cell_type": "code",
      "metadata": {
        "colab": {
          "base_uri": "https://localhost:8080/",
          "height": 552
        },
        "id": "qPgTQBhAjfu6",
        "outputId": "a235ca13-298c-48a7-ba49-59f591fab3bb"
      },
      "source": [
        "import matplotlib.pyplot as plt\n",
        "\n",
        "data = [kolam3['Suhu Air'], kolam3['Salinitas'], kolam3['Oksigen Terlarut'], kolam3['pH']]\n",
        " \n",
        "fig = plt.figure(figsize =(10, 7))\n",
        " \n",
        "# Creating axes instance\n",
        "ax = fig.add_axes([0, 0, 1, 1])\n",
        "\n",
        "ax.set_xticklabels(['Suhu Air', 'Salinitas',\n",
        "                    'Oksigen Terlarut', 'pH'])\n",
        " \n",
        "# Creating plot\n",
        "bp = ax.boxplot(data)\n",
        " \n",
        "# show plot\n",
        "plt.show()"
      ],
      "execution_count": null,
      "outputs": [
        {
          "output_type": "display_data",
          "data": {
            "image/png": "[encoded data removed]",
            "text/plain": [
              "<Figure size 720x504 with 1 Axes>"
            ]
          },
          "metadata": {
            "tags": [],
            "needs_background": "light"
          }
        }
      ]
    },
    {
      "cell_type": "code",
      "metadata": {
        "colab": {
          "base_uri": "https://localhost:8080/"
        },
        "id": "Z-oQLRhHjfu7",
        "outputId": "1fe5045b-de9e-48a3-942d-deeed2135a65"
      },
      "source": [
        "##Remove Outlier\n",
        "# Q1, Q3, dan IQR\n",
        "Q1 = kolam3['Suhu Air'].quantile(0.25)\n",
        "Q3 = kolam3['Suhu Air'].quantile(0.75)\n",
        "IQR = Q3 - Q1\n",
        "\n",
        "# Check ukuran (baris dan kolom) sebelum data yang outliers dibuang\n",
        "print('Shape awal: ', kolam3.shape)\n",
        "\n",
        "# Removing outliers\n",
        "kolam3SA = kolam3[~((kolam3['Suhu Air'] < (Q1 - 1.5 * IQR)) | (kolam3['Suhu Air'] > (Q3 + 1.5 * IQR)))]\n",
        "\n",
        "# Check ukuran (baris dan kolom) setelah data yang outliers dibuang\n",
        "print('Shape akhir: ', kolam3SA.shape)"
      ],
      "execution_count": null,
      "outputs": [
        {
          "output_type": "stream",
          "text": [
            "Shape awal:  (157, 12)\n",
            "Shape akhir:  (155, 12)\n"
          ],
          "name": "stdout"
        }
      ]
    },
    {
      "cell_type": "code",
      "metadata": {
        "colab": {
          "base_uri": "https://localhost:8080/"
        },
        "id": "hBxxl_Vljfu7",
        "outputId": "276ca039-dd6e-454a-bd65-d919d4c5d7d2"
      },
      "source": [
        "##Remove Outlier\n",
        "# Q1, Q3, dan IQR\n",
        "Q1 = kolam3['Salinitas'].quantile(0.25)\n",
        "Q3 = kolam3['Salinitas'].quantile(0.75)\n",
        "IQR = Q3 - Q1\n",
        "\n",
        "# Check ukuran (baris dan kolom) sebelum data yang outliers dibuang\n",
        "print('Shape awal: ', kolam3.shape)\n",
        "\n",
        "# Removing outliers\n",
        "kolam3S = kolam3[~((kolam3['Salinitas'] < (Q1 - 1.5 * IQR)) | (kolam3['Salinitas'] > (Q3 + 1.5 * IQR)))]\n",
        "\n",
        "# Check ukuran (baris dan kolom) setelah data yang outliers dibuang\n",
        "print('Shape akhir: ', kolam3S.shape)"
      ],
      "execution_count": null,
      "outputs": [
        {
          "output_type": "stream",
          "text": [
            "Shape awal:  (157, 12)\n",
            "Shape akhir:  (154, 12)\n"
          ],
          "name": "stdout"
        }
      ]
    },
    {
      "cell_type": "code",
      "metadata": {
        "colab": {
          "base_uri": "https://localhost:8080/"
        },
        "id": "oehRAowRjfu7",
        "outputId": "e96795f3-3fc3-4e40-d694-6d8cb7f8e642"
      },
      "source": [
        "##Remove Outlier\n",
        "# Q1, Q3, dan IQR\n",
        "Q1 = kolam3['Oksigen Terlarut'].quantile(0.25)\n",
        "Q3 = kolam3['Oksigen Terlarut'].quantile(0.75)\n",
        "IQR = Q3 - Q1\n",
        "\n",
        "# Check ukuran (baris dan kolom) sebelum data yang outliers dibuang\n",
        "print('Shape awal: ', kolam3.shape)\n",
        "\n",
        "# Removing outliers\n",
        "kolam3OT = kolam3[~((kolam3['Oksigen Terlarut'] < (Q1 - 1.5 * IQR)) | (kolam3['Oksigen Terlarut'] > (Q3 + 1.5 * IQR)))]\n",
        "\n",
        "# Check ukuran (baris dan kolom) setelah data yang outliers dibuang\n",
        "print('Shape akhir: ', kolam3OT.shape)"
      ],
      "execution_count": null,
      "outputs": [
        {
          "output_type": "stream",
          "text": [
            "Shape awal:  (157, 12)\n",
            "Shape akhir:  (149, 12)\n"
          ],
          "name": "stdout"
        }
      ]
    },
    {
      "cell_type": "code",
      "metadata": {
        "colab": {
          "base_uri": "https://localhost:8080/"
        },
        "id": "QuBVbfDLjfu7",
        "outputId": "5d40599b-5e90-4ee7-fd0f-092616d01422"
      },
      "source": [
        "##Remove Outlier\n",
        "# Q1, Q3, dan IQR\n",
        "Q1 = kolam3['pH'].quantile(0.25)\n",
        "Q3 = kolam3['pH'].quantile(0.75)\n",
        "IQR = Q3 - Q1\n",
        "\n",
        "# Check ukuran (baris dan kolom) sebelum data yang outliers dibuang\n",
        "print('Shape awal: ', kolam3.shape)\n",
        "\n",
        "# Removing outliers\n",
        "kolam3pH = kolam3[~((kolam3['pH'] < (Q1 - 1.5 * IQR)) | (kolam3['pH'] > (Q3 + 1.5 * IQR)))]\n",
        "\n",
        "# Check ukuran (baris dan kolom) setelah data yang outliers dibuang\n",
        "print('Shape akhir: ', kolam3pH.shape)"
      ],
      "execution_count": null,
      "outputs": [
        {
          "output_type": "stream",
          "text": [
            "Shape awal:  (157, 12)\n",
            "Shape akhir:  (142, 12)\n"
          ],
          "name": "stdout"
        }
      ]
    },
    {
      "cell_type": "code",
      "metadata": {
        "colab": {
          "base_uri": "https://localhost:8080/"
        },
        "id": "MxTc3j98jfu7",
        "outputId": "7de0f930-2d01-47c2-82bf-0de0f91b72ac"
      },
      "source": [
        "print('Mean Suhu Air : ', kolam3SA['Suhu Air'].mean())\n",
        "print('Mean Oksigen Terlarut: ', kolam3OT['Oksigen Terlarut'].mean())\n",
        "print('Mean Salinitas: ', kolam3S['Salinitas'].mean())\n",
        "print('Mean pH: ', kolam3pH['pH'].mean())"
      ],
      "execution_count": null,
      "outputs": [
        {
          "output_type": "stream",
          "text": [
            "Mean Suhu Air :  28.088064516129048\n",
            "Mean Oksigen Terlarut:  4.147785234899327\n",
            "Mean Salinitas:  31.305259740259743\n",
            "Mean pH:  8.08288732394366\n"
          ],
          "name": "stdout"
        }
      ]
    },
    {
      "cell_type": "markdown",
      "metadata": {
        "id": "1nacz5MKjfu7"
      },
      "source": [
        "### **kolam3 Pagi**\n"
      ]
    },
    {
      "cell_type": "code",
      "metadata": {
        "colab": {
          "base_uri": "https://localhost:8080/",
          "height": 203
        },
        "id": "KikMy9ZAjfu7",
        "outputId": "8a2749f3-0273-41a5-e6af-63e41fdd6edc"
      },
      "source": [
        "kolam3pagi= kolam3[kolam3['keterangan']=='Pagi']\n",
        "kolam3pagi.head()"
      ],
      "execution_count": null,
      "outputs": [
        {
          "output_type": "execute_result",
          "data": {
            "text/html": [
              "<div>\n",
              "<style scoped>\n",
              "    .dataframe tbody tr th:only-of-type {\n",
              "        vertical-align: middle;\n",
              "    }\n",
              "\n",
              "    .dataframe tbody tr th {\n",
              "        vertical-align: top;\n",
              "    }\n",
              "\n",
              "    .dataframe thead th {\n",
              "        text-align: right;\n",
              "    }\n",
              "</style>\n",
              "<table border=\"1\" class=\"dataframe\">\n",
              "  <thead>\n",
              "    <tr style=\"text-align: right;\">\n",
              "      <th></th>\n",
              "      <th>Waktu Pengukuran</th>\n",
              "      <th>Kode Siklus</th>\n",
              "      <th>Suhu Air</th>\n",
              "      <th>Oksigen Terlarut</th>\n",
              "      <th>Salinitas</th>\n",
              "      <th>pH</th>\n",
              "      <th>tahun</th>\n",
              "      <th>bulan</th>\n",
              "      <th>day</th>\n",
              "      <th>jam</th>\n",
              "      <th>keterangan</th>\n",
              "      <th>Kode Kolam</th>\n",
              "    </tr>\n",
              "  </thead>\n",
              "  <tbody>\n",
              "    <tr>\n",
              "      <th>135</th>\n",
              "      <td>2018-08-02 06:29:45+07:00</td>\n",
              "      <td>66</td>\n",
              "      <td>26.44</td>\n",
              "      <td>10.69</td>\n",
              "      <td>31.76</td>\n",
              "      <td>8.14</td>\n",
              "      <td>2018</td>\n",
              "      <td>8</td>\n",
              "      <td>2</td>\n",
              "      <td>6</td>\n",
              "      <td>Pagi</td>\n",
              "      <td>3</td>\n",
              "    </tr>\n",
              "    <tr>\n",
              "      <th>137</th>\n",
              "      <td>2018-08-03 06:29:24+07:00</td>\n",
              "      <td>66</td>\n",
              "      <td>25.69</td>\n",
              "      <td>4.92</td>\n",
              "      <td>31.56</td>\n",
              "      <td>7.90</td>\n",
              "      <td>2018</td>\n",
              "      <td>8</td>\n",
              "      <td>3</td>\n",
              "      <td>6</td>\n",
              "      <td>Pagi</td>\n",
              "      <td>3</td>\n",
              "    </tr>\n",
              "    <tr>\n",
              "      <th>140</th>\n",
              "      <td>2018-08-05 06:30:12+07:00</td>\n",
              "      <td>66</td>\n",
              "      <td>25.56</td>\n",
              "      <td>12.38</td>\n",
              "      <td>32.40</td>\n",
              "      <td>7.72</td>\n",
              "      <td>2018</td>\n",
              "      <td>8</td>\n",
              "      <td>5</td>\n",
              "      <td>6</td>\n",
              "      <td>Pagi</td>\n",
              "      <td>3</td>\n",
              "    </tr>\n",
              "    <tr>\n",
              "      <th>142</th>\n",
              "      <td>2018-08-06 06:33:54+07:00</td>\n",
              "      <td>66</td>\n",
              "      <td>24.50</td>\n",
              "      <td>11.68</td>\n",
              "      <td>32.60</td>\n",
              "      <td>7.74</td>\n",
              "      <td>2018</td>\n",
              "      <td>8</td>\n",
              "      <td>6</td>\n",
              "      <td>6</td>\n",
              "      <td>Pagi</td>\n",
              "      <td>3</td>\n",
              "    </tr>\n",
              "    <tr>\n",
              "      <th>144</th>\n",
              "      <td>2018-08-07 07:07:07+07:00</td>\n",
              "      <td>66</td>\n",
              "      <td>24.44</td>\n",
              "      <td>11.50</td>\n",
              "      <td>32.97</td>\n",
              "      <td>7.58</td>\n",
              "      <td>2018</td>\n",
              "      <td>8</td>\n",
              "      <td>7</td>\n",
              "      <td>7</td>\n",
              "      <td>Pagi</td>\n",
              "      <td>3</td>\n",
              "    </tr>\n",
              "  </tbody>\n",
              "</table>\n",
              "</div>"
            ],
            "text/plain": [
              "             Waktu Pengukuran  Kode Siklus  ...  keterangan  Kode Kolam\n",
              "135 2018-08-02 06:29:45+07:00           66  ...        Pagi           3\n",
              "137 2018-08-03 06:29:24+07:00           66  ...        Pagi           3\n",
              "140 2018-08-05 06:30:12+07:00           66  ...        Pagi           3\n",
              "142 2018-08-06 06:33:54+07:00           66  ...        Pagi           3\n",
              "144 2018-08-07 07:07:07+07:00           66  ...        Pagi           3\n",
              "\n",
              "[5 rows x 12 columns]"
            ]
          },
          "metadata": {
            "tags": []
          },
          "execution_count": 86
        }
      ]
    },
    {
      "cell_type": "code",
      "metadata": {
        "colab": {
          "base_uri": "https://localhost:8080/",
          "height": 552
        },
        "id": "cKLohgk8jfu8",
        "outputId": "c3eb4bf9-aeab-4014-99ac-7d7ec5aec865"
      },
      "source": [
        "data = [kolam3pagi['Suhu Air'], kolam3pagi['Salinitas'], kolam3pagi['Oksigen Terlarut'], kolam3pagi['pH']]\n",
        " \n",
        "fig = plt.figure(figsize =(10, 7))\n",
        " \n",
        "# Creating axes instance\n",
        "ax = fig.add_axes([0, 0, 1, 1])\n",
        "\n",
        "ax.set_xticklabels(['Suhu Air', 'Salinitas',\n",
        "                    'Oksigen Terlarut', 'pH'])\n",
        " \n",
        "# Creating plot\n",
        "bp = ax.boxplot(data)\n",
        " \n",
        "# show plot\n",
        "plt.show()"
      ],
      "execution_count": null,
      "outputs": [
        {
          "output_type": "display_data",
          "data": {
            "image/png": "[encoded data removed]",
            "text/plain": [
              "<Figure size 720x504 with 1 Axes>"
            ]
          },
          "metadata": {
            "tags": [],
            "needs_background": "light"
          }
        }
      ]
    },
    {
      "cell_type": "code",
      "metadata": {
        "colab": {
          "base_uri": "https://localhost:8080/"
        },
        "id": "oXj8x3wOlRo0",
        "outputId": "0cfe5f90-9069-4657-dedf-dd957315fe6f"
      },
      "source": [
        "##Remove Outlier Column Salinitas\n",
        "# Q1, Q3, dan IQR\n",
        "Q1 = kolam3pagi['Suhu Air'].quantile(0.25)\n",
        "Q3 = kolam3pagi['Suhu Air'].quantile(0.75)\n",
        "IQR = Q3 - Q1\n",
        "\n",
        "# Check ukuran (baris dan kolom) sebelum data yang outliers dibuang\n",
        "print('Shape awal: ', kolam3pagi.shape)\n",
        "\n",
        "# Removing outliers\n",
        "kolam3pagiSA = kolam3pagi[~((kolam3pagi['Suhu Air'] < (Q1 - 1.5 * IQR)) | (kolam3pagi['Suhu Air'] > (Q3 + 1.5 * IQR)))]\n",
        "\n",
        "# Check ukuran (baris dan kolom) setelah data yang outliers dibuang\n",
        "print('Shape akhir: ', kolam3pagiSA.shape)"
      ],
      "execution_count": null,
      "outputs": [
        {
          "output_type": "stream",
          "text": [
            "Shape awal:  (82, 12)\n",
            "Shape akhir:  (80, 12)\n"
          ],
          "name": "stdout"
        }
      ]
    },
    {
      "cell_type": "code",
      "metadata": {
        "colab": {
          "base_uri": "https://localhost:8080/"
        },
        "id": "ipafr1xPjfu8",
        "outputId": "0096d60d-f75c-4b2a-de53-1995b7b23005"
      },
      "source": [
        "##Remove Outlier Column Salinitas\n",
        "# Q1, Q3, dan IQR\n",
        "Q1 = kolam3pagi['Salinitas'].quantile(0.25)\n",
        "Q3 = kolam3pagi['Salinitas'].quantile(0.75)\n",
        "IQR = Q3 - Q1\n",
        "\n",
        "# Check ukuran (baris dan kolom) sebelum data yang outliers dibuang\n",
        "print('Shape awal: ', kolam3pagi.shape)\n",
        "\n",
        "# Removing outliers\n",
        "kolam3pagiS = kolam3pagi[~((kolam3pagi['Salinitas'] < (Q1 - 1.5 * IQR)) | (kolam3pagi['Salinitas'] > (Q3 + 1.5 * IQR)))]\n",
        "\n",
        "# Check ukuran (baris dan kolom) setelah data yang outliers dibuang\n",
        "print('Shape akhir: ', kolam3pagiS.shape)"
      ],
      "execution_count": null,
      "outputs": [
        {
          "output_type": "stream",
          "text": [
            "Shape awal:  (82, 12)\n",
            "Shape akhir:  (79, 12)\n"
          ],
          "name": "stdout"
        }
      ]
    },
    {
      "cell_type": "code",
      "metadata": {
        "colab": {
          "base_uri": "https://localhost:8080/"
        },
        "id": "3JHJyo0ljfu8",
        "outputId": "08845b50-f937-4254-b7b6-bc3ce1e3a310"
      },
      "source": [
        "##Remove Outlier Column Oksigen Terlarut\n",
        "# Q1, Q3, dan IQR\n",
        "Q1 = kolam3pagi['Oksigen Terlarut'].quantile(0.25)\n",
        "Q3 = kolam3pagi['Oksigen Terlarut'].quantile(0.75)\n",
        "IQR = Q3 - Q1\n",
        "\n",
        "# Check ukuran (baris dan kolom) sebelum data yang outliers dibuang\n",
        "print('Shape awal: ', kolam3pagi.shape)\n",
        "\n",
        "# Removing outliers\n",
        "kolam3pagiOT = kolam3pagi[~((kolam3pagi['Oksigen Terlarut'] < (Q1 - 1.5 * IQR)) | (kolam3pagi['Oksigen Terlarut'] > (Q3 + 1.5 * IQR)))]\n",
        "\n",
        "# Check ukuran (baris dan kolom) setelah data yang outliers dibuang\n",
        "print('Shape akhir: ', kolam3pagiOT.shape)"
      ],
      "execution_count": null,
      "outputs": [
        {
          "output_type": "stream",
          "text": [
            "Shape awal:  (82, 12)\n",
            "Shape akhir:  (77, 12)\n"
          ],
          "name": "stdout"
        }
      ]
    },
    {
      "cell_type": "code",
      "metadata": {
        "colab": {
          "base_uri": "https://localhost:8080/"
        },
        "id": "Clap077Jjfu8",
        "outputId": "ef85fda2-20d0-4e1a-82fe-15de5c427f62"
      },
      "source": [
        "##Remove Outlier Column pH\n",
        "# Q1, Q3, dan IQR\n",
        "Q1 = kolam3pagi['pH'].quantile(0.25)\n",
        "Q3 = kolam3pagi['pH'].quantile(0.75)\n",
        "IQR = Q3 - Q1\n",
        "\n",
        "# Check ukuran (baris dan kolom) sebelum data yang outliers dibuang\n",
        "print('Shape awal: ', kolam3pagi.shape)\n",
        "\n",
        "# Removing outliers\n",
        "kolam3pagipH = kolam3pagi[~((kolam3pagi['pH'] < (Q1 - 1.5 * IQR)) | (kolam3pagi['pH'] > (Q3 + 1.5 * IQR)))]\n",
        "\n",
        "# Check ukuran (baris dan kolom) setelah data yang outliers dibuang\n",
        "print('Shape akhir: ', kolam3pagipH.shape)"
      ],
      "execution_count": null,
      "outputs": [
        {
          "output_type": "stream",
          "text": [
            "Shape awal:  (82, 12)\n",
            "Shape akhir:  (73, 12)\n"
          ],
          "name": "stdout"
        }
      ]
    },
    {
      "cell_type": "code",
      "metadata": {
        "colab": {
          "base_uri": "https://localhost:8080/"
        },
        "id": "bum6o_Gyjfu8",
        "outputId": "35529c77-ee59-4278-dd9f-506ec0d1bad0"
      },
      "source": [
        "print('Mean Suhu Air: ', kolam3pagiSA['Suhu Air'].mean())\n",
        "print('Mean Oksigen Terlarut: ', kolam3pagiOT['Oksigen Terlarut'].mean())\n",
        "print('Mean Salinitas: ', kolam3pagiS['Salinitas'].mean())\n",
        "print('Mean pH: ', kolam3pagipH['pH'].mean())"
      ],
      "execution_count": null,
      "outputs": [
        {
          "output_type": "stream",
          "text": [
            "Mean Suhu Air:  26.91700000000002\n",
            "Mean Oksigen Terlarut:  4.5316883116883115\n",
            "Mean Salinitas:  31.243417721518988\n",
            "Mean pH:  7.752465753424659\n"
          ],
          "name": "stdout"
        }
      ]
    },
    {
      "cell_type": "markdown",
      "metadata": {
        "id": "5qANw95tjfu8"
      },
      "source": [
        "### **kolam3 Sore**"
      ]
    },
    {
      "cell_type": "code",
      "metadata": {
        "colab": {
          "base_uri": "https://localhost:8080/",
          "height": 203
        },
        "id": "3riBh8wejfu8",
        "outputId": "e2cbe711-3ff2-4ef6-ca85-421678140e32"
      },
      "source": [
        "kolam3sore= kolam3[kolam3['keterangan']=='Sore']\n",
        "kolam3sore.head()"
      ],
      "execution_count": null,
      "outputs": [
        {
          "output_type": "execute_result",
          "data": {
            "text/html": [
              "<div>\n",
              "<style scoped>\n",
              "    .dataframe tbody tr th:only-of-type {\n",
              "        vertical-align: middle;\n",
              "    }\n",
              "\n",
              "    .dataframe tbody tr th {\n",
              "        vertical-align: top;\n",
              "    }\n",
              "\n",
              "    .dataframe thead th {\n",
              "        text-align: right;\n",
              "    }\n",
              "</style>\n",
              "<table border=\"1\" class=\"dataframe\">\n",
              "  <thead>\n",
              "    <tr style=\"text-align: right;\">\n",
              "      <th></th>\n",
              "      <th>Waktu Pengukuran</th>\n",
              "      <th>Kode Siklus</th>\n",
              "      <th>Suhu Air</th>\n",
              "      <th>Oksigen Terlarut</th>\n",
              "      <th>Salinitas</th>\n",
              "      <th>pH</th>\n",
              "      <th>tahun</th>\n",
              "      <th>bulan</th>\n",
              "      <th>day</th>\n",
              "      <th>jam</th>\n",
              "      <th>keterangan</th>\n",
              "      <th>Kode Kolam</th>\n",
              "    </tr>\n",
              "  </thead>\n",
              "  <tbody>\n",
              "    <tr>\n",
              "      <th>134</th>\n",
              "      <td>2018-08-01 17:24:27+07:00</td>\n",
              "      <td>66</td>\n",
              "      <td>29.19</td>\n",
              "      <td>8.40</td>\n",
              "      <td>31.13</td>\n",
              "      <td>8.24</td>\n",
              "      <td>2018</td>\n",
              "      <td>8</td>\n",
              "      <td>1</td>\n",
              "      <td>17</td>\n",
              "      <td>Sore</td>\n",
              "      <td>3</td>\n",
              "    </tr>\n",
              "    <tr>\n",
              "      <th>136</th>\n",
              "      <td>2018-08-02 17:23:23+07:00</td>\n",
              "      <td>66</td>\n",
              "      <td>28.69</td>\n",
              "      <td>9.94</td>\n",
              "      <td>31.51</td>\n",
              "      <td>8.32</td>\n",
              "      <td>2018</td>\n",
              "      <td>8</td>\n",
              "      <td>2</td>\n",
              "      <td>17</td>\n",
              "      <td>Sore</td>\n",
              "      <td>3</td>\n",
              "    </tr>\n",
              "    <tr>\n",
              "      <th>138</th>\n",
              "      <td>2018-08-03 16:46:57+07:00</td>\n",
              "      <td>66</td>\n",
              "      <td>27.81</td>\n",
              "      <td>0.00</td>\n",
              "      <td>31.78</td>\n",
              "      <td>8.21</td>\n",
              "      <td>2018</td>\n",
              "      <td>8</td>\n",
              "      <td>3</td>\n",
              "      <td>16</td>\n",
              "      <td>Sore</td>\n",
              "      <td>3</td>\n",
              "    </tr>\n",
              "    <tr>\n",
              "      <th>139</th>\n",
              "      <td>2018-08-04 17:04:07+07:00</td>\n",
              "      <td>66</td>\n",
              "      <td>28.06</td>\n",
              "      <td>9.67</td>\n",
              "      <td>32.40</td>\n",
              "      <td>8.09</td>\n",
              "      <td>2018</td>\n",
              "      <td>8</td>\n",
              "      <td>4</td>\n",
              "      <td>17</td>\n",
              "      <td>Sore</td>\n",
              "      <td>3</td>\n",
              "    </tr>\n",
              "    <tr>\n",
              "      <th>141</th>\n",
              "      <td>2018-08-05 17:03:07+07:00</td>\n",
              "      <td>66</td>\n",
              "      <td>27.88</td>\n",
              "      <td>11.04</td>\n",
              "      <td>32.50</td>\n",
              "      <td>8.01</td>\n",
              "      <td>2018</td>\n",
              "      <td>8</td>\n",
              "      <td>5</td>\n",
              "      <td>17</td>\n",
              "      <td>Sore</td>\n",
              "      <td>3</td>\n",
              "    </tr>\n",
              "  </tbody>\n",
              "</table>\n",
              "</div>"
            ],
            "text/plain": [
              "             Waktu Pengukuran  Kode Siklus  ...  keterangan  Kode Kolam\n",
              "134 2018-08-01 17:24:27+07:00           66  ...        Sore           3\n",
              "136 2018-08-02 17:23:23+07:00           66  ...        Sore           3\n",
              "138 2018-08-03 16:46:57+07:00           66  ...        Sore           3\n",
              "139 2018-08-04 17:04:07+07:00           66  ...        Sore           3\n",
              "141 2018-08-05 17:03:07+07:00           66  ...        Sore           3\n",
              "\n",
              "[5 rows x 12 columns]"
            ]
          },
          "metadata": {
            "tags": []
          },
          "execution_count": 94
        }
      ]
    },
    {
      "cell_type": "code",
      "metadata": {
        "colab": {
          "base_uri": "https://localhost:8080/",
          "height": 295
        },
        "id": "EhGOTHuQjfu9",
        "outputId": "254ab32e-9e65-4513-f050-762557ff413b"
      },
      "source": [
        "kolam3sore[['Suhu Air','Oksigen Terlarut','Salinitas','pH']].describe()"
      ],
      "execution_count": null,
      "outputs": [
        {
          "output_type": "execute_result",
          "data": {
            "text/html": [
              "<div>\n",
              "<style scoped>\n",
              "    .dataframe tbody tr th:only-of-type {\n",
              "        vertical-align: middle;\n",
              "    }\n",
              "\n",
              "    .dataframe tbody tr th {\n",
              "        vertical-align: top;\n",
              "    }\n",
              "\n",
              "    .dataframe thead th {\n",
              "        text-align: right;\n",
              "    }\n",
              "</style>\n",
              "<table border=\"1\" class=\"dataframe\">\n",
              "  <thead>\n",
              "    <tr style=\"text-align: right;\">\n",
              "      <th></th>\n",
              "      <th>Suhu Air</th>\n",
              "      <th>Oksigen Terlarut</th>\n",
              "      <th>Salinitas</th>\n",
              "      <th>pH</th>\n",
              "    </tr>\n",
              "  </thead>\n",
              "  <tbody>\n",
              "    <tr>\n",
              "      <th>count</th>\n",
              "      <td>75.000000</td>\n",
              "      <td>75.000000</td>\n",
              "      <td>75.00000</td>\n",
              "      <td>75.000000</td>\n",
              "    </tr>\n",
              "    <tr>\n",
              "      <th>mean</th>\n",
              "      <td>29.337200</td>\n",
              "      <td>4.038000</td>\n",
              "      <td>31.37040</td>\n",
              "      <td>8.236133</td>\n",
              "    </tr>\n",
              "    <tr>\n",
              "      <th>std</th>\n",
              "      <td>0.925317</td>\n",
              "      <td>2.335129</td>\n",
              "      <td>3.40027</td>\n",
              "      <td>0.645110</td>\n",
              "    </tr>\n",
              "    <tr>\n",
              "      <th>min</th>\n",
              "      <td>26.880000</td>\n",
              "      <td>0.000000</td>\n",
              "      <td>23.22000</td>\n",
              "      <td>5.010000</td>\n",
              "    </tr>\n",
              "    <tr>\n",
              "      <th>25%</th>\n",
              "      <td>28.690000</td>\n",
              "      <td>1.955000</td>\n",
              "      <td>28.67000</td>\n",
              "      <td>8.085000</td>\n",
              "    </tr>\n",
              "    <tr>\n",
              "      <th>50%</th>\n",
              "      <td>29.500000</td>\n",
              "      <td>4.260000</td>\n",
              "      <td>31.70000</td>\n",
              "      <td>8.300000</td>\n",
              "    </tr>\n",
              "    <tr>\n",
              "      <th>75%</th>\n",
              "      <td>30.065000</td>\n",
              "      <td>5.150000</td>\n",
              "      <td>33.85500</td>\n",
              "      <td>8.560000</td>\n",
              "    </tr>\n",
              "    <tr>\n",
              "      <th>max</th>\n",
              "      <td>31.000000</td>\n",
              "      <td>11.040000</td>\n",
              "      <td>37.23000</td>\n",
              "      <td>9.200000</td>\n",
              "    </tr>\n",
              "  </tbody>\n",
              "</table>\n",
              "</div>"
            ],
            "text/plain": [
              "        Suhu Air  Oksigen Terlarut  Salinitas         pH\n",
              "count  75.000000         75.000000   75.00000  75.000000\n",
              "mean   29.337200          4.038000   31.37040   8.236133\n",
              "std     0.925317          2.335129    3.40027   0.645110\n",
              "min    26.880000          0.000000   23.22000   5.010000\n",
              "25%    28.690000          1.955000   28.67000   8.085000\n",
              "50%    29.500000          4.260000   31.70000   8.300000\n",
              "75%    30.065000          5.150000   33.85500   8.560000\n",
              "max    31.000000         11.040000   37.23000   9.200000"
            ]
          },
          "metadata": {
            "tags": []
          },
          "execution_count": 95
        }
      ]
    },
    {
      "cell_type": "code",
      "metadata": {
        "colab": {
          "base_uri": "https://localhost:8080/",
          "height": 552
        },
        "id": "HUCB2Am-jfu9",
        "outputId": "9661ce23-32ac-4f28-e696-95c0f2d3f661"
      },
      "source": [
        "data = [kolam3sore['Suhu Air'], kolam3sore['Salinitas'], kolam3sore['Oksigen Terlarut'], kolam3sore['pH']]\n",
        " \n",
        "fig = plt.figure(figsize =(10, 7))\n",
        " \n",
        "# Creating axes instance\n",
        "ax = fig.add_axes([0, 0, 1, 1])\n",
        "\n",
        "ax.set_xticklabels(['Suhu Air', 'Salinitas',\n",
        "                    'Oksigen Terlarut', 'pH'])\n",
        " \n",
        "# Creating plot\n",
        "bp = ax.boxplot(data)\n",
        " \n",
        "# show plot\n",
        "plt.show()"
      ],
      "execution_count": null,
      "outputs": [
        {
          "output_type": "display_data",
          "data": {
            "image/png": "[encoded data removed]",
            "text/plain": [
              "<Figure size 720x504 with 1 Axes>"
            ]
          },
          "metadata": {
            "tags": [],
            "needs_background": "light"
          }
        }
      ]
    },
    {
      "cell_type": "code",
      "metadata": {
        "colab": {
          "base_uri": "https://localhost:8080/"
        },
        "id": "UXbJNYfbjfu9",
        "outputId": "b286d5c5-34a2-4fa4-89ff-203b43d78b0b"
      },
      "source": [
        "##Remove Outlier Column OT\n",
        "# Q1, Q3, dan IQR\n",
        "Q1 = kolam3sore['Oksigen Terlarut'].quantile(0.25)\n",
        "Q3 = kolam3sore['Oksigen Terlarut'].quantile(0.75)\n",
        "IQR = Q3 - Q1\n",
        "\n",
        "# Check ukuran (baris dan kolom) sebelum data yang outliers dibuang\n",
        "print('Shape awal: ', kolam3sore.shape)\n",
        "\n",
        "# Removing outliers\n",
        "kolam3soreOT = kolam3sore[~((kolam3sore['Oksigen Terlarut'] < (Q1 - 1.5 * IQR)) | (kolam3sore['Oksigen Terlarut'] > (Q3 + 1.5 * IQR)))]\n",
        "\n",
        "# Check ukuran (baris dan kolom) setelah data yang outliers dibuang\n",
        "print('Shape akhir: ', kolam3soreOT.shape)"
      ],
      "execution_count": null,
      "outputs": [
        {
          "output_type": "stream",
          "text": [
            "Shape awal:  (75, 12)\n",
            "Shape akhir:  (73, 12)\n"
          ],
          "name": "stdout"
        }
      ]
    },
    {
      "cell_type": "code",
      "metadata": {
        "colab": {
          "base_uri": "https://localhost:8080/"
        },
        "id": "Q_Q6iRVjjfu9",
        "outputId": "55f25c1e-3206-48dc-fd83-65199e114e6a"
      },
      "source": [
        "##Remove Outlier Column pH\n",
        "# Q1, Q3, dan IQR\n",
        "Q1 = kolam3sore['pH'].quantile(0.25)\n",
        "Q3 = kolam3sore['pH'].quantile(0.75)\n",
        "IQR = Q3 - Q1\n",
        "\n",
        "# Check ukuran (baris dan kolom) sebelum data yang outliers dibuang\n",
        "print('Shape awal: ', kolam3sore.shape)\n",
        "\n",
        "# Removing outliers\n",
        "kolam3sorepH = kolam3sore[~((kolam3sore['pH'] < (Q1 - 1.5 * IQR)) | (kolam3sore['pH'] > (Q3 + 1.5 * IQR)))]\n",
        "\n",
        "# Check ukuran (baris dan kolom) setelah data yang outliers dibuang\n",
        "print('Shape akhir: ', kolam3sorepH.shape)"
      ],
      "execution_count": null,
      "outputs": [
        {
          "output_type": "stream",
          "text": [
            "Shape awal:  (75, 12)\n",
            "Shape akhir:  (73, 12)\n"
          ],
          "name": "stdout"
        }
      ]
    },
    {
      "cell_type": "code",
      "metadata": {
        "colab": {
          "base_uri": "https://localhost:8080/"
        },
        "id": "k9S9ZPffjfu-",
        "outputId": "6d69f0d3-aa19-4403-f45a-400e6b1c65ca"
      },
      "source": [
        "print('Mean Suhu Air: ', kolam3sore['Suhu Air'].mean())\n",
        "print('Mean Oksigen Terlarut: ', kolam3soreOT['Oksigen Terlarut'].mean())\n",
        "print('Mean Salinitas: ', kolam3sore['Salinitas'].mean())\n",
        "print('Mean pH: ', kolam3sorepH['pH'].mean())"
      ],
      "execution_count": null,
      "outputs": [
        {
          "output_type": "stream",
          "text": [
            "Mean Suhu Air:  29.337200000000017\n",
            "Mean Oksigen Terlarut:  3.8530136986301367\n",
            "Mean Salinitas:  31.37039999999999\n",
            "Mean pH:  8.324109589041097\n"
          ],
          "name": "stdout"
        }
      ]
    },
    {
      "cell_type": "code",
      "metadata": {
        "id": "V9eisPtPDhqa"
      },
      "source": [
        ""
      ],
      "execution_count": null,
      "outputs": []
    },
    {
      "cell_type": "code",
      "metadata": {
        "id": "J-Nl6wiBDhnj"
      },
      "source": [
        ""
      ],
      "execution_count": null,
      "outputs": []
    },
    {
      "cell_type": "markdown",
      "metadata": {
        "id": "o9Ha7pQlumKK"
      },
      "source": [
        "## **Kolam 3418**"
      ]
    },
    {
      "cell_type": "code",
      "metadata": {
        "colab": {
          "base_uri": "https://localhost:8080/",
          "height": 417
        },
        "id": "GzTNvhfZumKS",
        "outputId": "9e83a990-c89f-4187-9565-2474d4071ffa"
      },
      "source": [
        "kolam3418= df3[df3['Kode Kolam']==3418]\n",
        "kolam3418"
      ],
      "execution_count": null,
      "outputs": [
        {
          "output_type": "execute_result",
          "data": {
            "text/html": [
              "<div>\n",
              "<style scoped>\n",
              "    .dataframe tbody tr th:only-of-type {\n",
              "        vertical-align: middle;\n",
              "    }\n",
              "\n",
              "    .dataframe tbody tr th {\n",
              "        vertical-align: top;\n",
              "    }\n",
              "\n",
              "    .dataframe thead th {\n",
              "        text-align: right;\n",
              "    }\n",
              "</style>\n",
              "<table border=\"1\" class=\"dataframe\">\n",
              "  <thead>\n",
              "    <tr style=\"text-align: right;\">\n",
              "      <th></th>\n",
              "      <th>Waktu Pengukuran</th>\n",
              "      <th>Kode Siklus</th>\n",
              "      <th>Suhu Air</th>\n",
              "      <th>Oksigen Terlarut</th>\n",
              "      <th>Salinitas</th>\n",
              "      <th>pH</th>\n",
              "      <th>tahun</th>\n",
              "      <th>bulan</th>\n",
              "      <th>day</th>\n",
              "      <th>jam</th>\n",
              "      <th>keterangan</th>\n",
              "      <th>Kode Kolam</th>\n",
              "    </tr>\n",
              "  </thead>\n",
              "  <tbody>\n",
              "    <tr>\n",
              "      <th>291</th>\n",
              "      <td>2019-02-08 16:43:31+07:00</td>\n",
              "      <td>295</td>\n",
              "      <td>29.63</td>\n",
              "      <td>5.37</td>\n",
              "      <td>39.74</td>\n",
              "      <td>7.73</td>\n",
              "      <td>2019</td>\n",
              "      <td>2</td>\n",
              "      <td>8</td>\n",
              "      <td>16</td>\n",
              "      <td>Sore</td>\n",
              "      <td>3418</td>\n",
              "    </tr>\n",
              "    <tr>\n",
              "      <th>292</th>\n",
              "      <td>2019-02-09 09:26:01+07:00</td>\n",
              "      <td>295</td>\n",
              "      <td>28.69</td>\n",
              "      <td>5.39</td>\n",
              "      <td>39.56</td>\n",
              "      <td>7.72</td>\n",
              "      <td>2019</td>\n",
              "      <td>2</td>\n",
              "      <td>9</td>\n",
              "      <td>9</td>\n",
              "      <td>Pagi</td>\n",
              "      <td>3418</td>\n",
              "    </tr>\n",
              "    <tr>\n",
              "      <th>293</th>\n",
              "      <td>2019-02-09 15:59:49+07:00</td>\n",
              "      <td>295</td>\n",
              "      <td>29.69</td>\n",
              "      <td>5.46</td>\n",
              "      <td>39.63</td>\n",
              "      <td>7.84</td>\n",
              "      <td>2019</td>\n",
              "      <td>2</td>\n",
              "      <td>9</td>\n",
              "      <td>15</td>\n",
              "      <td>Siang</td>\n",
              "      <td>3418</td>\n",
              "    </tr>\n",
              "    <tr>\n",
              "      <th>294</th>\n",
              "      <td>2019-02-09 21:07:13+07:00</td>\n",
              "      <td>295</td>\n",
              "      <td>29.25</td>\n",
              "      <td>4.82</td>\n",
              "      <td>39.72</td>\n",
              "      <td>7.75</td>\n",
              "      <td>2019</td>\n",
              "      <td>2</td>\n",
              "      <td>9</td>\n",
              "      <td>21</td>\n",
              "      <td>Malam</td>\n",
              "      <td>3418</td>\n",
              "    </tr>\n",
              "    <tr>\n",
              "      <th>295</th>\n",
              "      <td>2019-02-10 08:09:37+07:00</td>\n",
              "      <td>295</td>\n",
              "      <td>28.44</td>\n",
              "      <td>5.00</td>\n",
              "      <td>39.56</td>\n",
              "      <td>7.71</td>\n",
              "      <td>2019</td>\n",
              "      <td>2</td>\n",
              "      <td>10</td>\n",
              "      <td>8</td>\n",
              "      <td>Pagi</td>\n",
              "      <td>3418</td>\n",
              "    </tr>\n",
              "    <tr>\n",
              "      <th>...</th>\n",
              "      <td>...</td>\n",
              "      <td>...</td>\n",
              "      <td>...</td>\n",
              "      <td>...</td>\n",
              "      <td>...</td>\n",
              "      <td>...</td>\n",
              "      <td>...</td>\n",
              "      <td>...</td>\n",
              "      <td>...</td>\n",
              "      <td>...</td>\n",
              "      <td>...</td>\n",
              "      <td>...</td>\n",
              "    </tr>\n",
              "    <tr>\n",
              "      <th>354</th>\n",
              "      <td>2019-03-02 16:32:00+07:00</td>\n",
              "      <td>295</td>\n",
              "      <td>29.94</td>\n",
              "      <td>6.54</td>\n",
              "      <td>38.52</td>\n",
              "      <td>8.42</td>\n",
              "      <td>2019</td>\n",
              "      <td>3</td>\n",
              "      <td>2</td>\n",
              "      <td>16</td>\n",
              "      <td>Sore</td>\n",
              "      <td>3418</td>\n",
              "    </tr>\n",
              "    <tr>\n",
              "      <th>355</th>\n",
              "      <td>2019-03-02 20:43:46+07:00</td>\n",
              "      <td>295</td>\n",
              "      <td>29.69</td>\n",
              "      <td>3.93</td>\n",
              "      <td>38.70</td>\n",
              "      <td>8.01</td>\n",
              "      <td>2019</td>\n",
              "      <td>3</td>\n",
              "      <td>2</td>\n",
              "      <td>20</td>\n",
              "      <td>Malam</td>\n",
              "      <td>3418</td>\n",
              "    </tr>\n",
              "    <tr>\n",
              "      <th>356</th>\n",
              "      <td>2019-03-03 07:02:07+07:00</td>\n",
              "      <td>295</td>\n",
              "      <td>28.94</td>\n",
              "      <td>4.32</td>\n",
              "      <td>38.55</td>\n",
              "      <td>7.45</td>\n",
              "      <td>2019</td>\n",
              "      <td>3</td>\n",
              "      <td>3</td>\n",
              "      <td>7</td>\n",
              "      <td>Pagi</td>\n",
              "      <td>3418</td>\n",
              "    </tr>\n",
              "    <tr>\n",
              "      <th>357</th>\n",
              "      <td>2019-03-03 16:57:10+07:00</td>\n",
              "      <td>295</td>\n",
              "      <td>28.81</td>\n",
              "      <td>4.85</td>\n",
              "      <td>38.52</td>\n",
              "      <td>7.76</td>\n",
              "      <td>2019</td>\n",
              "      <td>3</td>\n",
              "      <td>3</td>\n",
              "      <td>16</td>\n",
              "      <td>Sore</td>\n",
              "      <td>3418</td>\n",
              "    </tr>\n",
              "    <tr>\n",
              "      <th>358</th>\n",
              "      <td>2019-03-03 20:55:04+07:00</td>\n",
              "      <td>295</td>\n",
              "      <td>28.50</td>\n",
              "      <td>4.05</td>\n",
              "      <td>38.55</td>\n",
              "      <td>7.49</td>\n",
              "      <td>2019</td>\n",
              "      <td>3</td>\n",
              "      <td>3</td>\n",
              "      <td>20</td>\n",
              "      <td>Malam</td>\n",
              "      <td>3418</td>\n",
              "    </tr>\n",
              "  </tbody>\n",
              "</table>\n",
              "<p>68 rows × 12 columns</p>\n",
              "</div>"
            ],
            "text/plain": [
              "             Waktu Pengukuran  Kode Siklus  ...  keterangan  Kode Kolam\n",
              "291 2019-02-08 16:43:31+07:00          295  ...        Sore        3418\n",
              "292 2019-02-09 09:26:01+07:00          295  ...        Pagi        3418\n",
              "293 2019-02-09 15:59:49+07:00          295  ...       Siang        3418\n",
              "294 2019-02-09 21:07:13+07:00          295  ...       Malam        3418\n",
              "295 2019-02-10 08:09:37+07:00          295  ...        Pagi        3418\n",
              "..                        ...          ...  ...         ...         ...\n",
              "354 2019-03-02 16:32:00+07:00          295  ...        Sore        3418\n",
              "355 2019-03-02 20:43:46+07:00          295  ...       Malam        3418\n",
              "356 2019-03-03 07:02:07+07:00          295  ...        Pagi        3418\n",
              "357 2019-03-03 16:57:10+07:00          295  ...        Sore        3418\n",
              "358 2019-03-03 20:55:04+07:00          295  ...       Malam        3418\n",
              "\n",
              "[68 rows x 12 columns]"
            ]
          },
          "metadata": {
            "tags": []
          },
          "execution_count": 102
        }
      ]
    },
    {
      "cell_type": "code",
      "metadata": {
        "colab": {
          "base_uri": "https://localhost:8080/",
          "height": 552
        },
        "id": "YAq78YIaumKS",
        "outputId": "c65ddeb3-9fbc-4cd6-bc46-1145df009ca0"
      },
      "source": [
        "import matplotlib.pyplot as plt\n",
        "\n",
        "data = [kolam3['Suhu Air'], kolam3['Salinitas'], kolam3['Oksigen Terlarut'], kolam3['pH']]\n",
        " \n",
        "fig = plt.figure(figsize =(10, 7))\n",
        " \n",
        "# Creating axes instance\n",
        "ax = fig.add_axes([0, 0, 1, 1])\n",
        "\n",
        "ax.set_xticklabels(['Suhu Air', 'Salinitas',\n",
        "                    'Oksigen Terlarut', 'pH'])\n",
        " \n",
        "# Creating plot\n",
        "bp = ax.boxplot(data)\n",
        " \n",
        "# show plot\n",
        "plt.show()"
      ],
      "execution_count": null,
      "outputs": [
        {
          "output_type": "display_data",
          "data": {
            "image/png": "[encoded data removed]",
            "text/plain": [
              "<Figure size 720x504 with 1 Axes>"
            ]
          },
          "metadata": {
            "tags": [],
            "needs_background": "light"
          }
        }
      ]
    },
    {
      "cell_type": "code",
      "metadata": {
        "colab": {
          "base_uri": "https://localhost:8080/"
        },
        "id": "BRm0BnRYumKS",
        "outputId": "adc98a92-84a2-4f91-f207-a162ef0a4770"
      },
      "source": [
        "##Remove Outlier\n",
        "# Q1, Q3, dan IQR\n",
        "Q1 = kolam3418['Suhu Air'].quantile(0.25)\n",
        "Q3 = kolam3418['Suhu Air'].quantile(0.75)\n",
        "IQR = Q3 - Q1\n",
        "\n",
        "# Check ukuran (baris dan kolom) sebelum data yang outliers dibuang\n",
        "print('Shape awal: ', kolam3418.shape)\n",
        "\n",
        "# Removing outliers\n",
        "kolam3418SA = kolam3418[~((kolam3418['Suhu Air'] < (Q1 - 1.5 * IQR)) | (kolam3418['Suhu Air'] > (Q3 + 1.5 * IQR)))]\n",
        "\n",
        "# Check ukuran (baris dan kolom) setelah data yang outliers dibuang\n",
        "print('Shape akhir: ', kolam3418SA.shape)"
      ],
      "execution_count": null,
      "outputs": [
        {
          "output_type": "stream",
          "text": [
            "Shape awal:  (68, 12)\n",
            "Shape akhir:  (67, 12)\n"
          ],
          "name": "stdout"
        }
      ]
    },
    {
      "cell_type": "code",
      "metadata": {
        "colab": {
          "base_uri": "https://localhost:8080/"
        },
        "id": "Ga2US1KMumKS",
        "outputId": "9bf40bc3-a955-4b66-a4d2-de0453e83e0b"
      },
      "source": [
        "##Remove Outlier\n",
        "# Q1, Q3, dan IQR\n",
        "Q1 = kolam3418['Salinitas'].quantile(0.25)\n",
        "Q3 = kolam3418['Salinitas'].quantile(0.75)\n",
        "IQR = Q3 - Q1\n",
        "\n",
        "# Check ukuran (baris dan kolom) sebelum data yang outliers dibuang\n",
        "print('Shape awal: ', kolam3418.shape)\n",
        "\n",
        "# Removing outliers\n",
        "kolam3418S = kolam3418[~((kolam3418['Salinitas'] < (Q1 - 1.5 * IQR)) | (kolam3418['Salinitas'] > (Q3 + 1.5 * IQR)))]\n",
        "\n",
        "# Check ukuran (baris dan kolom) setelah data yang outliers dibuang\n",
        "print('Shape akhir: ', kolam3418S.shape)"
      ],
      "execution_count": null,
      "outputs": [
        {
          "output_type": "stream",
          "text": [
            "Shape awal:  (68, 12)\n",
            "Shape akhir:  (67, 12)\n"
          ],
          "name": "stdout"
        }
      ]
    },
    {
      "cell_type": "code",
      "metadata": {
        "colab": {
          "base_uri": "https://localhost:8080/"
        },
        "id": "6xZ5n3UQumKT",
        "outputId": "1671bdef-3ac3-4870-ac0c-11e579e78b14"
      },
      "source": [
        "##Remove Outlier\n",
        "# Q1, Q3, dan IQR\n",
        "Q1 = kolam3418['Oksigen Terlarut'].quantile(0.25)\n",
        "Q3 = kolam3418['Oksigen Terlarut'].quantile(0.75)\n",
        "IQR = Q3 - Q1\n",
        "\n",
        "# Check ukuran (baris dan kolom) sebelum data yang outliers dibuang\n",
        "print('Shape awal: ', kolam3418.shape)\n",
        "\n",
        "# Removing outliers\n",
        "kolam3418OT = kolam3418[~((kolam3418['Oksigen Terlarut'] < (Q1 - 1.5 * IQR)) | (kolam3418['Oksigen Terlarut'] > (Q3 + 1.5 * IQR)))]\n",
        "\n",
        "# Check ukuran (baris dan kolom) setelah data yang outliers dibuang\n",
        "print('Shape akhir: ', kolam3418OT.shape)"
      ],
      "execution_count": null,
      "outputs": [
        {
          "output_type": "stream",
          "text": [
            "Shape awal:  (68, 12)\n",
            "Shape akhir:  (68, 12)\n"
          ],
          "name": "stdout"
        }
      ]
    },
    {
      "cell_type": "code",
      "metadata": {
        "colab": {
          "base_uri": "https://localhost:8080/"
        },
        "id": "wkPLTdJcumKT",
        "outputId": "489a56ce-820a-4513-f4f1-49747627bb64"
      },
      "source": [
        "##Remove Outlier\n",
        "# Q1, Q3, dan IQR\n",
        "Q1 = kolam3418['pH'].quantile(0.25)\n",
        "Q3 = kolam3418['pH'].quantile(0.75)\n",
        "IQR = Q3 - Q1\n",
        "\n",
        "# Check ukuran (baris dan kolom) sebelum data yang outliers dibuang\n",
        "print('Shape awal: ', kolam3418.shape)\n",
        "\n",
        "# Removing outliers\n",
        "kolam3418pH = kolam3418[~((kolam3418['pH'] < (Q1 - 1.5 * IQR)) | (kolam3418['pH'] > (Q3 + 1.5 * IQR)))]\n",
        "\n",
        "# Check ukuran (baris dan kolom) setelah data yang outliers dibuang\n",
        "print('Shape akhir: ', kolam3418pH.shape)"
      ],
      "execution_count": null,
      "outputs": [
        {
          "output_type": "stream",
          "text": [
            "Shape awal:  (68, 12)\n",
            "Shape akhir:  (68, 12)\n"
          ],
          "name": "stdout"
        }
      ]
    },
    {
      "cell_type": "code",
      "metadata": {
        "colab": {
          "base_uri": "https://localhost:8080/"
        },
        "id": "az7tZjpRumKT",
        "outputId": "f1c45b55-c96a-4149-cf9e-b5478f2c7b59"
      },
      "source": [
        "print('Mean Suhu Air : ', kolam3418SA['Suhu Air'].mean())\n",
        "print('Mean Oksigen Terlarut: ', kolam3418OT['Oksigen Terlarut'].mean())\n",
        "print('Mean Salinitas: ', kolam3418S['Salinitas'].mean())\n",
        "print('Mean pH: ', kolam3418pH['pH'].mean())"
      ],
      "execution_count": null,
      "outputs": [
        {
          "output_type": "stream",
          "text": [
            "Mean Suhu Air :  29.405970149253744\n",
            "Mean Oksigen Terlarut:  4.955\n",
            "Mean Salinitas:  38.67074626865673\n",
            "Mean pH:  7.850882352941177\n"
          ],
          "name": "stdout"
        }
      ]
    },
    {
      "cell_type": "markdown",
      "metadata": {
        "id": "zNpZgUlTumKT"
      },
      "source": [
        "### **kolam3418 Pagi**\n"
      ]
    },
    {
      "cell_type": "code",
      "metadata": {
        "colab": {
          "base_uri": "https://localhost:8080/",
          "height": 203
        },
        "id": "FvJW5zD4umKT",
        "outputId": "81ae1e0c-496e-479a-805e-e7bc4374c7d8"
      },
      "source": [
        "kolam3418pagi= kolam3418[kolam3418['keterangan']=='Pagi']\n",
        "kolam3418pagi.head()"
      ],
      "execution_count": null,
      "outputs": [
        {
          "output_type": "execute_result",
          "data": {
            "text/html": [
              "<div>\n",
              "<style scoped>\n",
              "    .dataframe tbody tr th:only-of-type {\n",
              "        vertical-align: middle;\n",
              "    }\n",
              "\n",
              "    .dataframe tbody tr th {\n",
              "        vertical-align: top;\n",
              "    }\n",
              "\n",
              "    .dataframe thead th {\n",
              "        text-align: right;\n",
              "    }\n",
              "</style>\n",
              "<table border=\"1\" class=\"dataframe\">\n",
              "  <thead>\n",
              "    <tr style=\"text-align: right;\">\n",
              "      <th></th>\n",
              "      <th>Waktu Pengukuran</th>\n",
              "      <th>Kode Siklus</th>\n",
              "      <th>Suhu Air</th>\n",
              "      <th>Oksigen Terlarut</th>\n",
              "      <th>Salinitas</th>\n",
              "      <th>pH</th>\n",
              "      <th>tahun</th>\n",
              "      <th>bulan</th>\n",
              "      <th>day</th>\n",
              "      <th>jam</th>\n",
              "      <th>keterangan</th>\n",
              "      <th>Kode Kolam</th>\n",
              "    </tr>\n",
              "  </thead>\n",
              "  <tbody>\n",
              "    <tr>\n",
              "      <th>292</th>\n",
              "      <td>2019-02-09 09:26:01+07:00</td>\n",
              "      <td>295</td>\n",
              "      <td>28.69</td>\n",
              "      <td>5.39</td>\n",
              "      <td>39.56</td>\n",
              "      <td>7.72</td>\n",
              "      <td>2019</td>\n",
              "      <td>2</td>\n",
              "      <td>9</td>\n",
              "      <td>9</td>\n",
              "      <td>Pagi</td>\n",
              "      <td>3418</td>\n",
              "    </tr>\n",
              "    <tr>\n",
              "      <th>295</th>\n",
              "      <td>2019-02-10 08:09:37+07:00</td>\n",
              "      <td>295</td>\n",
              "      <td>28.44</td>\n",
              "      <td>5.00</td>\n",
              "      <td>39.56</td>\n",
              "      <td>7.71</td>\n",
              "      <td>2019</td>\n",
              "      <td>2</td>\n",
              "      <td>10</td>\n",
              "      <td>8</td>\n",
              "      <td>Pagi</td>\n",
              "      <td>3418</td>\n",
              "    </tr>\n",
              "    <tr>\n",
              "      <th>298</th>\n",
              "      <td>2019-02-11 07:53:59+07:00</td>\n",
              "      <td>295</td>\n",
              "      <td>27.94</td>\n",
              "      <td>5.09</td>\n",
              "      <td>39.68</td>\n",
              "      <td>7.68</td>\n",
              "      <td>2019</td>\n",
              "      <td>2</td>\n",
              "      <td>11</td>\n",
              "      <td>7</td>\n",
              "      <td>Pagi</td>\n",
              "      <td>3418</td>\n",
              "    </tr>\n",
              "    <tr>\n",
              "      <th>301</th>\n",
              "      <td>2019-02-12 07:40:17+07:00</td>\n",
              "      <td>295</td>\n",
              "      <td>27.75</td>\n",
              "      <td>5.28</td>\n",
              "      <td>39.52</td>\n",
              "      <td>7.70</td>\n",
              "      <td>2019</td>\n",
              "      <td>2</td>\n",
              "      <td>12</td>\n",
              "      <td>7</td>\n",
              "      <td>Pagi</td>\n",
              "      <td>3418</td>\n",
              "    </tr>\n",
              "    <tr>\n",
              "      <th>304</th>\n",
              "      <td>2019-02-13 07:22:56+07:00</td>\n",
              "      <td>295</td>\n",
              "      <td>28.25</td>\n",
              "      <td>4.88</td>\n",
              "      <td>39.23</td>\n",
              "      <td>7.63</td>\n",
              "      <td>2019</td>\n",
              "      <td>2</td>\n",
              "      <td>13</td>\n",
              "      <td>7</td>\n",
              "      <td>Pagi</td>\n",
              "      <td>3418</td>\n",
              "    </tr>\n",
              "  </tbody>\n",
              "</table>\n",
              "</div>"
            ],
            "text/plain": [
              "             Waktu Pengukuran  Kode Siklus  ...  keterangan  Kode Kolam\n",
              "292 2019-02-09 09:26:01+07:00          295  ...        Pagi        3418\n",
              "295 2019-02-10 08:09:37+07:00          295  ...        Pagi        3418\n",
              "298 2019-02-11 07:53:59+07:00          295  ...        Pagi        3418\n",
              "301 2019-02-12 07:40:17+07:00          295  ...        Pagi        3418\n",
              "304 2019-02-13 07:22:56+07:00          295  ...        Pagi        3418\n",
              "\n",
              "[5 rows x 12 columns]"
            ]
          },
          "metadata": {
            "tags": []
          },
          "execution_count": 110
        }
      ]
    },
    {
      "cell_type": "code",
      "metadata": {
        "colab": {
          "base_uri": "https://localhost:8080/",
          "height": 552
        },
        "id": "__OI_w0WumKT",
        "outputId": "b0ba92aa-a583-42f5-ab28-1746f3aff3c9"
      },
      "source": [
        "data = [kolam3418pagi['Suhu Air'], kolam3418pagi['Salinitas'], kolam3418pagi['Oksigen Terlarut'], kolam3418pagi['pH']]\n",
        " \n",
        "fig = plt.figure(figsize =(10, 7))\n",
        " \n",
        "# Creating axes instance\n",
        "ax = fig.add_axes([0, 0, 1, 1])\n",
        "\n",
        "ax.set_xticklabels(['Suhu Air', 'Salinitas',\n",
        "                    'Oksigen Terlarut', 'pH'])\n",
        " \n",
        "# Creating plot\n",
        "bp = ax.boxplot(data)\n",
        " \n",
        "# show plot\n",
        "plt.show()"
      ],
      "execution_count": null,
      "outputs": [
        {
          "output_type": "display_data",
          "data": {
            "image/png": "[encoded data removed]",
            "text/plain": [
              "<Figure size 720x504 with 1 Axes>"
            ]
          },
          "metadata": {
            "tags": [],
            "needs_background": "light"
          }
        }
      ]
    },
    {
      "cell_type": "code",
      "metadata": {
        "colab": {
          "base_uri": "https://localhost:8080/"
        },
        "id": "wYAbF1VqumKU",
        "outputId": "f3ca41ae-eea1-4be2-86ca-35c07abe0281"
      },
      "source": [
        "print('Mean Suhu Air', kolam3418pagi['Suhu Air'].mean())\n",
        "print('Mean Oksigen Terlarut: ', kolam3418pagi['Oksigen Terlarut'].mean())\n",
        "print('Mean Salinitas: ', kolam3418pagi['Salinitas'].mean())\n",
        "print('Mean pH: ', kolam3418pagi['pH'].mean())"
      ],
      "execution_count": null,
      "outputs": [
        {
          "output_type": "stream",
          "text": [
            "Mean Suhu Air 28.64363636363636\n",
            "Mean Oksigen Terlarut:  4.660454545454545\n",
            "Mean Salinitas:  38.61545454545455\n",
            "Mean pH:  7.557727272727272\n"
          ],
          "name": "stdout"
        }
      ]
    },
    {
      "cell_type": "markdown",
      "metadata": {
        "id": "Uiz_XxZrumKU"
      },
      "source": [
        "### **kolam3418 Sore**"
      ]
    },
    {
      "cell_type": "code",
      "metadata": {
        "colab": {
          "base_uri": "https://localhost:8080/",
          "height": 203
        },
        "id": "8L4DeOWCumKV",
        "outputId": "1c795f45-ba3d-4951-f5eb-54c9885377e9"
      },
      "source": [
        "kolam3418sore= kolam3418[kolam3418['keterangan']=='Sore']\n",
        "kolam3418sore.head()"
      ],
      "execution_count": null,
      "outputs": [
        {
          "output_type": "execute_result",
          "data": {
            "text/html": [
              "<div>\n",
              "<style scoped>\n",
              "    .dataframe tbody tr th:only-of-type {\n",
              "        vertical-align: middle;\n",
              "    }\n",
              "\n",
              "    .dataframe tbody tr th {\n",
              "        vertical-align: top;\n",
              "    }\n",
              "\n",
              "    .dataframe thead th {\n",
              "        text-align: right;\n",
              "    }\n",
              "</style>\n",
              "<table border=\"1\" class=\"dataframe\">\n",
              "  <thead>\n",
              "    <tr style=\"text-align: right;\">\n",
              "      <th></th>\n",
              "      <th>Waktu Pengukuran</th>\n",
              "      <th>Kode Siklus</th>\n",
              "      <th>Suhu Air</th>\n",
              "      <th>Oksigen Terlarut</th>\n",
              "      <th>Salinitas</th>\n",
              "      <th>pH</th>\n",
              "      <th>tahun</th>\n",
              "      <th>bulan</th>\n",
              "      <th>day</th>\n",
              "      <th>jam</th>\n",
              "      <th>keterangan</th>\n",
              "      <th>Kode Kolam</th>\n",
              "    </tr>\n",
              "  </thead>\n",
              "  <tbody>\n",
              "    <tr>\n",
              "      <th>291</th>\n",
              "      <td>2019-02-08 16:43:31+07:00</td>\n",
              "      <td>295</td>\n",
              "      <td>29.63</td>\n",
              "      <td>5.37</td>\n",
              "      <td>39.74</td>\n",
              "      <td>7.73</td>\n",
              "      <td>2019</td>\n",
              "      <td>2</td>\n",
              "      <td>8</td>\n",
              "      <td>16</td>\n",
              "      <td>Sore</td>\n",
              "      <td>3418</td>\n",
              "    </tr>\n",
              "    <tr>\n",
              "      <th>296</th>\n",
              "      <td>2019-02-10 16:02:42+07:00</td>\n",
              "      <td>295</td>\n",
              "      <td>29.38</td>\n",
              "      <td>5.23</td>\n",
              "      <td>39.63</td>\n",
              "      <td>7.85</td>\n",
              "      <td>2019</td>\n",
              "      <td>2</td>\n",
              "      <td>10</td>\n",
              "      <td>16</td>\n",
              "      <td>Sore</td>\n",
              "      <td>3418</td>\n",
              "    </tr>\n",
              "    <tr>\n",
              "      <th>299</th>\n",
              "      <td>2019-02-11 16:20:07+07:00</td>\n",
              "      <td>295</td>\n",
              "      <td>29.19</td>\n",
              "      <td>5.87</td>\n",
              "      <td>39.43</td>\n",
              "      <td>7.91</td>\n",
              "      <td>2019</td>\n",
              "      <td>2</td>\n",
              "      <td>11</td>\n",
              "      <td>16</td>\n",
              "      <td>Sore</td>\n",
              "      <td>3418</td>\n",
              "    </tr>\n",
              "    <tr>\n",
              "      <th>305</th>\n",
              "      <td>2019-02-13 16:15:31+07:00</td>\n",
              "      <td>295</td>\n",
              "      <td>29.69</td>\n",
              "      <td>6.18</td>\n",
              "      <td>39.35</td>\n",
              "      <td>8.09</td>\n",
              "      <td>2019</td>\n",
              "      <td>2</td>\n",
              "      <td>13</td>\n",
              "      <td>16</td>\n",
              "      <td>Sore</td>\n",
              "      <td>3418</td>\n",
              "    </tr>\n",
              "    <tr>\n",
              "      <th>308</th>\n",
              "      <td>2019-02-14 16:17:03+07:00</td>\n",
              "      <td>295</td>\n",
              "      <td>29.56</td>\n",
              "      <td>6.64</td>\n",
              "      <td>39.59</td>\n",
              "      <td>8.06</td>\n",
              "      <td>2019</td>\n",
              "      <td>2</td>\n",
              "      <td>14</td>\n",
              "      <td>16</td>\n",
              "      <td>Sore</td>\n",
              "      <td>3418</td>\n",
              "    </tr>\n",
              "  </tbody>\n",
              "</table>\n",
              "</div>"
            ],
            "text/plain": [
              "             Waktu Pengukuran  Kode Siklus  ...  keterangan  Kode Kolam\n",
              "291 2019-02-08 16:43:31+07:00          295  ...        Sore        3418\n",
              "296 2019-02-10 16:02:42+07:00          295  ...        Sore        3418\n",
              "299 2019-02-11 16:20:07+07:00          295  ...        Sore        3418\n",
              "305 2019-02-13 16:15:31+07:00          295  ...        Sore        3418\n",
              "308 2019-02-14 16:17:03+07:00          295  ...        Sore        3418\n",
              "\n",
              "[5 rows x 12 columns]"
            ]
          },
          "metadata": {
            "tags": []
          },
          "execution_count": 113
        }
      ]
    },
    {
      "cell_type": "code",
      "metadata": {
        "colab": {
          "base_uri": "https://localhost:8080/",
          "height": 295
        },
        "id": "B0Fx5OyNumKV",
        "outputId": "93be0d51-f37d-4619-854c-265fc9cb578d"
      },
      "source": [
        "kolam3418sore[['Suhu Air','Oksigen Terlarut','Salinitas','pH']].describe()"
      ],
      "execution_count": null,
      "outputs": [
        {
          "output_type": "execute_result",
          "data": {
            "text/html": [
              "<div>\n",
              "<style scoped>\n",
              "    .dataframe tbody tr th:only-of-type {\n",
              "        vertical-align: middle;\n",
              "    }\n",
              "\n",
              "    .dataframe tbody tr th {\n",
              "        vertical-align: top;\n",
              "    }\n",
              "\n",
              "    .dataframe thead th {\n",
              "        text-align: right;\n",
              "    }\n",
              "</style>\n",
              "<table border=\"1\" class=\"dataframe\">\n",
              "  <thead>\n",
              "    <tr style=\"text-align: right;\">\n",
              "      <th></th>\n",
              "      <th>Suhu Air</th>\n",
              "      <th>Oksigen Terlarut</th>\n",
              "      <th>Salinitas</th>\n",
              "      <th>pH</th>\n",
              "    </tr>\n",
              "  </thead>\n",
              "  <tbody>\n",
              "    <tr>\n",
              "      <th>count</th>\n",
              "      <td>34.000000</td>\n",
              "      <td>34.000000</td>\n",
              "      <td>34.000000</td>\n",
              "      <td>34.000000</td>\n",
              "    </tr>\n",
              "    <tr>\n",
              "      <th>mean</th>\n",
              "      <td>32.611471</td>\n",
              "      <td>8.093824</td>\n",
              "      <td>25.428824</td>\n",
              "      <td>7.490000</td>\n",
              "    </tr>\n",
              "    <tr>\n",
              "      <th>std</th>\n",
              "      <td>16.694797</td>\n",
              "      <td>2.620658</td>\n",
              "      <td>6.159046</td>\n",
              "      <td>1.773932</td>\n",
              "    </tr>\n",
              "    <tr>\n",
              "      <th>min</th>\n",
              "      <td>28.190000</td>\n",
              "      <td>4.300000</td>\n",
              "      <td>0.000000</td>\n",
              "      <td>2.860000</td>\n",
              "    </tr>\n",
              "    <tr>\n",
              "      <th>25%</th>\n",
              "      <td>29.300000</td>\n",
              "      <td>6.002500</td>\n",
              "      <td>25.630000</td>\n",
              "      <td>7.552500</td>\n",
              "    </tr>\n",
              "    <tr>\n",
              "      <th>50%</th>\n",
              "      <td>29.970000</td>\n",
              "      <td>7.690000</td>\n",
              "      <td>27.050000</td>\n",
              "      <td>8.135000</td>\n",
              "    </tr>\n",
              "    <tr>\n",
              "      <th>75%</th>\n",
              "      <td>30.377500</td>\n",
              "      <td>9.267500</td>\n",
              "      <td>27.967500</td>\n",
              "      <td>8.320000</td>\n",
              "    </tr>\n",
              "    <tr>\n",
              "      <th>max</th>\n",
              "      <td>127.000000</td>\n",
              "      <td>15.200000</td>\n",
              "      <td>29.660000</td>\n",
              "      <td>9.770000</td>\n",
              "    </tr>\n",
              "  </tbody>\n",
              "</table>\n",
              "</div>"
            ],
            "text/plain": [
              "         Suhu Air  Oksigen Terlarut  Salinitas         pH\n",
              "count   34.000000         34.000000  34.000000  34.000000\n",
              "mean    32.611471          8.093824  25.428824   7.490000\n",
              "std     16.694797          2.620658   6.159046   1.773932\n",
              "min     28.190000          4.300000   0.000000   2.860000\n",
              "25%     29.300000          6.002500  25.630000   7.552500\n",
              "50%     29.970000          7.690000  27.050000   8.135000\n",
              "75%     30.377500          9.267500  27.967500   8.320000\n",
              "max    127.000000         15.200000  29.660000   9.770000"
            ]
          },
          "metadata": {
            "tags": []
          },
          "execution_count": 29
        }
      ]
    },
    {
      "cell_type": "code",
      "metadata": {
        "colab": {
          "base_uri": "https://localhost:8080/",
          "height": 552
        },
        "id": "OtPOqRyuumKW",
        "outputId": "4ed9074e-25e2-4c9d-88a6-0257abdc905f"
      },
      "source": [
        "data = [kolam3418sore['Suhu Air'], kolam3418sore['Salinitas'], kolam3418sore['Oksigen Terlarut'], kolam3418sore['pH']]\n",
        " \n",
        "fig = plt.figure(figsize =(10, 7))\n",
        " \n",
        "# Creating axes instance\n",
        "ax = fig.add_axes([0, 0, 1, 1])\n",
        "\n",
        "ax.set_xticklabels(['Suhu Air', 'Salinitas',\n",
        "                    'Oksigen Terlarut', 'pH'])\n",
        " \n",
        "# Creating plot\n",
        "bp = ax.boxplot(data)\n",
        " \n",
        "# show plot\n",
        "plt.show()"
      ],
      "execution_count": null,
      "outputs": [
        {
          "output_type": "display_data",
          "data": {
            "image/png": "[encoded data removed]",
            "text/plain": [
              "<Figure size 720x504 with 1 Axes>"
            ]
          },
          "metadata": {
            "tags": [],
            "needs_background": "light"
          }
        }
      ]
    },
    {
      "cell_type": "code",
      "metadata": {
        "colab": {
          "base_uri": "https://localhost:8080/"
        },
        "id": "S5mbUvfHumKW",
        "outputId": "bac6124a-91c5-4fab-89ae-4dda03bbf190"
      },
      "source": [
        "##Remove Outlier Column Salinitas\n",
        "# Q1, Q3, dan IQR\n",
        "Q1 = kolam3418sore['Salinitas'].quantile(0.25)\n",
        "Q3 = kolam3418sore['Salinitas'].quantile(0.75)\n",
        "IQR = Q3 - Q1\n",
        "\n",
        "# Check ukuran (baris dan kolom) sebelum data yang outliers dibuang\n",
        "print('Shape awal: ', kolam3418sore.shape)\n",
        "\n",
        "# Removing outliers\n",
        "kolam3418soreS = kolam3418sore[~((kolam3418sore['Salinitas'] < (Q1 - 1.5 * IQR)) | (kolam3418sore['Salinitas'] > (Q3 + 1.5 * IQR)))]\n",
        "\n",
        "# Check ukuran (baris dan kolom) setelah data yang outliers dibuang\n",
        "print('Shape akhir: ', kolam3418soreS.shape)"
      ],
      "execution_count": null,
      "outputs": [
        {
          "output_type": "stream",
          "text": [
            "Shape awal:  (21, 12)\n",
            "Shape akhir:  (17, 12)\n"
          ],
          "name": "stdout"
        }
      ]
    },
    {
      "cell_type": "code",
      "metadata": {
        "colab": {
          "base_uri": "https://localhost:8080/"
        },
        "id": "KOHUHevEumKW",
        "outputId": "b4b27f66-60e6-4993-cc36-e75721641f85"
      },
      "source": [
        "##Remove Outlier Column OT\n",
        "# Q1, Q3, dan IQR\n",
        "Q1 = kolam3418sore['Oksigen Terlarut'].quantile(0.25)\n",
        "Q3 = kolam3418sore['Oksigen Terlarut'].quantile(0.75)\n",
        "IQR = Q3 - Q1\n",
        "\n",
        "# Check ukuran (baris dan kolom) sebelum data yang outliers dibuang\n",
        "print('Shape awal: ', kolam3418sore.shape)\n",
        "\n",
        "# Removing outliers\n",
        "kolam3418soreOT = kolam3418sore[~((kolam3418sore['Oksigen Terlarut'] < (Q1 - 1.5 * IQR)) | (kolam3418sore['Oksigen Terlarut'] > (Q3 + 1.5 * IQR)))]\n",
        "\n",
        "# Check ukuran (baris dan kolom) setelah data yang outliers dibuang\n",
        "print('Shape akhir: ', kolam3418soreOT.shape)"
      ],
      "execution_count": null,
      "outputs": [
        {
          "output_type": "stream",
          "text": [
            "Shape awal:  (21, 12)\n",
            "Shape akhir:  (20, 12)\n"
          ],
          "name": "stdout"
        }
      ]
    },
    {
      "cell_type": "code",
      "metadata": {
        "colab": {
          "base_uri": "https://localhost:8080/"
        },
        "id": "uHIeJNh4umKW",
        "outputId": "4fad2bda-f890-4725-e004-a73088f15262"
      },
      "source": [
        "print('Mean Suhu Air: ', kolam3418sore['Suhu Air'].mean())\n",
        "print('Mean Oksigen Terlarut: ', kolam3418soreOT['Oksigen Terlarut'].mean())\n",
        "print('Mean Salinitas: ', kolam3418soreS['Salinitas'].mean())\n",
        "print('Mean pH: ', kolam3418sore['pH'].mean())"
      ],
      "execution_count": null,
      "outputs": [
        {
          "output_type": "stream",
          "text": [
            "Mean Suhu Air:  30.03428571428571\n",
            "Mean Oksigen Terlarut:  6.066000000000001\n",
            "Mean Salinitas:  38.36647058823529\n",
            "Mean pH:  8.138571428571428\n"
          ],
          "name": "stdout"
        }
      ]
    },
    {
      "cell_type": "code",
      "metadata": {
        "id": "sFhRGBznDhkx"
      },
      "source": [
        ""
      ],
      "execution_count": null,
      "outputs": []
    },
    {
      "cell_type": "code",
      "metadata": {
        "id": "Skr4XmB6Dhh2"
      },
      "source": [
        ""
      ],
      "execution_count": null,
      "outputs": []
    },
    {
      "cell_type": "markdown",
      "metadata": {
        "id": "cdjmrQ5Wx10x"
      },
      "source": [
        "## **Kolam 3421**"
      ]
    },
    {
      "cell_type": "code",
      "metadata": {
        "colab": {
          "base_uri": "https://localhost:8080/",
          "height": 417
        },
        "id": "9d3eWjDpx11N",
        "outputId": "1082bfdc-8c0b-4db0-9e87-eb7cfa235677"
      },
      "source": [
        "kolam3421= df3[df3['Kode Kolam']==3421]\n",
        "kolam3421"
      ],
      "execution_count": null,
      "outputs": [
        {
          "output_type": "execute_result",
          "data": {
            "text/html": [
              "<div>\n",
              "<style scoped>\n",
              "    .dataframe tbody tr th:only-of-type {\n",
              "        vertical-align: middle;\n",
              "    }\n",
              "\n",
              "    .dataframe tbody tr th {\n",
              "        vertical-align: top;\n",
              "    }\n",
              "\n",
              "    .dataframe thead th {\n",
              "        text-align: right;\n",
              "    }\n",
              "</style>\n",
              "<table border=\"1\" class=\"dataframe\">\n",
              "  <thead>\n",
              "    <tr style=\"text-align: right;\">\n",
              "      <th></th>\n",
              "      <th>Waktu Pengukuran</th>\n",
              "      <th>Kode Siklus</th>\n",
              "      <th>Suhu Air</th>\n",
              "      <th>Oksigen Terlarut</th>\n",
              "      <th>Salinitas</th>\n",
              "      <th>pH</th>\n",
              "      <th>tahun</th>\n",
              "      <th>bulan</th>\n",
              "      <th>day</th>\n",
              "      <th>jam</th>\n",
              "      <th>keterangan</th>\n",
              "      <th>Kode Kolam</th>\n",
              "    </tr>\n",
              "  </thead>\n",
              "  <tbody>\n",
              "    <tr>\n",
              "      <th>359</th>\n",
              "      <td>2019-02-08 16:35:21+07:00</td>\n",
              "      <td>298</td>\n",
              "      <td>29.50</td>\n",
              "      <td>5.21</td>\n",
              "      <td>38.91</td>\n",
              "      <td>7.74</td>\n",
              "      <td>2019</td>\n",
              "      <td>2</td>\n",
              "      <td>8</td>\n",
              "      <td>16</td>\n",
              "      <td>Sore</td>\n",
              "      <td>3421</td>\n",
              "    </tr>\n",
              "    <tr>\n",
              "      <th>360</th>\n",
              "      <td>2019-02-09 09:19:16+07:00</td>\n",
              "      <td>298</td>\n",
              "      <td>28.31</td>\n",
              "      <td>5.41</td>\n",
              "      <td>38.89</td>\n",
              "      <td>7.75</td>\n",
              "      <td>2019</td>\n",
              "      <td>2</td>\n",
              "      <td>9</td>\n",
              "      <td>9</td>\n",
              "      <td>Pagi</td>\n",
              "      <td>3421</td>\n",
              "    </tr>\n",
              "    <tr>\n",
              "      <th>361</th>\n",
              "      <td>2019-02-09 15:53:05+07:00</td>\n",
              "      <td>298</td>\n",
              "      <td>29.50</td>\n",
              "      <td>4.91</td>\n",
              "      <td>38.71</td>\n",
              "      <td>7.77</td>\n",
              "      <td>2019</td>\n",
              "      <td>2</td>\n",
              "      <td>9</td>\n",
              "      <td>15</td>\n",
              "      <td>Siang</td>\n",
              "      <td>3421</td>\n",
              "    </tr>\n",
              "    <tr>\n",
              "      <th>362</th>\n",
              "      <td>2019-02-09 21:01:14+07:00</td>\n",
              "      <td>298</td>\n",
              "      <td>29.00</td>\n",
              "      <td>5.02</td>\n",
              "      <td>38.84</td>\n",
              "      <td>7.73</td>\n",
              "      <td>2019</td>\n",
              "      <td>2</td>\n",
              "      <td>9</td>\n",
              "      <td>21</td>\n",
              "      <td>Malam</td>\n",
              "      <td>3421</td>\n",
              "    </tr>\n",
              "    <tr>\n",
              "      <th>363</th>\n",
              "      <td>2019-02-10 08:02:55+07:00</td>\n",
              "      <td>298</td>\n",
              "      <td>28.00</td>\n",
              "      <td>4.94</td>\n",
              "      <td>38.72</td>\n",
              "      <td>7.74</td>\n",
              "      <td>2019</td>\n",
              "      <td>2</td>\n",
              "      <td>10</td>\n",
              "      <td>8</td>\n",
              "      <td>Pagi</td>\n",
              "      <td>3421</td>\n",
              "    </tr>\n",
              "    <tr>\n",
              "      <th>...</th>\n",
              "      <td>...</td>\n",
              "      <td>...</td>\n",
              "      <td>...</td>\n",
              "      <td>...</td>\n",
              "      <td>...</td>\n",
              "      <td>...</td>\n",
              "      <td>...</td>\n",
              "      <td>...</td>\n",
              "      <td>...</td>\n",
              "      <td>...</td>\n",
              "      <td>...</td>\n",
              "      <td>...</td>\n",
              "    </tr>\n",
              "    <tr>\n",
              "      <th>438</th>\n",
              "      <td>2019-03-08 07:14:17+07:00</td>\n",
              "      <td>298</td>\n",
              "      <td>27.25</td>\n",
              "      <td>4.33</td>\n",
              "      <td>36.14</td>\n",
              "      <td>7.44</td>\n",
              "      <td>2019</td>\n",
              "      <td>3</td>\n",
              "      <td>8</td>\n",
              "      <td>7</td>\n",
              "      <td>Pagi</td>\n",
              "      <td>3421</td>\n",
              "    </tr>\n",
              "    <tr>\n",
              "      <th>439</th>\n",
              "      <td>2019-03-08 16:43:59+07:00</td>\n",
              "      <td>298</td>\n",
              "      <td>29.63</td>\n",
              "      <td>4.39</td>\n",
              "      <td>36.26</td>\n",
              "      <td>7.58</td>\n",
              "      <td>2019</td>\n",
              "      <td>3</td>\n",
              "      <td>8</td>\n",
              "      <td>16</td>\n",
              "      <td>Sore</td>\n",
              "      <td>3421</td>\n",
              "    </tr>\n",
              "    <tr>\n",
              "      <th>440</th>\n",
              "      <td>2019-03-08 21:51:11+07:00</td>\n",
              "      <td>298</td>\n",
              "      <td>28.88</td>\n",
              "      <td>4.16</td>\n",
              "      <td>36.44</td>\n",
              "      <td>7.49</td>\n",
              "      <td>2019</td>\n",
              "      <td>3</td>\n",
              "      <td>8</td>\n",
              "      <td>21</td>\n",
              "      <td>Malam</td>\n",
              "      <td>3421</td>\n",
              "    </tr>\n",
              "    <tr>\n",
              "      <th>441</th>\n",
              "      <td>2019-03-09 07:44:42+07:00</td>\n",
              "      <td>298</td>\n",
              "      <td>28.00</td>\n",
              "      <td>4.09</td>\n",
              "      <td>36.35</td>\n",
              "      <td>7.43</td>\n",
              "      <td>2019</td>\n",
              "      <td>3</td>\n",
              "      <td>9</td>\n",
              "      <td>7</td>\n",
              "      <td>Pagi</td>\n",
              "      <td>3421</td>\n",
              "    </tr>\n",
              "    <tr>\n",
              "      <th>442</th>\n",
              "      <td>2019-03-09 16:29:13+07:00</td>\n",
              "      <td>298</td>\n",
              "      <td>30.13</td>\n",
              "      <td>4.46</td>\n",
              "      <td>36.46</td>\n",
              "      <td>7.57</td>\n",
              "      <td>2019</td>\n",
              "      <td>3</td>\n",
              "      <td>9</td>\n",
              "      <td>16</td>\n",
              "      <td>Sore</td>\n",
              "      <td>3421</td>\n",
              "    </tr>\n",
              "  </tbody>\n",
              "</table>\n",
              "<p>84 rows × 12 columns</p>\n",
              "</div>"
            ],
            "text/plain": [
              "             Waktu Pengukuran  Kode Siklus  ...  keterangan  Kode Kolam\n",
              "359 2019-02-08 16:35:21+07:00          298  ...        Sore        3421\n",
              "360 2019-02-09 09:19:16+07:00          298  ...        Pagi        3421\n",
              "361 2019-02-09 15:53:05+07:00          298  ...       Siang        3421\n",
              "362 2019-02-09 21:01:14+07:00          298  ...       Malam        3421\n",
              "363 2019-02-10 08:02:55+07:00          298  ...        Pagi        3421\n",
              "..                        ...          ...  ...         ...         ...\n",
              "438 2019-03-08 07:14:17+07:00          298  ...        Pagi        3421\n",
              "439 2019-03-08 16:43:59+07:00          298  ...        Sore        3421\n",
              "440 2019-03-08 21:51:11+07:00          298  ...       Malam        3421\n",
              "441 2019-03-09 07:44:42+07:00          298  ...        Pagi        3421\n",
              "442 2019-03-09 16:29:13+07:00          298  ...        Sore        3421\n",
              "\n",
              "[84 rows x 12 columns]"
            ]
          },
          "metadata": {
            "tags": []
          },
          "execution_count": 119
        }
      ]
    },
    {
      "cell_type": "code",
      "metadata": {
        "colab": {
          "base_uri": "https://localhost:8080/",
          "height": 552
        },
        "id": "t39LmG6Vx11O",
        "outputId": "2e50eb12-bc31-461f-b579-4193600bb2aa"
      },
      "source": [
        "import matplotlib.pyplot as plt\n",
        "\n",
        "data = [kolam3421['Suhu Air'], kolam3421['Salinitas'], kolam3421['Oksigen Terlarut'], kolam3421['pH']]\n",
        " \n",
        "fig = plt.figure(figsize =(10, 7))\n",
        " \n",
        "# Creating axes instance\n",
        "ax = fig.add_axes([0, 0, 1, 1])\n",
        "\n",
        "ax.set_xticklabels(['Suhu Air', 'Salinitas',\n",
        "                    'Oksigen Terlarut', 'pH'])\n",
        " \n",
        "# Creating plot\n",
        "bp = ax.boxplot(data)\n",
        " \n",
        "# show plot\n",
        "plt.show()"
      ],
      "execution_count": null,
      "outputs": [
        {
          "output_type": "display_data",
          "data": {
            "image/png": "[encoded data removed]",
            "text/plain": [
              "<Figure size 720x504 with 1 Axes>"
            ]
          },
          "metadata": {
            "tags": [],
            "needs_background": "light"
          }
        }
      ]
    },
    {
      "cell_type": "code",
      "metadata": {
        "colab": {
          "base_uri": "https://localhost:8080/"
        },
        "id": "69k-4xUgx11P",
        "outputId": "5fc01da4-f96c-4fa2-e502-377e35da3016"
      },
      "source": [
        "##Remove Outlier\n",
        "# Q1, Q3, dan IQR\n",
        "Q1 = kolam3421['Salinitas'].quantile(0.25)\n",
        "Q3 = kolam3421['Salinitas'].quantile(0.75)\n",
        "IQR = Q3 - Q1\n",
        "\n",
        "# Check ukuran (baris dan kolom) sebelum data yang outliers dibuang\n",
        "print('Shape awal: ', kolam3421.shape)\n",
        "\n",
        "# Removing outliers\n",
        "kolam3421S = kolam3421[~((kolam3421['Salinitas'] < (Q1 - 1.5 * IQR)) | (kolam3421['Salinitas'] > (Q3 + 1.5 * IQR)))]\n",
        "\n",
        "# Check ukuran (baris dan kolom) setelah data yang outliers dibuang\n",
        "print('Shape akhir: ', kolam3421S.shape)"
      ],
      "execution_count": null,
      "outputs": [
        {
          "output_type": "stream",
          "text": [
            "Shape awal:  (84, 12)\n",
            "Shape akhir:  (80, 12)\n"
          ],
          "name": "stdout"
        }
      ]
    },
    {
      "cell_type": "code",
      "metadata": {
        "colab": {
          "base_uri": "https://localhost:8080/"
        },
        "id": "-ygfP_VIx11P",
        "outputId": "7ebd9c96-ff52-45a9-ca31-97a2b25757da"
      },
      "source": [
        "##Remove Outlier\n",
        "# Q1, Q3, dan IQR\n",
        "Q1 = kolam3421['Oksigen Terlarut'].quantile(0.25)\n",
        "Q3 = kolam3421['Oksigen Terlarut'].quantile(0.75)\n",
        "IQR = Q3 - Q1\n",
        "\n",
        "# Check ukuran (baris dan kolom) sebelum data yang outliers dibuang\n",
        "print('Shape awal: ', kolam3421.shape)\n",
        "\n",
        "# Removing outliers\n",
        "kolam3421OT = kolam3421[~((kolam3421['Oksigen Terlarut'] < (Q1 - 1.5 * IQR)) | (kolam3421['Oksigen Terlarut'] > (Q3 + 1.5 * IQR)))]\n",
        "\n",
        "# Check ukuran (baris dan kolom) setelah data yang outliers dibuang\n",
        "print('Shape akhir: ', kolam3421OT.shape)"
      ],
      "execution_count": null,
      "outputs": [
        {
          "output_type": "stream",
          "text": [
            "Shape awal:  (84, 12)\n",
            "Shape akhir:  (82, 12)\n"
          ],
          "name": "stdout"
        }
      ]
    },
    {
      "cell_type": "code",
      "metadata": {
        "colab": {
          "base_uri": "https://localhost:8080/"
        },
        "id": "NumW4VZ5x11Q",
        "outputId": "01844ea4-9504-494e-c8f2-d92a90b39c9a"
      },
      "source": [
        "print('Mean Suhu Air : ', kolam3421['Suhu Air'].mean())\n",
        "print('Mean Oksigen Terlarut: ', kolam3421OT['Oksigen Terlarut'].mean())\n",
        "print('Mean Salinitas: ', kolam3421S['Salinitas'].mean())\n",
        "print('Mean pH: ', kolam3421['pH'].mean())"
      ],
      "execution_count": null,
      "outputs": [
        {
          "output_type": "stream",
          "text": [
            "Mean Suhu Air :  29.020357142857154\n",
            "Mean Oksigen Terlarut:  4.984024390243903\n",
            "Mean Salinitas:  37.65499999999999\n",
            "Mean pH:  7.92\n"
          ],
          "name": "stdout"
        }
      ]
    },
    {
      "cell_type": "markdown",
      "metadata": {
        "id": "YTOYenykx11Q"
      },
      "source": [
        "### **kolam3421 Pagi**\n"
      ]
    },
    {
      "cell_type": "code",
      "metadata": {
        "colab": {
          "base_uri": "https://localhost:8080/",
          "height": 203
        },
        "id": "wZkAaFehx11Q",
        "outputId": "2cf49b72-d351-4c1a-9948-ea6beffe51fd"
      },
      "source": [
        "kolam3421pagi= kolam3421[kolam3421['keterangan']=='Pagi']\n",
        "kolam3421pagi.head()"
      ],
      "execution_count": null,
      "outputs": [
        {
          "output_type": "execute_result",
          "data": {
            "text/html": [
              "<div>\n",
              "<style scoped>\n",
              "    .dataframe tbody tr th:only-of-type {\n",
              "        vertical-align: middle;\n",
              "    }\n",
              "\n",
              "    .dataframe tbody tr th {\n",
              "        vertical-align: top;\n",
              "    }\n",
              "\n",
              "    .dataframe thead th {\n",
              "        text-align: right;\n",
              "    }\n",
              "</style>\n",
              "<table border=\"1\" class=\"dataframe\">\n",
              "  <thead>\n",
              "    <tr style=\"text-align: right;\">\n",
              "      <th></th>\n",
              "      <th>Waktu Pengukuran</th>\n",
              "      <th>Kode Siklus</th>\n",
              "      <th>Suhu Air</th>\n",
              "      <th>Oksigen Terlarut</th>\n",
              "      <th>Salinitas</th>\n",
              "      <th>pH</th>\n",
              "      <th>tahun</th>\n",
              "      <th>bulan</th>\n",
              "      <th>day</th>\n",
              "      <th>jam</th>\n",
              "      <th>keterangan</th>\n",
              "      <th>Kode Kolam</th>\n",
              "    </tr>\n",
              "  </thead>\n",
              "  <tbody>\n",
              "    <tr>\n",
              "      <th>360</th>\n",
              "      <td>2019-02-09 09:19:16+07:00</td>\n",
              "      <td>298</td>\n",
              "      <td>28.31</td>\n",
              "      <td>5.41</td>\n",
              "      <td>38.89</td>\n",
              "      <td>7.75</td>\n",
              "      <td>2019</td>\n",
              "      <td>2</td>\n",
              "      <td>9</td>\n",
              "      <td>9</td>\n",
              "      <td>Pagi</td>\n",
              "      <td>3421</td>\n",
              "    </tr>\n",
              "    <tr>\n",
              "      <th>363</th>\n",
              "      <td>2019-02-10 08:02:55+07:00</td>\n",
              "      <td>298</td>\n",
              "      <td>28.00</td>\n",
              "      <td>4.94</td>\n",
              "      <td>38.72</td>\n",
              "      <td>7.74</td>\n",
              "      <td>2019</td>\n",
              "      <td>2</td>\n",
              "      <td>10</td>\n",
              "      <td>8</td>\n",
              "      <td>Pagi</td>\n",
              "      <td>3421</td>\n",
              "    </tr>\n",
              "    <tr>\n",
              "      <th>366</th>\n",
              "      <td>2019-02-11 07:47:27+07:00</td>\n",
              "      <td>298</td>\n",
              "      <td>27.69</td>\n",
              "      <td>5.06</td>\n",
              "      <td>38.89</td>\n",
              "      <td>7.71</td>\n",
              "      <td>2019</td>\n",
              "      <td>2</td>\n",
              "      <td>11</td>\n",
              "      <td>7</td>\n",
              "      <td>Pagi</td>\n",
              "      <td>3421</td>\n",
              "    </tr>\n",
              "    <tr>\n",
              "      <th>369</th>\n",
              "      <td>2019-02-12 07:34:59+07:00</td>\n",
              "      <td>298</td>\n",
              "      <td>27.56</td>\n",
              "      <td>5.50</td>\n",
              "      <td>38.58</td>\n",
              "      <td>7.73</td>\n",
              "      <td>2019</td>\n",
              "      <td>2</td>\n",
              "      <td>12</td>\n",
              "      <td>7</td>\n",
              "      <td>Pagi</td>\n",
              "      <td>3421</td>\n",
              "    </tr>\n",
              "    <tr>\n",
              "      <th>372</th>\n",
              "      <td>2019-02-13 07:15:31+07:00</td>\n",
              "      <td>298</td>\n",
              "      <td>27.88</td>\n",
              "      <td>5.08</td>\n",
              "      <td>38.56</td>\n",
              "      <td>7.74</td>\n",
              "      <td>2019</td>\n",
              "      <td>2</td>\n",
              "      <td>13</td>\n",
              "      <td>7</td>\n",
              "      <td>Pagi</td>\n",
              "      <td>3421</td>\n",
              "    </tr>\n",
              "  </tbody>\n",
              "</table>\n",
              "</div>"
            ],
            "text/plain": [
              "             Waktu Pengukuran  Kode Siklus  ...  keterangan  Kode Kolam\n",
              "360 2019-02-09 09:19:16+07:00          298  ...        Pagi        3421\n",
              "363 2019-02-10 08:02:55+07:00          298  ...        Pagi        3421\n",
              "366 2019-02-11 07:47:27+07:00          298  ...        Pagi        3421\n",
              "369 2019-02-12 07:34:59+07:00          298  ...        Pagi        3421\n",
              "372 2019-02-13 07:15:31+07:00          298  ...        Pagi        3421\n",
              "\n",
              "[5 rows x 12 columns]"
            ]
          },
          "metadata": {
            "tags": []
          },
          "execution_count": 126
        }
      ]
    },
    {
      "cell_type": "code",
      "metadata": {
        "colab": {
          "base_uri": "https://localhost:8080/",
          "height": 552
        },
        "id": "a6x406eDx11R",
        "outputId": "d52a539e-53c9-4014-e352-8a789e38ccc3"
      },
      "source": [
        "data = [kolam3421pagi['Suhu Air'], kolam3421pagi['Salinitas'], kolam3421pagi['Oksigen Terlarut'], kolam3421pagi['pH']]\n",
        " \n",
        "fig = plt.figure(figsize =(10, 7))\n",
        " \n",
        "# Creating axes instance\n",
        "ax = fig.add_axes([0, 0, 1, 1])\n",
        "\n",
        "ax.set_xticklabels(['Suhu Air', 'Salinitas',\n",
        "                    'Oksigen Terlarut', 'pH'])\n",
        " \n",
        "# Creating plot\n",
        "bp = ax.boxplot(data)\n",
        " \n",
        "# show plot\n",
        "plt.show()"
      ],
      "execution_count": null,
      "outputs": [
        {
          "output_type": "display_data",
          "data": {
            "image/png": "[encoded data removed]",
            "text/plain": [
              "<Figure size 720x504 with 1 Axes>"
            ]
          },
          "metadata": {
            "tags": [],
            "needs_background": "light"
          }
        }
      ]
    },
    {
      "cell_type": "code",
      "metadata": {
        "colab": {
          "base_uri": "https://localhost:8080/"
        },
        "id": "x7goJV4Wx11R",
        "outputId": "9eee983f-d20c-4a88-d00a-e647d0d107a6"
      },
      "source": [
        "##Remove Outlier Column Salinitas\n",
        "# Q1, Q3, dan IQR\n",
        "Q1 = kolam3421pagi['Suhu Air'].quantile(0.25)\n",
        "Q3 = kolam3421pagi['Suhu Air'].quantile(0.75)\n",
        "IQR = Q3 - Q1\n",
        "\n",
        "# Check ukuran (baris dan kolom) sebelum data yang outliers dibuang\n",
        "print('Shape awal: ', kolam3421pagi.shape)\n",
        "\n",
        "# Removing outliers\n",
        "kolam3421pagiSA = kolam3421pagi[~((kolam3421pagi['Suhu Air'] < (Q1 - 1.5 * IQR)) | (kolam3421pagi['Suhu Air'] > (Q3 + 1.5 * IQR)))]\n",
        "\n",
        "# Check ukuran (baris dan kolom) setelah data yang outliers dibuang\n",
        "print('Shape akhir: ', kolam3421pagiSA.shape)"
      ],
      "execution_count": null,
      "outputs": [
        {
          "output_type": "stream",
          "text": [
            "Shape awal:  (29, 12)\n",
            "Shape akhir:  (28, 12)\n"
          ],
          "name": "stdout"
        }
      ]
    },
    {
      "cell_type": "code",
      "metadata": {
        "colab": {
          "base_uri": "https://localhost:8080/"
        },
        "id": "0vYSpfumx11S",
        "outputId": "b67e4337-c2e5-4dd6-e09f-96f3dda3b0d1"
      },
      "source": [
        "print('Mean Suhu Air', kolam3421pagiSA['Suhu Air'].mean())\n",
        "print('Mean Oksigen Terlarut: ', kolam3421pagi['Oksigen Terlarut'].mean())\n",
        "print('Mean Salinitas: ', kolam3421pagi['Salinitas'].mean())\n",
        "print('Mean pH: ', kolam3421pagi['pH'].mean())"
      ],
      "execution_count": null,
      "outputs": [
        {
          "output_type": "stream",
          "text": [
            "Mean Suhu Air 28.219642857142848\n",
            "Mean Oksigen Terlarut:  4.814137931034483\n",
            "Mean Salinitas:  37.55275862068965\n",
            "Mean pH:  7.57344827586207\n"
          ],
          "name": "stdout"
        }
      ]
    },
    {
      "cell_type": "markdown",
      "metadata": {
        "id": "v4sjkZgmx11S"
      },
      "source": [
        "### **kolam3421 Sore**"
      ]
    },
    {
      "cell_type": "code",
      "metadata": {
        "colab": {
          "base_uri": "https://localhost:8080/",
          "height": 203
        },
        "id": "OgeKQB7dx11S",
        "outputId": "f7b2f247-18af-4f39-b54c-88c0715e11a3"
      },
      "source": [
        "kolam3421sore= kolam3421[kolam3421['keterangan']=='Sore']\n",
        "kolam3421sore.head()"
      ],
      "execution_count": null,
      "outputs": [
        {
          "output_type": "execute_result",
          "data": {
            "text/html": [
              "<div>\n",
              "<style scoped>\n",
              "    .dataframe tbody tr th:only-of-type {\n",
              "        vertical-align: middle;\n",
              "    }\n",
              "\n",
              "    .dataframe tbody tr th {\n",
              "        vertical-align: top;\n",
              "    }\n",
              "\n",
              "    .dataframe thead th {\n",
              "        text-align: right;\n",
              "    }\n",
              "</style>\n",
              "<table border=\"1\" class=\"dataframe\">\n",
              "  <thead>\n",
              "    <tr style=\"text-align: right;\">\n",
              "      <th></th>\n",
              "      <th>Waktu Pengukuran</th>\n",
              "      <th>Kode Siklus</th>\n",
              "      <th>Suhu Air</th>\n",
              "      <th>Oksigen Terlarut</th>\n",
              "      <th>Salinitas</th>\n",
              "      <th>pH</th>\n",
              "      <th>tahun</th>\n",
              "      <th>bulan</th>\n",
              "      <th>day</th>\n",
              "      <th>jam</th>\n",
              "      <th>keterangan</th>\n",
              "      <th>Kode Kolam</th>\n",
              "    </tr>\n",
              "  </thead>\n",
              "  <tbody>\n",
              "    <tr>\n",
              "      <th>359</th>\n",
              "      <td>2019-02-08 16:35:21+07:00</td>\n",
              "      <td>298</td>\n",
              "      <td>29.50</td>\n",
              "      <td>5.21</td>\n",
              "      <td>38.91</td>\n",
              "      <td>7.74</td>\n",
              "      <td>2019</td>\n",
              "      <td>2</td>\n",
              "      <td>8</td>\n",
              "      <td>16</td>\n",
              "      <td>Sore</td>\n",
              "      <td>3421</td>\n",
              "    </tr>\n",
              "    <tr>\n",
              "      <th>367</th>\n",
              "      <td>2019-02-11 16:12:50+07:00</td>\n",
              "      <td>298</td>\n",
              "      <td>28.94</td>\n",
              "      <td>5.30</td>\n",
              "      <td>38.38</td>\n",
              "      <td>7.75</td>\n",
              "      <td>2019</td>\n",
              "      <td>2</td>\n",
              "      <td>11</td>\n",
              "      <td>16</td>\n",
              "      <td>Sore</td>\n",
              "      <td>3421</td>\n",
              "    </tr>\n",
              "    <tr>\n",
              "      <th>373</th>\n",
              "      <td>2019-02-13 16:07:44+07:00</td>\n",
              "      <td>298</td>\n",
              "      <td>29.44</td>\n",
              "      <td>5.59</td>\n",
              "      <td>38.75</td>\n",
              "      <td>7.96</td>\n",
              "      <td>2019</td>\n",
              "      <td>2</td>\n",
              "      <td>13</td>\n",
              "      <td>16</td>\n",
              "      <td>Sore</td>\n",
              "      <td>3421</td>\n",
              "    </tr>\n",
              "    <tr>\n",
              "      <th>376</th>\n",
              "      <td>2019-02-14 16:11:07+07:00</td>\n",
              "      <td>298</td>\n",
              "      <td>29.31</td>\n",
              "      <td>6.31</td>\n",
              "      <td>38.99</td>\n",
              "      <td>8.08</td>\n",
              "      <td>2019</td>\n",
              "      <td>2</td>\n",
              "      <td>14</td>\n",
              "      <td>16</td>\n",
              "      <td>Sore</td>\n",
              "      <td>3421</td>\n",
              "    </tr>\n",
              "    <tr>\n",
              "      <th>379</th>\n",
              "      <td>2019-02-15 16:55:35+07:00</td>\n",
              "      <td>298</td>\n",
              "      <td>28.94</td>\n",
              "      <td>6.42</td>\n",
              "      <td>37.16</td>\n",
              "      <td>8.25</td>\n",
              "      <td>2019</td>\n",
              "      <td>2</td>\n",
              "      <td>15</td>\n",
              "      <td>16</td>\n",
              "      <td>Sore</td>\n",
              "      <td>3421</td>\n",
              "    </tr>\n",
              "  </tbody>\n",
              "</table>\n",
              "</div>"
            ],
            "text/plain": [
              "             Waktu Pengukuran  Kode Siklus  ...  keterangan  Kode Kolam\n",
              "359 2019-02-08 16:35:21+07:00          298  ...        Sore        3421\n",
              "367 2019-02-11 16:12:50+07:00          298  ...        Sore        3421\n",
              "373 2019-02-13 16:07:44+07:00          298  ...        Sore        3421\n",
              "376 2019-02-14 16:11:07+07:00          298  ...        Sore        3421\n",
              "379 2019-02-15 16:55:35+07:00          298  ...        Sore        3421\n",
              "\n",
              "[5 rows x 12 columns]"
            ]
          },
          "metadata": {
            "tags": []
          },
          "execution_count": 131
        }
      ]
    },
    {
      "cell_type": "code",
      "metadata": {
        "colab": {
          "base_uri": "https://localhost:8080/",
          "height": 295
        },
        "id": "c0PhR1kMx11T",
        "outputId": "fa981386-72cf-41dd-e76b-b08bc14dc559"
      },
      "source": [
        "kolam3421sore[['Suhu Air','Oksigen Terlarut','Salinitas','pH']].describe()"
      ],
      "execution_count": null,
      "outputs": [
        {
          "output_type": "execute_result",
          "data": {
            "text/html": [
              "<div>\n",
              "<style scoped>\n",
              "    .dataframe tbody tr th:only-of-type {\n",
              "        vertical-align: middle;\n",
              "    }\n",
              "\n",
              "    .dataframe tbody tr th {\n",
              "        vertical-align: top;\n",
              "    }\n",
              "\n",
              "    .dataframe thead th {\n",
              "        text-align: right;\n",
              "    }\n",
              "</style>\n",
              "<table border=\"1\" class=\"dataframe\">\n",
              "  <thead>\n",
              "    <tr style=\"text-align: right;\">\n",
              "      <th></th>\n",
              "      <th>Suhu Air</th>\n",
              "      <th>Oksigen Terlarut</th>\n",
              "      <th>Salinitas</th>\n",
              "      <th>pH</th>\n",
              "    </tr>\n",
              "  </thead>\n",
              "  <tbody>\n",
              "    <tr>\n",
              "      <th>count</th>\n",
              "      <td>25.000000</td>\n",
              "      <td>25.000000</td>\n",
              "      <td>25.000000</td>\n",
              "      <td>25.000000</td>\n",
              "    </tr>\n",
              "    <tr>\n",
              "      <th>mean</th>\n",
              "      <td>29.735600</td>\n",
              "      <td>5.704800</td>\n",
              "      <td>37.514000</td>\n",
              "      <td>8.230400</td>\n",
              "    </tr>\n",
              "    <tr>\n",
              "      <th>std</th>\n",
              "      <td>0.906739</td>\n",
              "      <td>0.584039</td>\n",
              "      <td>0.796628</td>\n",
              "      <td>0.358033</td>\n",
              "    </tr>\n",
              "    <tr>\n",
              "      <th>min</th>\n",
              "      <td>27.690000</td>\n",
              "      <td>4.390000</td>\n",
              "      <td>35.930000</td>\n",
              "      <td>7.570000</td>\n",
              "    </tr>\n",
              "    <tr>\n",
              "      <th>25%</th>\n",
              "      <td>29.130000</td>\n",
              "      <td>5.300000</td>\n",
              "      <td>37.220000</td>\n",
              "      <td>7.960000</td>\n",
              "    </tr>\n",
              "    <tr>\n",
              "      <th>50%</th>\n",
              "      <td>29.810000</td>\n",
              "      <td>5.830000</td>\n",
              "      <td>37.590000</td>\n",
              "      <td>8.340000</td>\n",
              "    </tr>\n",
              "    <tr>\n",
              "      <th>75%</th>\n",
              "      <td>30.310000</td>\n",
              "      <td>6.110000</td>\n",
              "      <td>37.790000</td>\n",
              "      <td>8.530000</td>\n",
              "    </tr>\n",
              "    <tr>\n",
              "      <th>max</th>\n",
              "      <td>31.440000</td>\n",
              "      <td>6.590000</td>\n",
              "      <td>38.990000</td>\n",
              "      <td>8.700000</td>\n",
              "    </tr>\n",
              "  </tbody>\n",
              "</table>\n",
              "</div>"
            ],
            "text/plain": [
              "        Suhu Air  Oksigen Terlarut  Salinitas         pH\n",
              "count  25.000000         25.000000  25.000000  25.000000\n",
              "mean   29.735600          5.704800  37.514000   8.230400\n",
              "std     0.906739          0.584039   0.796628   0.358033\n",
              "min    27.690000          4.390000  35.930000   7.570000\n",
              "25%    29.130000          5.300000  37.220000   7.960000\n",
              "50%    29.810000          5.830000  37.590000   8.340000\n",
              "75%    30.310000          6.110000  37.790000   8.530000\n",
              "max    31.440000          6.590000  38.990000   8.700000"
            ]
          },
          "metadata": {
            "tags": []
          },
          "execution_count": 132
        }
      ]
    },
    {
      "cell_type": "code",
      "metadata": {
        "colab": {
          "base_uri": "https://localhost:8080/",
          "height": 552
        },
        "id": "Ow3vY0xkx11T",
        "outputId": "f9b87296-b35d-4e86-dd67-16f8eb67bab1"
      },
      "source": [
        "data = [kolam3421sore['Suhu Air'], kolam3421sore['Salinitas'], kolam3421sore['Oksigen Terlarut'], kolam3421sore['pH']]\n",
        " \n",
        "fig = plt.figure(figsize =(10, 7))\n",
        " \n",
        "# Creating axes instance\n",
        "ax = fig.add_axes([0, 0, 1, 1])\n",
        "\n",
        "ax.set_xticklabels(['Suhu Air', 'Salinitas',\n",
        "                    'Oksigen Terlarut', 'pH'])\n",
        " \n",
        "# Creating plot\n",
        "bp = ax.boxplot(data)\n",
        " \n",
        "# show plot\n",
        "plt.show()"
      ],
      "execution_count": null,
      "outputs": [
        {
          "output_type": "display_data",
          "data": {
            "image/png": "[encoded data removed]",
            "text/plain": [
              "<Figure size 720x504 with 1 Axes>"
            ]
          },
          "metadata": {
            "tags": [],
            "needs_background": "light"
          }
        }
      ]
    },
    {
      "cell_type": "code",
      "metadata": {
        "colab": {
          "base_uri": "https://localhost:8080/"
        },
        "id": "JTuhvNfOx11U",
        "outputId": "65fa1ab2-f7f2-4014-c2b1-14c8e52c8a7a"
      },
      "source": [
        "##Remove Outlier Column Salinitas\n",
        "# Q1, Q3, dan IQR\n",
        "Q1 = kolam3421sore['Salinitas'].quantile(0.25)\n",
        "Q3 = kolam3421sore['Salinitas'].quantile(0.75)\n",
        "IQR = Q3 - Q1\n",
        "\n",
        "# Check ukuran (baris dan kolom) sebelum data yang outliers dibuang\n",
        "print('Shape awal: ', kolam3421sore.shape)\n",
        "\n",
        "# Removing outliers\n",
        "kolam3421soreS = kolam3421sore[~((kolam3421sore['Salinitas'] < (Q1 - 1.5 * IQR)) | (kolam3421sore['Salinitas'] > (Q3 + 1.5 * IQR)))]\n",
        "\n",
        "# Check ukuran (baris dan kolom) setelah data yang outliers dibuang\n",
        "print('Shape akhir: ', kolam3421soreS.shape)"
      ],
      "execution_count": null,
      "outputs": [
        {
          "output_type": "stream",
          "text": [
            "Shape awal:  (25, 12)\n",
            "Shape akhir:  (19, 12)\n"
          ],
          "name": "stdout"
        }
      ]
    },
    {
      "cell_type": "code",
      "metadata": {
        "colab": {
          "base_uri": "https://localhost:8080/"
        },
        "id": "EO3-TTOVx11V",
        "outputId": "025728d6-1f2b-45d7-8fd3-37dcfcd13d19"
      },
      "source": [
        "print('Mean Suhu Air: ', kolam3421sore['Suhu Air'].mean())\n",
        "print('Mean Oksigen Terlarut: ', kolam3421sore['Oksigen Terlarut'].mean())\n",
        "print('Mean Salinitas: ', kolam3421soreS['Salinitas'].mean())\n",
        "print('Mean pH: ', kolam3421sore['pH'].mean())"
      ],
      "execution_count": null,
      "outputs": [
        {
          "output_type": "stream",
          "text": [
            "Mean Suhu Air:  29.735599999999994\n",
            "Mean Oksigen Terlarut:  5.7048000000000005\n",
            "Mean Salinitas:  37.52947368421053\n",
            "Mean pH:  8.230400000000001\n"
          ],
          "name": "stdout"
        }
      ]
    },
    {
      "cell_type": "code",
      "metadata": {
        "id": "LNYTFn5hDhe5"
      },
      "source": [
        ""
      ],
      "execution_count": null,
      "outputs": []
    },
    {
      "cell_type": "code",
      "metadata": {
        "id": "7YTdlbxj0ECM"
      },
      "source": [
        ""
      ],
      "execution_count": null,
      "outputs": []
    },
    {
      "cell_type": "markdown",
      "metadata": {
        "id": "VlZDQO8E3o3C"
      },
      "source": [
        "## **Kolam 4**"
      ]
    },
    {
      "cell_type": "code",
      "metadata": {
        "colab": {
          "base_uri": "https://localhost:8080/",
          "height": 417
        },
        "id": "Wh1i3lHo3o3C",
        "outputId": "c41092f3-cf53-4373-b7cf-80d9a64b2182"
      },
      "source": [
        "kolam4= df3[df3['Kode Kolam']==4]\n",
        "kolam4"
      ],
      "execution_count": null,
      "outputs": [
        {
          "output_type": "execute_result",
          "data": {
            "text/html": [
              "<div>\n",
              "<style scoped>\n",
              "    .dataframe tbody tr th:only-of-type {\n",
              "        vertical-align: middle;\n",
              "    }\n",
              "\n",
              "    .dataframe tbody tr th {\n",
              "        vertical-align: top;\n",
              "    }\n",
              "\n",
              "    .dataframe thead th {\n",
              "        text-align: right;\n",
              "    }\n",
              "</style>\n",
              "<table border=\"1\" class=\"dataframe\">\n",
              "  <thead>\n",
              "    <tr style=\"text-align: right;\">\n",
              "      <th></th>\n",
              "      <th>Waktu Pengukuran</th>\n",
              "      <th>Kode Siklus</th>\n",
              "      <th>Suhu Air</th>\n",
              "      <th>Oksigen Terlarut</th>\n",
              "      <th>Salinitas</th>\n",
              "      <th>pH</th>\n",
              "      <th>tahun</th>\n",
              "      <th>bulan</th>\n",
              "      <th>day</th>\n",
              "      <th>jam</th>\n",
              "      <th>keterangan</th>\n",
              "      <th>Kode Kolam</th>\n",
              "    </tr>\n",
              "  </thead>\n",
              "  <tbody>\n",
              "    <tr>\n",
              "      <th>443</th>\n",
              "      <td>2019-05-19 07:00:00+07:00</td>\n",
              "      <td>812</td>\n",
              "      <td>30.00</td>\n",
              "      <td>6.30</td>\n",
              "      <td>25.00</td>\n",
              "      <td>8.20</td>\n",
              "      <td>2019</td>\n",
              "      <td>5</td>\n",
              "      <td>19</td>\n",
              "      <td>7</td>\n",
              "      <td>Pagi</td>\n",
              "      <td>4</td>\n",
              "    </tr>\n",
              "    <tr>\n",
              "      <th>444</th>\n",
              "      <td>2019-05-21 07:00:00+07:00</td>\n",
              "      <td>812</td>\n",
              "      <td>27.00</td>\n",
              "      <td>4.80</td>\n",
              "      <td>32.00</td>\n",
              "      <td>7.70</td>\n",
              "      <td>2019</td>\n",
              "      <td>5</td>\n",
              "      <td>21</td>\n",
              "      <td>7</td>\n",
              "      <td>Pagi</td>\n",
              "      <td>4</td>\n",
              "    </tr>\n",
              "    <tr>\n",
              "      <th>445</th>\n",
              "      <td>2019-05-22 07:00:00+07:00</td>\n",
              "      <td>812</td>\n",
              "      <td>27.00</td>\n",
              "      <td>5.00</td>\n",
              "      <td>32.00</td>\n",
              "      <td>7.80</td>\n",
              "      <td>2019</td>\n",
              "      <td>5</td>\n",
              "      <td>22</td>\n",
              "      <td>7</td>\n",
              "      <td>Pagi</td>\n",
              "      <td>4</td>\n",
              "    </tr>\n",
              "    <tr>\n",
              "      <th>446</th>\n",
              "      <td>2019-05-23 07:00:00+07:00</td>\n",
              "      <td>812</td>\n",
              "      <td>27.00</td>\n",
              "      <td>5.70</td>\n",
              "      <td>33.00</td>\n",
              "      <td>7.50</td>\n",
              "      <td>2019</td>\n",
              "      <td>5</td>\n",
              "      <td>23</td>\n",
              "      <td>7</td>\n",
              "      <td>Pagi</td>\n",
              "      <td>4</td>\n",
              "    </tr>\n",
              "    <tr>\n",
              "      <th>447</th>\n",
              "      <td>2019-05-24 07:00:00+07:00</td>\n",
              "      <td>812</td>\n",
              "      <td>27.00</td>\n",
              "      <td>6.20</td>\n",
              "      <td>33.00</td>\n",
              "      <td>7.50</td>\n",
              "      <td>2019</td>\n",
              "      <td>5</td>\n",
              "      <td>24</td>\n",
              "      <td>7</td>\n",
              "      <td>Pagi</td>\n",
              "      <td>4</td>\n",
              "    </tr>\n",
              "    <tr>\n",
              "      <th>...</th>\n",
              "      <td>...</td>\n",
              "      <td>...</td>\n",
              "      <td>...</td>\n",
              "      <td>...</td>\n",
              "      <td>...</td>\n",
              "      <td>...</td>\n",
              "      <td>...</td>\n",
              "      <td>...</td>\n",
              "      <td>...</td>\n",
              "      <td>...</td>\n",
              "      <td>...</td>\n",
              "      <td>...</td>\n",
              "    </tr>\n",
              "    <tr>\n",
              "      <th>510</th>\n",
              "      <td>2019-07-29 07:32:21+07:00</td>\n",
              "      <td>812</td>\n",
              "      <td>24.85</td>\n",
              "      <td>6.58</td>\n",
              "      <td>28.09</td>\n",
              "      <td>7.00</td>\n",
              "      <td>2019</td>\n",
              "      <td>7</td>\n",
              "      <td>29</td>\n",
              "      <td>7</td>\n",
              "      <td>Pagi</td>\n",
              "      <td>4</td>\n",
              "    </tr>\n",
              "    <tr>\n",
              "      <th>511</th>\n",
              "      <td>2019-07-29 16:16:36+07:00</td>\n",
              "      <td>812</td>\n",
              "      <td>27.72</td>\n",
              "      <td>7.10</td>\n",
              "      <td>28.31</td>\n",
              "      <td>8.16</td>\n",
              "      <td>2019</td>\n",
              "      <td>7</td>\n",
              "      <td>29</td>\n",
              "      <td>16</td>\n",
              "      <td>Sore</td>\n",
              "      <td>4</td>\n",
              "    </tr>\n",
              "    <tr>\n",
              "      <th>512</th>\n",
              "      <td>2019-07-29 16:16:38+07:00</td>\n",
              "      <td>812</td>\n",
              "      <td>27.59</td>\n",
              "      <td>7.10</td>\n",
              "      <td>28.31</td>\n",
              "      <td>8.16</td>\n",
              "      <td>2019</td>\n",
              "      <td>7</td>\n",
              "      <td>29</td>\n",
              "      <td>16</td>\n",
              "      <td>Sore</td>\n",
              "      <td>4</td>\n",
              "    </tr>\n",
              "    <tr>\n",
              "      <th>513</th>\n",
              "      <td>2019-07-30 16:09:59+07:00</td>\n",
              "      <td>812</td>\n",
              "      <td>28.44</td>\n",
              "      <td>7.65</td>\n",
              "      <td>28.00</td>\n",
              "      <td>7.86</td>\n",
              "      <td>2019</td>\n",
              "      <td>7</td>\n",
              "      <td>30</td>\n",
              "      <td>16</td>\n",
              "      <td>Sore</td>\n",
              "      <td>4</td>\n",
              "    </tr>\n",
              "    <tr>\n",
              "      <th>514</th>\n",
              "      <td>2019-07-31 16:17:39+07:00</td>\n",
              "      <td>812</td>\n",
              "      <td>28.65</td>\n",
              "      <td>6.94</td>\n",
              "      <td>28.00</td>\n",
              "      <td>8.37</td>\n",
              "      <td>2019</td>\n",
              "      <td>7</td>\n",
              "      <td>31</td>\n",
              "      <td>16</td>\n",
              "      <td>Sore</td>\n",
              "      <td>4</td>\n",
              "    </tr>\n",
              "  </tbody>\n",
              "</table>\n",
              "<p>72 rows × 12 columns</p>\n",
              "</div>"
            ],
            "text/plain": [
              "             Waktu Pengukuran  Kode Siklus  ...  keterangan  Kode Kolam\n",
              "443 2019-05-19 07:00:00+07:00          812  ...        Pagi           4\n",
              "444 2019-05-21 07:00:00+07:00          812  ...        Pagi           4\n",
              "445 2019-05-22 07:00:00+07:00          812  ...        Pagi           4\n",
              "446 2019-05-23 07:00:00+07:00          812  ...        Pagi           4\n",
              "447 2019-05-24 07:00:00+07:00          812  ...        Pagi           4\n",
              "..                        ...          ...  ...         ...         ...\n",
              "510 2019-07-29 07:32:21+07:00          812  ...        Pagi           4\n",
              "511 2019-07-29 16:16:36+07:00          812  ...        Sore           4\n",
              "512 2019-07-29 16:16:38+07:00          812  ...        Sore           4\n",
              "513 2019-07-30 16:09:59+07:00          812  ...        Sore           4\n",
              "514 2019-07-31 16:17:39+07:00          812  ...        Sore           4\n",
              "\n",
              "[72 rows x 12 columns]"
            ]
          },
          "metadata": {
            "tags": []
          },
          "execution_count": 136
        }
      ]
    },
    {
      "cell_type": "code",
      "metadata": {
        "colab": {
          "base_uri": "https://localhost:8080/",
          "height": 552
        },
        "id": "2f-0Zzc03o3D",
        "outputId": "95c672a3-b4c6-4262-9372-129a49a852eb"
      },
      "source": [
        "import matplotlib.pyplot as plt\n",
        "\n",
        "data = [kolam4['Suhu Air'], kolam4['Salinitas'], kolam4['Oksigen Terlarut'], kolam4['pH']]\n",
        " \n",
        "fig = plt.figure(figsize =(10, 7))\n",
        " \n",
        "# Creating axes instance\n",
        "ax = fig.add_axes([0, 0, 1, 1])\n",
        "\n",
        "ax.set_xticklabels(['Suhu Air', 'Salinitas',\n",
        "                    'Oksigen Terlarut', 'pH'])\n",
        " \n",
        "# Creating plot\n",
        "bp = ax.boxplot(data)\n",
        " \n",
        "# show plot\n",
        "plt.show()"
      ],
      "execution_count": null,
      "outputs": [
        {
          "output_type": "display_data",
          "data": {
            "image/png": "[encoded data removed]",
            "text/plain": [
              "<Figure size 720x504 with 1 Axes>"
            ]
          },
          "metadata": {
            "tags": [],
            "needs_background": "light"
          }
        }
      ]
    },
    {
      "cell_type": "code",
      "metadata": {
        "colab": {
          "base_uri": "https://localhost:8080/"
        },
        "id": "99Fqo2ju3o3D",
        "outputId": "f3557402-62eb-4c04-d0ef-073dc3b74c20"
      },
      "source": [
        "##Remove Outlier\n",
        "# Q1, Q3, dan IQR\n",
        "Q1 = kolam4['Suhu Air'].quantile(0.25)\n",
        "Q3 = kolam4['Suhu Air'].quantile(0.75)\n",
        "IQR = Q3 - Q1\n",
        "\n",
        "# Check ukuran (baris dan kolom) sebelum data yang outliers dibuang\n",
        "print('Shape awal: ', kolam4.shape)\n",
        "\n",
        "# Removing outliers\n",
        "kolam4SA = kolam4[~((kolam4['Suhu Air'] < (Q1 - 1.5 * IQR)) | (kolam4['Suhu Air'] > (Q3 + 1.5 * IQR)))]\n",
        "\n",
        "# Check ukuran (baris dan kolom) setelah data yang outliers dibuang\n",
        "print('Shape akhir: ', kolam4SA.shape)"
      ],
      "execution_count": null,
      "outputs": [
        {
          "output_type": "stream",
          "text": [
            "Shape awal:  (72, 12)\n",
            "Shape akhir:  (71, 12)\n"
          ],
          "name": "stdout"
        }
      ]
    },
    {
      "cell_type": "code",
      "metadata": {
        "colab": {
          "base_uri": "https://localhost:8080/"
        },
        "id": "XeCaAfG63o3D",
        "outputId": "1f4fee85-bbbb-4559-d10b-9fd2fcc89d03"
      },
      "source": [
        "##Remove Outlier\n",
        "# Q1, Q3, dan IQR\n",
        "Q1 = kolam4['Salinitas'].quantile(0.25)\n",
        "Q3 = kolam4['Salinitas'].quantile(0.75)\n",
        "IQR = Q3 - Q1\n",
        "\n",
        "# Check ukuran (baris dan kolom) sebelum data yang outliers dibuang\n",
        "print('Shape awal: ', kolam4.shape)\n",
        "\n",
        "# Removing outliers\n",
        "kolam4S = kolam4[~((kolam4['Salinitas'] < (Q1 - 1.5 * IQR)) | (kolam4['Salinitas'] > (Q3 + 1.5 * IQR)))]\n",
        "\n",
        "# Check ukuran (baris dan kolom) setelah data yang outliers dibuang\n",
        "print('Shape akhir: ', kolam4S.shape)"
      ],
      "execution_count": null,
      "outputs": [
        {
          "output_type": "stream",
          "text": [
            "Shape awal:  (72, 12)\n",
            "Shape akhir:  (61, 12)\n"
          ],
          "name": "stdout"
        }
      ]
    },
    {
      "cell_type": "code",
      "metadata": {
        "colab": {
          "base_uri": "https://localhost:8080/"
        },
        "id": "psPdQ-bA3o3D",
        "outputId": "382e1f2f-b13e-4d19-abbe-063ce929931e"
      },
      "source": [
        "##Remove Outlier\n",
        "# Q1, Q3, dan IQR\n",
        "Q1 = kolam4['Oksigen Terlarut'].quantile(0.25)\n",
        "Q3 = kolam4['Oksigen Terlarut'].quantile(0.75)\n",
        "IQR = Q3 - Q1\n",
        "\n",
        "# Check ukuran (baris dan kolom) sebelum data yang outliers dibuang\n",
        "print('Shape awal: ', kolam4.shape)\n",
        "\n",
        "# Removing outliers\n",
        "kolam4OT = kolam4[~((kolam4['Oksigen Terlarut'] < (Q1 - 1.5 * IQR)) | (kolam4['Oksigen Terlarut'] > (Q3 + 1.5 * IQR)))]\n",
        "\n",
        "# Check ukuran (baris dan kolom) setelah data yang outliers dibuang\n",
        "print('Shape akhir: ', kolam4OT.shape)"
      ],
      "execution_count": null,
      "outputs": [
        {
          "output_type": "stream",
          "text": [
            "Shape awal:  (72, 12)\n",
            "Shape akhir:  (70, 12)\n"
          ],
          "name": "stdout"
        }
      ]
    },
    {
      "cell_type": "code",
      "metadata": {
        "colab": {
          "base_uri": "https://localhost:8080/"
        },
        "id": "9CFNr9KB3o3D",
        "outputId": "79b751f2-bff6-42da-b2cb-41e8b4a49f8f"
      },
      "source": [
        "##Remove Outlier\n",
        "# Q1, Q3, dan IQR\n",
        "Q1 = kolam4['pH'].quantile(0.25)\n",
        "Q3 = kolam4['pH'].quantile(0.75)\n",
        "IQR = Q3 - Q1\n",
        "\n",
        "# Check ukuran (baris dan kolom) sebelum data yang outliers dibuang\n",
        "print('Shape awal: ', kolam4.shape)\n",
        "\n",
        "# Removing outliers\n",
        "kolam4pH = kolam4[~((kolam4['pH'] < (Q1 - 1.5 * IQR)) | (kolam4['pH'] > (Q3 + 1.5 * IQR)))]\n",
        "\n",
        "# Check ukuran (baris dan kolom) setelah data yang outliers dibuang\n",
        "print('Shape akhir: ', kolam4pH.shape)"
      ],
      "execution_count": null,
      "outputs": [
        {
          "output_type": "stream",
          "text": [
            "Shape awal:  (72, 12)\n",
            "Shape akhir:  (70, 12)\n"
          ],
          "name": "stdout"
        }
      ]
    },
    {
      "cell_type": "code",
      "metadata": {
        "colab": {
          "base_uri": "https://localhost:8080/"
        },
        "id": "KCoeTuNS3o3E",
        "outputId": "b57bb548-f413-4f7e-9f95-f986731f9fc7"
      },
      "source": [
        "print('Mean Suhu Air : ', kolam4SA['Suhu Air'].mean())\n",
        "print('Mean Oksigen Terlarut: ', kolam4OT['Oksigen Terlarut'].mean())\n",
        "print('Mean Salinitas: ', kolam4S['Salinitas'].mean())\n",
        "print('Mean pH: ', kolam4pH['pH'].mean())"
      ],
      "execution_count": null,
      "outputs": [
        {
          "output_type": "stream",
          "text": [
            "Mean Suhu Air :  26.59845070422536\n",
            "Mean Oksigen Terlarut:  5.7892857142857155\n",
            "Mean Salinitas:  26.6795081967213\n",
            "Mean pH:  7.707285714285714\n"
          ],
          "name": "stdout"
        }
      ]
    },
    {
      "cell_type": "markdown",
      "metadata": {
        "id": "9hIuBzVz3o3E"
      },
      "source": [
        "### **kolam4 Pagi**\n"
      ]
    },
    {
      "cell_type": "code",
      "metadata": {
        "colab": {
          "base_uri": "https://localhost:8080/",
          "height": 203
        },
        "id": "ner1IxHm3o3E",
        "outputId": "1ea91562-023c-4245-d891-c5cb3e3d525e"
      },
      "source": [
        "kolam4pagi= kolam4[kolam4['keterangan']=='Pagi']\n",
        "kolam4pagi.head()"
      ],
      "execution_count": null,
      "outputs": [
        {
          "output_type": "execute_result",
          "data": {
            "text/html": [
              "<div>\n",
              "<style scoped>\n",
              "    .dataframe tbody tr th:only-of-type {\n",
              "        vertical-align: middle;\n",
              "    }\n",
              "\n",
              "    .dataframe tbody tr th {\n",
              "        vertical-align: top;\n",
              "    }\n",
              "\n",
              "    .dataframe thead th {\n",
              "        text-align: right;\n",
              "    }\n",
              "</style>\n",
              "<table border=\"1\" class=\"dataframe\">\n",
              "  <thead>\n",
              "    <tr style=\"text-align: right;\">\n",
              "      <th></th>\n",
              "      <th>Waktu Pengukuran</th>\n",
              "      <th>Kode Siklus</th>\n",
              "      <th>Suhu Air</th>\n",
              "      <th>Oksigen Terlarut</th>\n",
              "      <th>Salinitas</th>\n",
              "      <th>pH</th>\n",
              "      <th>tahun</th>\n",
              "      <th>bulan</th>\n",
              "      <th>day</th>\n",
              "      <th>jam</th>\n",
              "      <th>keterangan</th>\n",
              "      <th>Kode Kolam</th>\n",
              "    </tr>\n",
              "  </thead>\n",
              "  <tbody>\n",
              "    <tr>\n",
              "      <th>443</th>\n",
              "      <td>2019-05-19 07:00:00+07:00</td>\n",
              "      <td>812</td>\n",
              "      <td>30.0</td>\n",
              "      <td>6.3</td>\n",
              "      <td>25.0</td>\n",
              "      <td>8.2</td>\n",
              "      <td>2019</td>\n",
              "      <td>5</td>\n",
              "      <td>19</td>\n",
              "      <td>7</td>\n",
              "      <td>Pagi</td>\n",
              "      <td>4</td>\n",
              "    </tr>\n",
              "    <tr>\n",
              "      <th>444</th>\n",
              "      <td>2019-05-21 07:00:00+07:00</td>\n",
              "      <td>812</td>\n",
              "      <td>27.0</td>\n",
              "      <td>4.8</td>\n",
              "      <td>32.0</td>\n",
              "      <td>7.7</td>\n",
              "      <td>2019</td>\n",
              "      <td>5</td>\n",
              "      <td>21</td>\n",
              "      <td>7</td>\n",
              "      <td>Pagi</td>\n",
              "      <td>4</td>\n",
              "    </tr>\n",
              "    <tr>\n",
              "      <th>445</th>\n",
              "      <td>2019-05-22 07:00:00+07:00</td>\n",
              "      <td>812</td>\n",
              "      <td>27.0</td>\n",
              "      <td>5.0</td>\n",
              "      <td>32.0</td>\n",
              "      <td>7.8</td>\n",
              "      <td>2019</td>\n",
              "      <td>5</td>\n",
              "      <td>22</td>\n",
              "      <td>7</td>\n",
              "      <td>Pagi</td>\n",
              "      <td>4</td>\n",
              "    </tr>\n",
              "    <tr>\n",
              "      <th>446</th>\n",
              "      <td>2019-05-23 07:00:00+07:00</td>\n",
              "      <td>812</td>\n",
              "      <td>27.0</td>\n",
              "      <td>5.7</td>\n",
              "      <td>33.0</td>\n",
              "      <td>7.5</td>\n",
              "      <td>2019</td>\n",
              "      <td>5</td>\n",
              "      <td>23</td>\n",
              "      <td>7</td>\n",
              "      <td>Pagi</td>\n",
              "      <td>4</td>\n",
              "    </tr>\n",
              "    <tr>\n",
              "      <th>447</th>\n",
              "      <td>2019-05-24 07:00:00+07:00</td>\n",
              "      <td>812</td>\n",
              "      <td>27.0</td>\n",
              "      <td>6.2</td>\n",
              "      <td>33.0</td>\n",
              "      <td>7.5</td>\n",
              "      <td>2019</td>\n",
              "      <td>5</td>\n",
              "      <td>24</td>\n",
              "      <td>7</td>\n",
              "      <td>Pagi</td>\n",
              "      <td>4</td>\n",
              "    </tr>\n",
              "  </tbody>\n",
              "</table>\n",
              "</div>"
            ],
            "text/plain": [
              "             Waktu Pengukuran  Kode Siklus  ...  keterangan  Kode Kolam\n",
              "443 2019-05-19 07:00:00+07:00          812  ...        Pagi           4\n",
              "444 2019-05-21 07:00:00+07:00          812  ...        Pagi           4\n",
              "445 2019-05-22 07:00:00+07:00          812  ...        Pagi           4\n",
              "446 2019-05-23 07:00:00+07:00          812  ...        Pagi           4\n",
              "447 2019-05-24 07:00:00+07:00          812  ...        Pagi           4\n",
              "\n",
              "[5 rows x 12 columns]"
            ]
          },
          "metadata": {
            "tags": []
          },
          "execution_count": 143
        }
      ]
    },
    {
      "cell_type": "code",
      "metadata": {
        "colab": {
          "base_uri": "https://localhost:8080/",
          "height": 552
        },
        "id": "dU7OCUpk3o3E",
        "outputId": "4015ae1f-fe79-481a-de20-b94974c19c04"
      },
      "source": [
        "data = [kolam4pagi['Suhu Air'], kolam4pagi['Salinitas'], kolam4pagi['Oksigen Terlarut'], kolam4pagi['pH']]\n",
        " \n",
        "fig = plt.figure(figsize =(10, 7))\n",
        " \n",
        "# Creating axes instance\n",
        "ax = fig.add_axes([0, 0, 1, 1])\n",
        "\n",
        "ax.set_xticklabels(['Suhu Air', 'Salinitas',\n",
        "                    'Oksigen Terlarut', 'pH'])\n",
        " \n",
        "# Creating plot\n",
        "bp = ax.boxplot(data)\n",
        " \n",
        "# show plot\n",
        "plt.show()"
      ],
      "execution_count": null,
      "outputs": [
        {
          "output_type": "display_data",
          "data": {
            "image/png": "[encoded data removed]",
            "text/plain": [
              "<Figure size 720x504 with 1 Axes>"
            ]
          },
          "metadata": {
            "tags": [],
            "needs_background": "light"
          }
        }
      ]
    },
    {
      "cell_type": "code",
      "metadata": {
        "colab": {
          "base_uri": "https://localhost:8080/"
        },
        "id": "6HgX-8h5_-VI",
        "outputId": "8f51b6db-d636-4dd6-ac17-9cc7dfb35a4c"
      },
      "source": [
        "##Remove Outlier Column Salinitas\n",
        "# Q1, Q3, dan IQR\n",
        "Q1 = kolam4pagi['Suhu Air'].quantile(0.25)\n",
        "Q3 = kolam4pagi['Suhu Air'].quantile(0.75)\n",
        "IQR = Q3 - Q1\n",
        "\n",
        "# Check ukuran (baris dan kolom) sebelum data yang outliers dibuang\n",
        "print('Shape awal: ', kolam4pagi.shape)\n",
        "\n",
        "# Removing outliers\n",
        "kolam4pagiSA = kolam4pagi[~((kolam4pagi['Suhu Air'] < (Q1 - 1.5 * IQR)) | (kolam4pagi['Suhu Air'] > (Q3 + 1.5 * IQR)))]\n",
        "\n",
        "# Check ukuran (baris dan kolom) setelah data yang outliers dibuang\n",
        "print('Shape akhir: ', kolam4pagiSA.shape)"
      ],
      "execution_count": null,
      "outputs": [
        {
          "output_type": "stream",
          "text": [
            "Shape awal:  (41, 12)\n",
            "Shape akhir:  (40, 12)\n"
          ],
          "name": "stdout"
        }
      ]
    },
    {
      "cell_type": "code",
      "metadata": {
        "colab": {
          "base_uri": "https://localhost:8080/"
        },
        "id": "-mHv6Tgv3o3E",
        "outputId": "d8a9cef3-2d24-410d-a629-c76e050c363a"
      },
      "source": [
        "##Remove Outlier Column Salinitas\n",
        "# Q1, Q3, dan IQR\n",
        "Q1 = kolam4pagi['Salinitas'].quantile(0.25)\n",
        "Q3 = kolam4pagi['Salinitas'].quantile(0.75)\n",
        "IQR = Q3 - Q1\n",
        "\n",
        "# Check ukuran (baris dan kolom) sebelum data yang outliers dibuang\n",
        "print('Shape awal: ', kolam4pagi.shape)\n",
        "\n",
        "# Removing outliers\n",
        "kolam4pagiS = kolam4pagi[~((kolam4pagi['Salinitas'] < (Q1 - 1.5 * IQR)) | (kolam4pagi['Salinitas'] > (Q3 + 1.5 * IQR)))]\n",
        "\n",
        "# Check ukuran (baris dan kolom) setelah data yang outliers dibuang\n",
        "print('Shape akhir: ', kolam4pagiS.shape)"
      ],
      "execution_count": null,
      "outputs": [
        {
          "output_type": "stream",
          "text": [
            "Shape awal:  (41, 12)\n",
            "Shape akhir:  (37, 12)\n"
          ],
          "name": "stdout"
        }
      ]
    },
    {
      "cell_type": "code",
      "metadata": {
        "colab": {
          "base_uri": "https://localhost:8080/"
        },
        "id": "qXfIccSs3o3E",
        "outputId": "a09fc9a1-a6b6-4158-f011-d85ac06d3b57"
      },
      "source": [
        "##Remove Outlier Column Oksigen Terlarut\n",
        "# Q1, Q3, dan IQR\n",
        "Q1 = kolam4pagi['Oksigen Terlarut'].quantile(0.25)\n",
        "Q3 = kolam4pagi['Oksigen Terlarut'].quantile(0.75)\n",
        "IQR = Q3 - Q1\n",
        "\n",
        "# Check ukuran (baris dan kolom) sebelum data yang outliers dibuang\n",
        "print('Shape awal: ', kolam4pagi.shape)\n",
        "\n",
        "# Removing outliers\n",
        "kolam4pagiOT = kolam4pagi[~((kolam4pagi['Oksigen Terlarut'] < (Q1 - 1.5 * IQR)) | (kolam4pagi['Oksigen Terlarut'] > (Q3 + 1.5 * IQR)))]\n",
        "\n",
        "# Check ukuran (baris dan kolom) setelah data yang outliers dibuang\n",
        "print('Shape akhir: ', kolam4pagiOT.shape)"
      ],
      "execution_count": null,
      "outputs": [
        {
          "output_type": "stream",
          "text": [
            "Shape awal:  (41, 12)\n",
            "Shape akhir:  (40, 12)\n"
          ],
          "name": "stdout"
        }
      ]
    },
    {
      "cell_type": "code",
      "metadata": {
        "colab": {
          "base_uri": "https://localhost:8080/"
        },
        "id": "hGjTToxo3o3F",
        "outputId": "eda3424f-0477-49ba-c9ff-54a06d70aca6"
      },
      "source": [
        "##Remove Outlier Column pH\n",
        "# Q1, Q3, dan IQR\n",
        "Q1 = kolam4pagi['pH'].quantile(0.25)\n",
        "Q3 = kolam4pagi['pH'].quantile(0.75)\n",
        "IQR = Q3 - Q1\n",
        "\n",
        "# Check ukuran (baris dan kolom) sebelum data yang outliers dibuang\n",
        "print('Shape awal: ', kolam4pagi.shape)\n",
        "\n",
        "# Removing outliers\n",
        "kolam4pagipH = kolam4pagi[~((kolam4pagi['pH'] < (Q1 - 1.5 * IQR)) | (kolam4pagi['pH'] > (Q3 + 1.5 * IQR)))]\n",
        "\n",
        "# Check ukuran (baris dan kolom) setelah data yang outliers dibuang\n",
        "print('Shape akhir: ', kolam4pagipH.shape)"
      ],
      "execution_count": null,
      "outputs": [
        {
          "output_type": "stream",
          "text": [
            "Shape awal:  (41, 12)\n",
            "Shape akhir:  (38, 12)\n"
          ],
          "name": "stdout"
        }
      ]
    },
    {
      "cell_type": "code",
      "metadata": {
        "colab": {
          "base_uri": "https://localhost:8080/"
        },
        "id": "weN6VbJw3o3F",
        "outputId": "dbead63a-7531-4f6b-98b8-bb52eae40dd9"
      },
      "source": [
        "print('Mean Suhu Air', kolam4pagiSA['Suhu Air'].mean())\n",
        "print('Mean Oksigen Terlarut: ', kolam4pagiOT['Oksigen Terlarut'].mean())\n",
        "print('Mean Salinitas: ', kolam4pagiS['Salinitas'].mean())\n",
        "print('Mean pH: ', kolam4pagipH['pH'].mean())"
      ],
      "execution_count": null,
      "outputs": [
        {
          "output_type": "stream",
          "text": [
            "Mean Suhu Air 25.945249999999994\n",
            "Mean Oksigen Terlarut:  5.402750000000001\n",
            "Mean Salinitas:  27.329189189189194\n",
            "Mean pH:  7.56763157894737\n"
          ],
          "name": "stdout"
        }
      ]
    },
    {
      "cell_type": "markdown",
      "metadata": {
        "id": "CeqxokET3o3F"
      },
      "source": [
        "### **kolam4 Sore**"
      ]
    },
    {
      "cell_type": "code",
      "metadata": {
        "colab": {
          "base_uri": "https://localhost:8080/",
          "height": 203
        },
        "id": "wys5Trou3o3F",
        "outputId": "9f6cf32f-ee35-4fad-f22c-c96080585cac"
      },
      "source": [
        "kolam4sore= kolam4[kolam4['keterangan']=='Sore']\n",
        "kolam4sore.head()"
      ],
      "execution_count": null,
      "outputs": [
        {
          "output_type": "execute_result",
          "data": {
            "text/html": [
              "<div>\n",
              "<style scoped>\n",
              "    .dataframe tbody tr th:only-of-type {\n",
              "        vertical-align: middle;\n",
              "    }\n",
              "\n",
              "    .dataframe tbody tr th {\n",
              "        vertical-align: top;\n",
              "    }\n",
              "\n",
              "    .dataframe thead th {\n",
              "        text-align: right;\n",
              "    }\n",
              "</style>\n",
              "<table border=\"1\" class=\"dataframe\">\n",
              "  <thead>\n",
              "    <tr style=\"text-align: right;\">\n",
              "      <th></th>\n",
              "      <th>Waktu Pengukuran</th>\n",
              "      <th>Kode Siklus</th>\n",
              "      <th>Suhu Air</th>\n",
              "      <th>Oksigen Terlarut</th>\n",
              "      <th>Salinitas</th>\n",
              "      <th>pH</th>\n",
              "      <th>tahun</th>\n",
              "      <th>bulan</th>\n",
              "      <th>day</th>\n",
              "      <th>jam</th>\n",
              "      <th>keterangan</th>\n",
              "      <th>Kode Kolam</th>\n",
              "    </tr>\n",
              "  </thead>\n",
              "  <tbody>\n",
              "    <tr>\n",
              "      <th>458</th>\n",
              "      <td>2019-06-23 17:15:56+07:00</td>\n",
              "      <td>812</td>\n",
              "      <td>27.38</td>\n",
              "      <td>5.77</td>\n",
              "      <td>24.00</td>\n",
              "      <td>8.19</td>\n",
              "      <td>2019</td>\n",
              "      <td>6</td>\n",
              "      <td>23</td>\n",
              "      <td>17</td>\n",
              "      <td>Sore</td>\n",
              "      <td>4</td>\n",
              "    </tr>\n",
              "    <tr>\n",
              "      <th>459</th>\n",
              "      <td>2019-06-24 17:12:08+07:00</td>\n",
              "      <td>812</td>\n",
              "      <td>28.25</td>\n",
              "      <td>5.36</td>\n",
              "      <td>24.00</td>\n",
              "      <td>8.24</td>\n",
              "      <td>2019</td>\n",
              "      <td>6</td>\n",
              "      <td>24</td>\n",
              "      <td>17</td>\n",
              "      <td>Sore</td>\n",
              "      <td>4</td>\n",
              "    </tr>\n",
              "    <tr>\n",
              "      <th>465</th>\n",
              "      <td>2019-06-28 17:12:18+07:00</td>\n",
              "      <td>812</td>\n",
              "      <td>26.97</td>\n",
              "      <td>6.59</td>\n",
              "      <td>23.00</td>\n",
              "      <td>8.56</td>\n",
              "      <td>2019</td>\n",
              "      <td>6</td>\n",
              "      <td>28</td>\n",
              "      <td>17</td>\n",
              "      <td>Sore</td>\n",
              "      <td>4</td>\n",
              "    </tr>\n",
              "    <tr>\n",
              "      <th>486</th>\n",
              "      <td>2019-07-18 17:01:10+07:00</td>\n",
              "      <td>812</td>\n",
              "      <td>88.00</td>\n",
              "      <td>0.00</td>\n",
              "      <td>29.12</td>\n",
              "      <td>8.34</td>\n",
              "      <td>2019</td>\n",
              "      <td>7</td>\n",
              "      <td>18</td>\n",
              "      <td>17</td>\n",
              "      <td>Sore</td>\n",
              "      <td>4</td>\n",
              "    </tr>\n",
              "    <tr>\n",
              "      <th>487</th>\n",
              "      <td>2019-07-18 17:01:45+07:00</td>\n",
              "      <td>812</td>\n",
              "      <td>28.40</td>\n",
              "      <td>6.27</td>\n",
              "      <td>27.38</td>\n",
              "      <td>8.00</td>\n",
              "      <td>2019</td>\n",
              "      <td>7</td>\n",
              "      <td>18</td>\n",
              "      <td>17</td>\n",
              "      <td>Sore</td>\n",
              "      <td>4</td>\n",
              "    </tr>\n",
              "  </tbody>\n",
              "</table>\n",
              "</div>"
            ],
            "text/plain": [
              "             Waktu Pengukuran  Kode Siklus  ...  keterangan  Kode Kolam\n",
              "458 2019-06-23 17:15:56+07:00          812  ...        Sore           4\n",
              "459 2019-06-24 17:12:08+07:00          812  ...        Sore           4\n",
              "465 2019-06-28 17:12:18+07:00          812  ...        Sore           4\n",
              "486 2019-07-18 17:01:10+07:00          812  ...        Sore           4\n",
              "487 2019-07-18 17:01:45+07:00          812  ...        Sore           4\n",
              "\n",
              "[5 rows x 12 columns]"
            ]
          },
          "metadata": {
            "tags": []
          },
          "execution_count": 151
        }
      ]
    },
    {
      "cell_type": "code",
      "metadata": {
        "colab": {
          "base_uri": "https://localhost:8080/",
          "height": 295
        },
        "id": "7on7sJRj3o3F",
        "outputId": "93be0d51-f37d-4619-854c-265fc9cb578d"
      },
      "source": [
        "kolam4sore[['Suhu Air','Oksigen Terlarut','Salinitas','pH']].describe()"
      ],
      "execution_count": null,
      "outputs": [
        {
          "output_type": "execute_result",
          "data": {
            "text/html": [
              "<div>\n",
              "<style scoped>\n",
              "    .dataframe tbody tr th:only-of-type {\n",
              "        vertical-align: middle;\n",
              "    }\n",
              "\n",
              "    .dataframe tbody tr th {\n",
              "        vertical-align: top;\n",
              "    }\n",
              "\n",
              "    .dataframe thead th {\n",
              "        text-align: right;\n",
              "    }\n",
              "</style>\n",
              "<table border=\"1\" class=\"dataframe\">\n",
              "  <thead>\n",
              "    <tr style=\"text-align: right;\">\n",
              "      <th></th>\n",
              "      <th>Suhu Air</th>\n",
              "      <th>Oksigen Terlarut</th>\n",
              "      <th>Salinitas</th>\n",
              "      <th>pH</th>\n",
              "    </tr>\n",
              "  </thead>\n",
              "  <tbody>\n",
              "    <tr>\n",
              "      <th>count</th>\n",
              "      <td>34.000000</td>\n",
              "      <td>34.000000</td>\n",
              "      <td>34.000000</td>\n",
              "      <td>34.000000</td>\n",
              "    </tr>\n",
              "    <tr>\n",
              "      <th>mean</th>\n",
              "      <td>32.611471</td>\n",
              "      <td>8.093824</td>\n",
              "      <td>25.428824</td>\n",
              "      <td>7.490000</td>\n",
              "    </tr>\n",
              "    <tr>\n",
              "      <th>std</th>\n",
              "      <td>16.694797</td>\n",
              "      <td>2.620658</td>\n",
              "      <td>6.159046</td>\n",
              "      <td>1.773932</td>\n",
              "    </tr>\n",
              "    <tr>\n",
              "      <th>min</th>\n",
              "      <td>28.190000</td>\n",
              "      <td>4.300000</td>\n",
              "      <td>0.000000</td>\n",
              "      <td>2.860000</td>\n",
              "    </tr>\n",
              "    <tr>\n",
              "      <th>25%</th>\n",
              "      <td>29.300000</td>\n",
              "      <td>6.002500</td>\n",
              "      <td>25.630000</td>\n",
              "      <td>7.552500</td>\n",
              "    </tr>\n",
              "    <tr>\n",
              "      <th>50%</th>\n",
              "      <td>29.970000</td>\n",
              "      <td>7.690000</td>\n",
              "      <td>27.050000</td>\n",
              "      <td>8.135000</td>\n",
              "    </tr>\n",
              "    <tr>\n",
              "      <th>75%</th>\n",
              "      <td>30.377500</td>\n",
              "      <td>9.267500</td>\n",
              "      <td>27.967500</td>\n",
              "      <td>8.320000</td>\n",
              "    </tr>\n",
              "    <tr>\n",
              "      <th>max</th>\n",
              "      <td>127.000000</td>\n",
              "      <td>15.200000</td>\n",
              "      <td>29.660000</td>\n",
              "      <td>9.770000</td>\n",
              "    </tr>\n",
              "  </tbody>\n",
              "</table>\n",
              "</div>"
            ],
            "text/plain": [
              "         Suhu Air  Oksigen Terlarut  Salinitas         pH\n",
              "count   34.000000         34.000000  34.000000  34.000000\n",
              "mean    32.611471          8.093824  25.428824   7.490000\n",
              "std     16.694797          2.620658   6.159046   1.773932\n",
              "min     28.190000          4.300000   0.000000   2.860000\n",
              "25%     29.300000          6.002500  25.630000   7.552500\n",
              "50%     29.970000          7.690000  27.050000   8.135000\n",
              "75%     30.377500          9.267500  27.967500   8.320000\n",
              "max    127.000000         15.200000  29.660000   9.770000"
            ]
          },
          "metadata": {
            "tags": []
          },
          "execution_count": 29
        }
      ]
    },
    {
      "cell_type": "code",
      "metadata": {
        "colab": {
          "base_uri": "https://localhost:8080/",
          "height": 552
        },
        "id": "iVko1q-W3o3F",
        "outputId": "b97eabac-49a9-4da6-dde0-219584cd97a3"
      },
      "source": [
        "data = [kolam4sore['Suhu Air'], kolam4sore['Salinitas'], kolam4sore['Oksigen Terlarut'], kolam4sore['pH']]\n",
        " \n",
        "fig = plt.figure(figsize =(10, 7))\n",
        " \n",
        "# Creating axes instance\n",
        "ax = fig.add_axes([0, 0, 1, 1])\n",
        "\n",
        "ax.set_xticklabels(['Suhu Air', 'Salinitas',\n",
        "                    'Oksigen Terlarut', 'pH'])\n",
        " \n",
        "# Creating plot\n",
        "bp = ax.boxplot(data)\n",
        " \n",
        "# show plot\n",
        "plt.show()"
      ],
      "execution_count": null,
      "outputs": [
        {
          "output_type": "display_data",
          "data": {
            "image/png": "[encoded data removed]",
            "text/plain": [
              "<Figure size 720x504 with 1 Axes>"
            ]
          },
          "metadata": {
            "tags": [],
            "needs_background": "light"
          }
        }
      ]
    },
    {
      "cell_type": "code",
      "metadata": {
        "colab": {
          "base_uri": "https://localhost:8080/"
        },
        "id": "afWCEYK93o3G",
        "outputId": "c1b4edcb-dead-4bd7-cdb0-779759b6cc6f"
      },
      "source": [
        "##Remove Outlier Column Suhu Air\n",
        "# Q1, Q3, dan IQR\n",
        "Q1 = kolam4sore['Suhu Air'].quantile(0.25)\n",
        "Q3 = kolam4sore['Suhu Air'].quantile(0.75)\n",
        "IQR = Q3 - Q1\n",
        "\n",
        "# Check ukuran (baris dan kolom) sebelum data yang outliers dibuang\n",
        "print('Shape awal: ', kolam4sore.shape)\n",
        "\n",
        "# Removing outliers\n",
        "kolam4soreSA = kolam4sore[~((kolam4sore['Suhu Air'] < (Q1 - 1.5 * IQR)) | (kolam4sore['Suhu Air'] > (Q3 + 1.5 * IQR)))]\n",
        "\n",
        "# Check ukuran (baris dan kolom) setelah data yang outliers dibuang\n",
        "print('Shape akhir: ', kolam4soreSA.shape)"
      ],
      "execution_count": null,
      "outputs": [
        {
          "output_type": "stream",
          "text": [
            "Shape awal:  (13, 12)\n",
            "Shape akhir:  (11, 12)\n"
          ],
          "name": "stdout"
        }
      ]
    },
    {
      "cell_type": "code",
      "metadata": {
        "colab": {
          "base_uri": "https://localhost:8080/"
        },
        "id": "A1QSTEdK3o3G",
        "outputId": "ceecaa8d-e0e9-464a-ea9e-81bc24615e59"
      },
      "source": [
        "##Remove Outlier Column OT\n",
        "# Q1, Q3, dan IQR\n",
        "Q1 = kolam4sore['Oksigen Terlarut'].quantile(0.25)\n",
        "Q3 = kolam4sore['Oksigen Terlarut'].quantile(0.75)\n",
        "IQR = Q3 - Q1\n",
        "\n",
        "# Check ukuran (baris dan kolom) sebelum data yang outliers dibuang\n",
        "print('Shape awal: ', kolam4sore.shape)\n",
        "\n",
        "# Removing outliers\n",
        "kolam4soreOT = kolam4sore[~((kolam4sore['Oksigen Terlarut'] < (Q1 - 1.5 * IQR)) | (kolam4sore['Oksigen Terlarut'] > (Q3 + 1.5 * IQR)))]\n",
        "\n",
        "# Check ukuran (baris dan kolom) setelah data yang outliers dibuang\n",
        "print('Shape akhir: ', kolam4soreOT.shape)"
      ],
      "execution_count": null,
      "outputs": [
        {
          "output_type": "stream",
          "text": [
            "Shape awal:  (13, 12)\n",
            "Shape akhir:  (11, 12)\n"
          ],
          "name": "stdout"
        }
      ]
    },
    {
      "cell_type": "code",
      "metadata": {
        "colab": {
          "base_uri": "https://localhost:8080/"
        },
        "id": "ftNVvksI3o3G",
        "outputId": "7baef245-d0c4-417c-e289-f81df05101b6"
      },
      "source": [
        "##Remove Outlier Column pH\n",
        "# Q1, Q3, dan IQR\n",
        "Q1 = kolam4sore['pH'].quantile(0.25)\n",
        "Q3 = kolam4sore['pH'].quantile(0.75)\n",
        "IQR = Q3 - Q1\n",
        "\n",
        "# Check ukuran (baris dan kolom) sebelum data yang outliers dibuang\n",
        "print('Shape awal: ', kolam4sore.shape)\n",
        "\n",
        "# Removing outliers\n",
        "kolam4sorepH = kolam4sore[~((kolam4sore['pH'] < (Q1 - 1.5 * IQR)) | (kolam4sore['pH'] > (Q3 + 1.5 * IQR)))]\n",
        "\n",
        "# Check ukuran (baris dan kolom) setelah data yang outliers dibuang\n",
        "print('Shape akhir: ', kolam4sorepH.shape)"
      ],
      "execution_count": null,
      "outputs": [
        {
          "output_type": "stream",
          "text": [
            "Shape awal:  (13, 12)\n",
            "Shape akhir:  (12, 12)\n"
          ],
          "name": "stdout"
        }
      ]
    },
    {
      "cell_type": "code",
      "metadata": {
        "colab": {
          "base_uri": "https://localhost:8080/"
        },
        "id": "AdundnY43o3G",
        "outputId": "2bb4320d-45c7-472a-9b44-e87dca14ebc9"
      },
      "source": [
        "print('Mean Suhu Air: ', kolam4soreSA['Suhu Air'].mean())\n",
        "print('Mean Oksigen Terlarut: ', kolam4soreOT['Oksigen Terlarut'].mean())\n",
        "print('Mean Salinitas: ', kolam4sore['Salinitas'].mean())\n",
        "print('Mean pH: ', kolam4sorepH['pH'].mean())"
      ],
      "execution_count": null,
      "outputs": [
        {
          "output_type": "stream",
          "text": [
            "Mean Suhu Air:  27.916363636363634\n",
            "Mean Oksigen Terlarut:  6.705454545454546\n",
            "Mean Salinitas:  26.855384615384615\n",
            "Mean pH:  8.163333333333332\n"
          ],
          "name": "stdout"
        }
      ]
    },
    {
      "cell_type": "code",
      "metadata": {
        "id": "N3zaZ5F6o3DY"
      },
      "source": [
        ""
      ],
      "execution_count": null,
      "outputs": []
    },
    {
      "cell_type": "code",
      "metadata": {
        "id": "dxBmTd6ao2_g"
      },
      "source": [
        ""
      ],
      "execution_count": null,
      "outputs": []
    },
    {
      "cell_type": "code",
      "metadata": {
        "id": "eHP8rgwno27O"
      },
      "source": [
        ""
      ],
      "execution_count": null,
      "outputs": []
    },
    {
      "cell_type": "code",
      "metadata": {
        "id": "GPw-iObpo2yG"
      },
      "source": [
        ""
      ],
      "execution_count": null,
      "outputs": []
    }
  ]
}